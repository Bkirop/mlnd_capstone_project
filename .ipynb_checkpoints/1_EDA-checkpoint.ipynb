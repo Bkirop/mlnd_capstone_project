{
 "cells": [
  {
   "cell_type": "markdown",
   "metadata": {
    "nbpresent": {
     "id": "9a756d59-eaac-4096-9072-3b2d0b4e33ae"
    }
   },
   "source": [
    "# EDA"
   ]
  },
  {
   "cell_type": "markdown",
   "metadata": {
    "nbpresent": {
     "id": "232f182a-5024-4d1a-bbf9-43b27a942cad"
    }
   },
   "source": [
    "This notebook contains all the exploratory work done for the project. Its main results and insights are presenten in the final report under the *Analysis* section.\n",
    "\n",
    "We will follow the suggested order from the report template made available by Udacity.\n",
    "\n",
    "First, we will do a thorough exploration of  the dataset. Looking into each feature –specially the categorical ones– and their respective values. Here, our goal will be to understand how the possible values for each feature are distributed, what represent a null or empty value for each feature and how should we treat it. We will also try to understand what constitutes an outlier, both at the feature and the sample level. As a result, we will be able to curate the data in a suitable way for the later model.\n",
    "\n",
    "<span style=\"color:red\">**IMPROVE THIS DESCRIPTION**</span>"
   ]
  },
  {
   "cell_type": "markdown",
   "metadata": {
    "nbpresent": {
     "id": "e700f989-0b2b-4cc6-9614-77476c23e0c4"
    }
   },
   "source": [
    "## I. Data Exploration"
   ]
  },
  {
   "cell_type": "markdown",
   "metadata": {
    "heading_collapsed": true,
    "nbpresent": {
     "id": "ec024799-a91a-422a-9e7d-021b983fa09e"
    }
   },
   "source": [
    "### Initialization and Data Loading"
   ]
  },
  {
   "cell_type": "markdown",
   "metadata": {
    "hidden": true,
    "nbpresent": {
     "id": "d1c8ebd4-351a-4db1-8807-431498a82836"
    }
   },
   "source": [
    "First, lets import all the libraries we will use in notebook and define some utility functions."
   ]
  },
  {
   "cell_type": "code",
   "execution_count": 6,
   "metadata": {
    "ExecuteTime": {
     "end_time": "2018-08-30T02:38:31.536019Z",
     "start_time": "2018-08-30T02:38:24.762518Z"
    },
    "hidden": true,
    "nbpresent": {
     "id": "a04f2e6e-7e84-4ec1-82a8-4e2de7013091"
    }
   },
   "outputs": [],
   "source": [
    "import numpy as np\n",
    "import pandas as pd\n",
    "import seaborn as sns\n",
    "from matplotlib import pyplot as plt\n",
    "from IPython.display import Markdown, display\n",
    "\n",
    "%matplotlib inline\n",
    "\n",
    "plt.style.use('seaborn-whitegrid')\n",
    "\n",
    "# Primt markdown programatically for better visualization.\n",
    "def printmd(string):\n",
    "    display(Markdown(string))\n",
    "\n",
    "# Plots and creates labels for values plotted.\n",
    "def plot_and_annotate(data, **kwarg):\n",
    "    ax = data['percent'].sort_values().plot(kind='barh', color='b', **kwarg)\n",
    "    for p in ax.patches:\n",
    "        width = p.get_width()\n",
    "        plt.text(5+p.get_width(), p.get_y()+0.55*p.get_height(),\n",
    "             '{:1.2f}%'.format(width),\n",
    "             ha='center', va='center')\n",
    "        \n",
    "\n",
    "crash_data = pd.read_csv('Crash_Analysis_System_CAS_data.csv')\n",
    "#Data must be loaded before definin create_plot_data due to inside reference.        \n",
    "def create_plot_data(feature):\n",
    "    values = crash_data[feature].value_counts()\n",
    "    plot_data = values.to_frame(feature)\n",
    "    plot_data['percent'] = values.apply(lambda _: _ / crash_data.shape[0] * 100)\n",
    "    return plot_data"
   ]
  },
  {
   "cell_type": "code",
   "execution_count": 2,
   "metadata": {
    "ExecuteTime": {
     "end_time": "2018-08-30T02:37:59.408603Z",
     "start_time": "2018-08-30T02:37:59.405832Z"
    },
    "hidden": true,
    "nbpresent": {
     "id": "df59dd72-ae6b-4123-a863-9b4997199aff"
    }
   },
   "outputs": [
    {
     "name": "stdout",
     "output_type": "stream",
     "text": [
      "The dataset has 655,697 samples and 89 features\n"
     ]
    }
   ],
   "source": [
    "print('The dataset has {:3,d} samples and {} features'.format(*crash_data.shape))"
   ]
  },
  {
   "cell_type": "markdown",
   "metadata": {
    "heading_collapsed": true,
    "nbpresent": {
     "id": "88e9e187-c14a-4176-b038-e0c197435dd5"
    }
   },
   "source": [
    "### Removal of Non Relevant Features"
   ]
  },
  {
   "cell_type": "markdown",
   "metadata": {
    "hidden": true,
    "nbpresent": {
     "id": "7cfc30f6-b19a-4b49-a5b2-74ba650688b6"
    }
   },
   "source": [
    "Our dataset is quite big, but still manageable without any parallelization. It contains 655,697 samples. Each with 89 features. However, not all these features will be useful or relevant towards our goal. the file *Crash_Analysis_System_CAS_data.pdf* –available in the root of the project's repository– contains a description of each feature and is provided by the New Zealand Transport Agency. We have used it to do a first pass of the list of features –together with their definition– and have identified some feature we can disregard from the outset. You are encouraged to do a quick read of the document to better understand these features."
   ]
  },
  {
   "cell_type": "markdown",
   "metadata": {
    "ExecuteTime": {
     "end_time": "2018-08-25T14:56:38.779489Z",
     "start_time": "2018-08-25T14:56:38.773695Z"
    },
    "hidden": true,
    "nbpresent": {
     "id": "36b1466d-1480-442b-9756-640192fb668c"
    }
   },
   "source": [
    "These are the features we will remove and the motivation behind each one:\n",
    "\n",
    "* **_crashFinancialYear_**: we already have the specific year of the crash in the feature *crashYear*.\n",
    "* **_tlaID_**: this is the ID of the *Territorial Local Authority*. Since we will use the feature *tlaName* for a better understanding of the data, we will disregard this one as it becomes redundant.\n",
    "* **_areaUnitID_**: by reading the definition of this feature, it’s not clear enough what it represents or how it might be relevant towards our goal. Therefore, we will also disregard it in the name of data sanity.\n",
    "* **_meshblockID_**, **_easting_**, **_northing_**, **_crashRSRP_**, **_crashDirectionDescription_**, **_crashDistance_**, **_crashRPDescription_**, **_crashLocation1_**, **_crashLocation2_**, **_outdatedLocationDescription_**: although each of these features have value for different purposes, they correspond mainly to reference data used by the NZ Transport Agency and do not correspond to data from the crash itself."
   ]
  },
  {
   "cell_type": "markdown",
   "metadata": {
    "nbpresent": {
     "id": "6dbc48a4-51d2-4ffd-9a11-31691c809b54"
    }
   },
   "source": [
    "### In-depth Exploration of Features"
   ]
  },
  {
   "cell_type": "markdown",
   "metadata": {
    "nbpresent": {
     "id": "003baad5-c9fc-4522-b8b8-7069384c3662"
    }
   },
   "source": [
    "First, we show all the posible values (with their respective counts) for each categorical feature and then we explore each one individually. Aditionally, we fill al NA values withe the string `N/A` to get full visibility of missing values."
   ]
  },
  {
   "cell_type": "code",
   "execution_count": 7,
   "metadata": {
    "ExecuteTime": {
     "end_time": "2018-08-30T02:38:37.949493Z",
     "start_time": "2018-08-30T02:38:35.596708Z"
    }
   },
   "outputs": [],
   "source": [
    "crash_data.fillna('N/A', inplace=True)"
   ]
  },
  {
   "cell_type": "markdown",
   "metadata": {
    "nbpresent": {
     "id": "98920531-0f5f-40c5-a73e-f0ce7c058cc3"
    }
   },
   "source": [
    "From this point forward, we will use a feature catalog, which is a distilled version of the PDF from above. The catalog will be useful to keep track of all the features, their meaning and type, and the data type of their values. we will use it as a reference throughout the project and it will be useful should you have any question about the dataset.\n",
    "\n",
    "The catalog is a tab-separated file named *features_description.tsv*. You ca find in the root of the project's repository."
   ]
  },
  {
   "cell_type": "code",
   "execution_count": 8,
   "metadata": {
    "ExecuteTime": {
     "end_time": "2018-08-30T02:38:42.240873Z",
     "start_time": "2018-08-30T02:38:42.236058Z"
    },
    "nbpresent": {
     "id": "48d6d041-2803-4599-b6f2-d056a5f7157a"
    },
    "scrolled": false
   },
   "outputs": [],
   "source": [
    "features_catalog = pd.read_table('features_description.tsv')"
   ]
  },
  {
   "cell_type": "markdown",
   "metadata": {
    "ExecuteTime": {
     "end_time": "2018-08-26T20:28:27.584360Z",
     "start_time": "2018-08-26T20:28:27.530492Z"
    },
    "heading_collapsed": true,
    "nbpresent": {
     "id": "56886c6a-d017-4cfd-837e-158044bc5a4d"
    }
   },
   "source": [
    "#### crashSeverity"
   ]
  },
  {
   "cell_type": "markdown",
   "metadata": {
    "hidden": true,
    "nbpresent": {
     "id": "86a8d758-93af-4adc-9367-dfce63aaef6e"
    }
   },
   "source": [
    "Since this is our target feature for the final model, it makes sense to start with it."
   ]
  },
  {
   "cell_type": "code",
   "execution_count": 26,
   "metadata": {
    "ExecuteTime": {
     "end_time": "2018-08-30T02:46:26.598129Z",
     "start_time": "2018-08-30T02:46:26.409299Z"
    },
    "hidden": true,
    "nbpresent": {
     "id": "9a9797c6-3bf8-415b-bf6e-48eec22b81f8"
    }
   },
   "outputs": [
    {
     "data": {
      "image/png": "[encoded data removed]",
      "text/plain": [
       "<matplotlib.figure.Figure at 0x1a62feb2b0>"
      ]
     },
     "metadata": {},
     "output_type": "display_data"
    }
   ],
   "source": [
    "plot_data = create_plot_data('crashSeverity')\n",
    "plot_and_annotate(plot_data)"
   ]
  },
  {
   "cell_type": "markdown",
   "metadata": {
    "hidden": true,
    "nbpresent": {
     "id": "b7f339b5-cc95-4972-b745-82d1738ea6fc"
    }
   },
   "source": [
    "The first thing that we notice is the astonishing small number of fatal crashes there has been; considering this is data going back to the year 2000.\n",
    "\n",
    "Also, it is important to note here –as the NZ Transport Agency warns– that the reporting of crashes increses with their severity. Meaning that all *fatal* crash have been most likely be reported, but that there will be *Non Fatal* and *Minor* crashes that weren't reported. This decision falls somewhat to the person in charge of responding to the crash.\n",
    "\n",
    "However, the most important thing to notice is how these classes are distributed and the imbalance between them. Since we want to predict these classes, and because the dispatched response would be very different depending on our prediction, we definitely need to be very carefull about how we measure the performance of our model.\n",
    "\n",
    "To this end, and considering we will be trying different models, we will rely on an array of performance metrics that will help us evaluate and chose the best model for the task. Namely, for each algorithm, we will analyze the following performance metrics:\n",
    "* Accuracy\n",
    "* Precision\n",
    "* Recall\n",
    "* F-Score\n",
    "* Specificity\n",
    "* AUC ROC\n",
    "\n",
    "Each of these metrics will provide valuable insight into the performance of each model and the aspects each one prioritized.\n",
    "\n",
    "Finally, due to the lack of balance of these values, we will explore a few techniques to remedy the situation. <span style=\"color: red\">CHECK FOR UNDERSAMPLING N</span>"
   ]
  },
  {
   "cell_type": "markdown",
   "metadata": {
    "heading_collapsed": true,
    "nbpresent": {
     "id": "45435375-2890-4578-ac52-273ac788ab7a"
    }
   },
   "source": [
    "#### multiVehicle"
   ]
  },
  {
   "cell_type": "code",
   "execution_count": 10,
   "metadata": {
    "ExecuteTime": {
     "end_time": "2018-08-30T02:38:49.612176Z",
     "start_time": "2018-08-30T02:38:49.370698Z"
    },
    "hidden": true,
    "nbpresent": {
     "id": "3e2f2c78-85c3-4ad5-885c-141e1c207833"
    }
   },
   "outputs": [
    {
     "data": {
      "image/png": "[encoded data removed]",
      "text/plain": [
       "<matplotlib.figure.Figure at 0x1a1552c4e0>"
      ]
     },
     "metadata": {},
     "output_type": "display_data"
    }
   ],
   "source": [
    "plot_data = create_plot_data('multiVehicle')\n",
    "plot_and_annotate(plot_data)"
   ]
  },
  {
   "cell_type": "markdown",
   "metadata": {
    "hidden": true,
    "nbpresent": {
     "id": "35382387-de71-47a2-af1b-4154a4e3883c"
    }
   },
   "source": [
    "This feature doesn't raise any alarm or suspitions with regard to its values. But we do take notice of its distribution. This will be helpful later when we look back into this in combination with other features."
   ]
  },
  {
   "cell_type": "markdown",
   "metadata": {
    "heading_collapsed": true,
    "nbpresent": {
     "id": "9effcfed-9177-4b53-86cb-7314a4d98507"
    }
   },
   "source": [
    "#### holiday"
   ]
  },
  {
   "cell_type": "code",
   "execution_count": 27,
   "metadata": {
    "ExecuteTime": {
     "end_time": "2018-08-30T02:46:59.736783Z",
     "start_time": "2018-08-30T02:46:59.545406Z"
    },
    "hidden": true,
    "nbpresent": {
     "id": "69e744fb-0e54-4f53-8565-57a0739dc9de"
    }
   },
   "outputs": [
    {
     "data": {
      "image/png": "[encoded data removed]",
      "text/plain": [
       "<matplotlib.figure.Figure at 0x1a63f63128>"
      ]
     },
     "metadata": {},
     "output_type": "display_data"
    }
   ],
   "source": [
    "plot_data = create_plot_data('holiday')\n",
    "plot_and_annotate(plot_data)"
   ]
  },
  {
   "cell_type": "markdown",
   "metadata": {
    "hidden": true
   },
   "source": [
    "Here we see something interesting. A quick search on the web will show that the Kiwis have a descent level of alcohol consumption. In fact, they have some of the finest Pinot Noir of the world. Yet we see that almost all crashes happened on a regular day; as oposed to some holiday. <span style=\"color:red\">Acutally –and we will show this later– this hold regardless of the serverity of the crash.</span>\n",
    "\n",
    "besides from this observation, the feature doesn't present any abnormalities."
   ]
  },
  {
   "cell_type": "markdown",
   "metadata": {
    "heading_collapsed": true
   },
   "source": [
    "#### regionDesc"
   ]
  },
  {
   "cell_type": "code",
   "execution_count": 28,
   "metadata": {
    "ExecuteTime": {
     "end_time": "2018-08-30T02:47:11.087106Z",
     "start_time": "2018-08-30T02:47:10.817439Z"
    },
    "hidden": true
   },
   "outputs": [
    {
     "data": {
      "image/png": "[encoded data removed]",
      "text/plain": [
       "<matplotlib.figure.Figure at 0x1a5b97e2b0>"
      ]
     },
     "metadata": {},
     "output_type": "display_data"
    }
   ],
   "source": [
    "plot_data = create_plot_data('regionDesc')\n",
    "plot_and_annotate(plot_data)"
   ]
  },
  {
   "cell_type": "markdown",
   "metadata": {
    "hidden": true
   },
   "source": [
    "This features shows fair consistency with population density throughout the country. It will be interesting to see how the other feature behave with regard to this one. More about this later on."
   ]
  },
  {
   "cell_type": "markdown",
   "metadata": {
    "heading_collapsed": true
   },
   "source": [
    "#### tlaName"
   ]
  },
  {
   "cell_type": "markdown",
   "metadata": {
    "hidden": true
   },
   "source": [
    "As the catalog describes, this feature indicates the local authority that oversaw the crash and the following procedures. Therefore, for almost every case, the tlaName will be a district withing the region of the crash.\n",
    "\n",
    "However, for some cases, the tlaName will be a distrcit that doesn't belong to the region indicated for the crash. We understand that these cases correspond to crashes that happened close to the border between two regions and for some unknown reason, the TLA that responded to the crash was from another region from where the crash happened. We will consider this as of no consequence."
   ]
  },
  {
   "cell_type": "markdown",
   "metadata": {
    "heading_collapsed": true
   },
   "source": [
    "#### intersection"
   ]
  },
  {
   "cell_type": "code",
   "execution_count": 29,
   "metadata": {
    "ExecuteTime": {
     "end_time": "2018-08-30T02:47:31.314236Z",
     "start_time": "2018-08-30T02:47:31.118094Z"
    },
    "hidden": true,
    "scrolled": true
   },
   "outputs": [
    {
     "data": {
      "image/png": "[encoded data removed]",
      "text/plain": [
       "<matplotlib.figure.Figure at 0x1a11bd97b8>"
      ]
     },
     "metadata": {},
     "output_type": "display_data"
    }
   ],
   "source": [
    "plot_data = create_plot_data('intersection')\n",
    "plot_and_annotate(plot_data)"
   ]
  },
  {
   "cell_type": "markdown",
   "metadata": {
    "hidden": true
   },
   "source": [
    "This feature doesn't present anything strange or special. One could argue though that the value *Unknown* deserves some special treatment. However, the NZ Transport Agency has defined it in the PDF as a proper value, giving it complete legitamecy."
   ]
  },
  {
   "cell_type": "markdown",
   "metadata": {
    "heading_collapsed": true
   },
   "source": [
    "#### junctionType"
   ]
  },
  {
   "cell_type": "code",
   "execution_count": 30,
   "metadata": {
    "ExecuteTime": {
     "end_time": "2018-08-30T02:47:44.386281Z",
     "start_time": "2018-08-30T02:47:44.163641Z"
    },
    "hidden": true
   },
   "outputs": [
    {
     "data": {
      "image/png": "[encoded data removed]",
      "text/plain": [
       "<matplotlib.figure.Figure at 0x1a11bd9cc0>"
      ]
     },
     "metadata": {},
     "output_type": "display_data"
    }
   ],
   "source": [
    "plot_data = create_plot_data('junctionType')\n",
    "plot_and_annotate(plot_data)"
   ]
  },
  {
   "cell_type": "markdown",
   "metadata": {
    "hidden": true
   },
   "source": [
    "Again, as with *intersection*, the value *Unknown* is completely legitimate. Moreover, these two fetures are used in tandem to define a derived feature *intersectionMidblock*; so we musn't meddle with them."
   ]
  },
  {
   "cell_type": "markdown",
   "metadata": {
    "heading_collapsed": true
   },
   "source": [
    "#### cornerRoadSideRoad"
   ]
  },
  {
   "cell_type": "code",
   "execution_count": 31,
   "metadata": {
    "ExecuteTime": {
     "end_time": "2018-08-30T02:47:54.209360Z",
     "start_time": "2018-08-30T02:47:54.062483Z"
    },
    "hidden": true
   },
   "outputs": [
    {
     "data": {
      "image/png": "[encoded data removed]",
      "text/plain": [
       "<matplotlib.figure.Figure at 0x1a5aa16240>"
      ]
     },
     "metadata": {},
     "output_type": "display_data"
    }
   ],
   "source": [
    "plot_data = create_plot_data('cornerRoadSideRoad')\n",
    "plot_and_annotate(plot_data)"
   ]
  },
  {
   "cell_type": "markdown",
   "metadata": {
    "hidden": true
   },
   "source": [
    "Here we finally see something that required our attention. First, let us clarify that the name of this feature in the dataset corresponds to the feature refered to as Crash *Road Side Road (CR_RD_SIDE_RD)* from the PDF. In the PDF, it says that the possible values are either `1`or `2`. But here we find that there are some cases with values `0` –which comes directly from the dataset– and with `N/A` –which was our way to denote missing values. In any case, the data set has samples that contain two values that are not included in the feature's definition. So we definitely need to take some action in this case.\n",
    "\n",
    "By looking at the plot above, we see that these two strange values occur on a very small number of samples, but lets see on how many exactly:"
   ]
  },
  {
   "cell_type": "code",
   "execution_count": 16,
   "metadata": {
    "ExecuteTime": {
     "end_time": "2018-08-30T02:39:06.229205Z",
     "start_time": "2018-08-30T02:39:06.221615Z"
    },
    "hidden": true
   },
   "outputs": [
    {
     "data": {
      "text/html": [
       "<div>\n",
       "<style scoped>\n",
       "    .dataframe tbody tr th:only-of-type {\n",
       "        vertical-align: middle;\n",
       "    }\n",
       "\n",
       "    .dataframe tbody tr th {\n",
       "        vertical-align: top;\n",
       "    }\n",
       "\n",
       "    .dataframe thead th {\n",
       "        text-align: right;\n",
       "    }\n",
       "</style>\n",
       "<table border=\"1\" class=\"dataframe\">\n",
       "  <thead>\n",
       "    <tr style=\"text-align: right;\">\n",
       "      <th></th>\n",
       "      <th>cornerRoadSideRoad</th>\n",
       "      <th>percent</th>\n",
       "    </tr>\n",
       "  </thead>\n",
       "  <tbody>\n",
       "    <tr>\n",
       "      <th>1.0</th>\n",
       "      <td>610996</td>\n",
       "      <td>93.182674</td>\n",
       "    </tr>\n",
       "    <tr>\n",
       "      <th>2.0</th>\n",
       "      <td>44696</td>\n",
       "      <td>6.816563</td>\n",
       "    </tr>\n",
       "    <tr>\n",
       "      <th>0.0</th>\n",
       "      <td>3</td>\n",
       "      <td>0.000458</td>\n",
       "    </tr>\n",
       "    <tr>\n",
       "      <th>N/A</th>\n",
       "      <td>2</td>\n",
       "      <td>0.000305</td>\n",
       "    </tr>\n",
       "  </tbody>\n",
       "</table>\n",
       "</div>"
      ],
      "text/plain": [
       "     cornerRoadSideRoad    percent\n",
       "1.0              610996  93.182674\n",
       "2.0               44696   6.816563\n",
       "0.0                   3   0.000458\n",
       "N/A                   2   0.000305"
      ]
     },
     "execution_count": 16,
     "metadata": {},
     "output_type": "execute_result"
    }
   ],
   "source": [
    "plot_data"
   ]
  },
  {
   "cell_type": "markdown",
   "metadata": {
    "hidden": true
   },
   "source": [
    "Ok, so we only have five anomalous samples. three for the value `0` and two that were missing values originally.\n",
    "\n",
    "One option would be to remove these five samples from the dataset altogether.\n",
    "\n",
    "Another options would be to fill these cases with an appropriate value. However, we have no criteria to choose such a value. Besides these few cases only represent an infinitesimal portion of the dataset.\n",
    "\n",
    "As a final check before removing them, let us see what is the creash severity for these cases."
   ]
  },
  {
   "cell_type": "code",
   "execution_count": 18,
   "metadata": {
    "ExecuteTime": {
     "end_time": "2018-08-30T02:39:19.718268Z",
     "start_time": "2018-08-30T02:39:19.682785Z"
    },
    "hidden": true
   },
   "outputs": [
    {
     "data": {
      "text/html": [
       "<div>\n",
       "<style scoped>\n",
       "    .dataframe tbody tr th:only-of-type {\n",
       "        vertical-align: middle;\n",
       "    }\n",
       "\n",
       "    .dataframe tbody tr th {\n",
       "        vertical-align: top;\n",
       "    }\n",
       "\n",
       "    .dataframe thead th {\n",
       "        text-align: right;\n",
       "    }\n",
       "</style>\n",
       "<table border=\"1\" class=\"dataframe\">\n",
       "  <thead>\n",
       "    <tr style=\"text-align: right;\">\n",
       "      <th></th>\n",
       "      <th>cornerRoadSideRoad</th>\n",
       "      <th>crashSeverity</th>\n",
       "    </tr>\n",
       "  </thead>\n",
       "  <tbody>\n",
       "    <tr>\n",
       "      <th>21021</th>\n",
       "      <td>0</td>\n",
       "      <td>N</td>\n",
       "    </tr>\n",
       "    <tr>\n",
       "      <th>26595</th>\n",
       "      <td>0</td>\n",
       "      <td>N</td>\n",
       "    </tr>\n",
       "    <tr>\n",
       "      <th>547028</th>\n",
       "      <td>N/A</td>\n",
       "      <td>N</td>\n",
       "    </tr>\n",
       "    <tr>\n",
       "      <th>583837</th>\n",
       "      <td>N/A</td>\n",
       "      <td>N</td>\n",
       "    </tr>\n",
       "    <tr>\n",
       "      <th>630452</th>\n",
       "      <td>0</td>\n",
       "      <td>N</td>\n",
       "    </tr>\n",
       "  </tbody>\n",
       "</table>\n",
       "</div>"
      ],
      "text/plain": [
       "       cornerRoadSideRoad crashSeverity\n",
       "21021                   0             N\n",
       "26595                   0             N\n",
       "547028                N/A             N\n",
       "583837                N/A             N\n",
       "630452                  0             N"
      ]
     },
     "execution_count": 18,
     "metadata": {},
     "output_type": "execute_result"
    }
   ],
   "source": [
    "mask = crash_data[crash_data['cornerRoadSideRoad'].isin([0, 'N/A'])]\n",
    "mask[['cornerRoadSideRoad', 'crashSeverity']]"
   ]
  },
  {
   "cell_type": "markdown",
   "metadata": {
    "hidden": true
   },
   "source": [
    "Great. They all correspond to *non-injury* cases. Since this is the class that has the most cases, we can go ahead and remove them without any significant loss of information."
   ]
  },
  {
   "cell_type": "code",
   "execution_count": 19,
   "metadata": {
    "ExecuteTime": {
     "end_time": "2018-08-30T02:39:22.300855Z",
     "start_time": "2018-08-30T02:39:21.872992Z"
    },
    "hidden": true
   },
   "outputs": [],
   "source": [
    "crash_data.drop(mask.index, inplace=True)"
   ]
  },
  {
   "cell_type": "markdown",
   "metadata": {
    "ExecuteTime": {
     "end_time": "2018-08-27T03:00:20.159682Z",
     "start_time": "2018-08-27T03:00:20.155370Z"
    },
    "hidden": true
   },
   "source": [
    "---"
   ]
  },
  {
   "cell_type": "markdown",
   "metadata": {
    "heading_collapsed": true
   },
   "source": [
    "#### directionRoleDescription"
   ]
  },
  {
   "cell_type": "code",
   "execution_count": 20,
   "metadata": {
    "ExecuteTime": {
     "end_time": "2018-08-30T02:39:25.271170Z",
     "start_time": "2018-08-30T02:39:25.006810Z"
    },
    "hidden": true,
    "scrolled": false
   },
   "outputs": [
    {
     "data": {
      "image/png": "[encoded data removed]",
      "text/plain": [
       "<matplotlib.figure.Figure at 0x1a1039c080>"
      ]
     },
     "metadata": {},
     "output_type": "display_data"
    }
   ],
   "source": [
    "plot_data = create_plot_data('directionRoleDescription')\n",
    "plot_and_annotate(plot_data)"
   ]
  },
  {
   "cell_type": "markdown",
   "metadata": {
    "hidden": true
   },
   "source": [
    "Once again, wee see a value that is not mentioned in the feature's definition: `Unknown`. Also, like before, this value occurs on a very small number of samples. So we repeat the same procedure we followed for the previous feature.\n",
    "\n",
    "Lets see precisely how many samples are there for this value:"
   ]
  },
  {
   "cell_type": "code",
   "execution_count": 21,
   "metadata": {
    "ExecuteTime": {
     "end_time": "2018-08-30T02:40:15.957403Z",
     "start_time": "2018-08-30T02:40:15.950397Z"
    },
    "hidden": true,
    "scrolled": true
   },
   "outputs": [
    {
     "data": {
      "text/html": [
       "<div>\n",
       "<style scoped>\n",
       "    .dataframe tbody tr th:only-of-type {\n",
       "        vertical-align: middle;\n",
       "    }\n",
       "\n",
       "    .dataframe tbody tr th {\n",
       "        vertical-align: top;\n",
       "    }\n",
       "\n",
       "    .dataframe thead th {\n",
       "        text-align: right;\n",
       "    }\n",
       "</style>\n",
       "<table border=\"1\" class=\"dataframe\">\n",
       "  <thead>\n",
       "    <tr style=\"text-align: right;\">\n",
       "      <th></th>\n",
       "      <th>directionRoleDescription</th>\n",
       "      <th>percent</th>\n",
       "    </tr>\n",
       "  </thead>\n",
       "  <tbody>\n",
       "    <tr>\n",
       "      <th>North</th>\n",
       "      <td>201212</td>\n",
       "      <td>30.686969</td>\n",
       "    </tr>\n",
       "    <tr>\n",
       "      <th>South</th>\n",
       "      <td>190989</td>\n",
       "      <td>29.127853</td>\n",
       "    </tr>\n",
       "    <tr>\n",
       "      <th>East</th>\n",
       "      <td>132506</td>\n",
       "      <td>20.208574</td>\n",
       "    </tr>\n",
       "    <tr>\n",
       "      <th>West</th>\n",
       "      <td>130979</td>\n",
       "      <td>19.975690</td>\n",
       "    </tr>\n",
       "    <tr>\n",
       "      <th>Unknown</th>\n",
       "      <td>6</td>\n",
       "      <td>0.000915</td>\n",
       "    </tr>\n",
       "  </tbody>\n",
       "</table>\n",
       "</div>"
      ],
      "text/plain": [
       "         directionRoleDescription    percent\n",
       "North                      201212  30.686969\n",
       "South                      190989  29.127853\n",
       "East                       132506  20.208574\n",
       "West                       130979  19.975690\n",
       "Unknown                         6   0.000915"
      ]
     },
     "execution_count": 21,
     "metadata": {},
     "output_type": "execute_result"
    }
   ],
   "source": [
    "plot_data"
   ]
  },
  {
   "cell_type": "markdown",
   "metadata": {
    "hidden": true
   },
   "source": [
    "Ok, only 6 cases. Lets check the crash severity for these cases."
   ]
  },
  {
   "cell_type": "code",
   "execution_count": 24,
   "metadata": {
    "ExecuteTime": {
     "end_time": "2018-08-30T02:40:54.557232Z",
     "start_time": "2018-08-30T02:40:54.503930Z"
    },
    "hidden": true
   },
   "outputs": [
    {
     "data": {
      "text/html": [
       "<div>\n",
       "<style scoped>\n",
       "    .dataframe tbody tr th:only-of-type {\n",
       "        vertical-align: middle;\n",
       "    }\n",
       "\n",
       "    .dataframe tbody tr th {\n",
       "        vertical-align: top;\n",
       "    }\n",
       "\n",
       "    .dataframe thead th {\n",
       "        text-align: right;\n",
       "    }\n",
       "</style>\n",
       "<table border=\"1\" class=\"dataframe\">\n",
       "  <thead>\n",
       "    <tr style=\"text-align: right;\">\n",
       "      <th></th>\n",
       "      <th>directionRoleDescription</th>\n",
       "      <th>crashSeverity</th>\n",
       "    </tr>\n",
       "  </thead>\n",
       "  <tbody>\n",
       "    <tr>\n",
       "      <th>8023</th>\n",
       "      <td>Unknown</td>\n",
       "      <td>M</td>\n",
       "    </tr>\n",
       "    <tr>\n",
       "      <th>12792</th>\n",
       "      <td>Unknown</td>\n",
       "      <td>M</td>\n",
       "    </tr>\n",
       "    <tr>\n",
       "      <th>27911</th>\n",
       "      <td>Unknown</td>\n",
       "      <td>N</td>\n",
       "    </tr>\n",
       "    <tr>\n",
       "      <th>34749</th>\n",
       "      <td>Unknown</td>\n",
       "      <td>N</td>\n",
       "    </tr>\n",
       "    <tr>\n",
       "      <th>38166</th>\n",
       "      <td>Unknown</td>\n",
       "      <td>N</td>\n",
       "    </tr>\n",
       "    <tr>\n",
       "      <th>67192</th>\n",
       "      <td>Unknown</td>\n",
       "      <td>N</td>\n",
       "    </tr>\n",
       "  </tbody>\n",
       "</table>\n",
       "</div>"
      ],
      "text/plain": [
       "      directionRoleDescription crashSeverity\n",
       "8023                   Unknown             M\n",
       "12792                  Unknown             M\n",
       "27911                  Unknown             N\n",
       "34749                  Unknown             N\n",
       "38166                  Unknown             N\n",
       "67192                  Unknown             N"
      ]
     },
     "execution_count": 24,
     "metadata": {},
     "output_type": "execute_result"
    }
   ],
   "source": [
    "mask = crash_data[crash_data['directionRoleDescription'] == 'Unknown']\n",
    "mask[['directionRoleDescription', 'crashSeverity']]"
   ]
  },
  {
   "cell_type": "markdown",
   "metadata": {
    "hidden": true
   },
   "source": [
    "In this case, the samples are split between *non-injury* and *Minor* crashes. Which are the two classes with the most samples. So again, we can go ahead and remove them."
   ]
  },
  {
   "cell_type": "markdown",
   "metadata": {
    "heading_collapsed": true
   },
   "source": [
    "#### crashSHDescription"
   ]
  },
  {
   "cell_type": "code",
   "execution_count": 25,
   "metadata": {
    "ExecuteTime": {
     "end_time": "2018-08-30T02:45:53.727452Z",
     "start_time": "2018-08-30T02:45:53.532107Z"
    },
    "hidden": true
   },
   "outputs": [
    {
     "data": {
      "image/png": "[encoded data removed]",
      "text/plain": [
       "<matplotlib.figure.Figure at 0x1a62ffb6a0>"
      ]
     },
     "metadata": {},
     "output_type": "display_data"
    }
   ],
   "source": [
    "plot_data = create_plot_data('crashSHDescription')\n",
    "plot_and_annotate(plot_data)"
   ]
  },
  {
   "cell_type": "markdown",
   "metadata": {
    "hidden": true
   },
   "source": [
    "This feature doesn't present any strange behaviour. So we move along."
   ]
  },
  {
   "cell_type": "markdown",
   "metadata": {},
   "source": [
    "#### crashRPSH"
   ]
  },
  {
   "cell_type": "markdown",
   "metadata": {},
   "source": [
    "This feature has so many possible values that plotting them leaves the plot unreadable. Instead, we show the number on samples for each possible value."
   ]
  },
  {
   "cell_type": "code",
   "execution_count": 33,
   "metadata": {
    "ExecuteTime": {
     "end_time": "2018-08-30T02:52:43.912614Z",
     "start_time": "2018-08-30T02:52:43.838418Z"
    },
    "scrolled": true
   },
   "outputs": [
    {
     "data": {
      "text/html": [
       "<div>\n",
       "<style scoped>\n",
       "    .dataframe tbody tr th:only-of-type {\n",
       "        vertical-align: middle;\n",
       "    }\n",
       "\n",
       "    .dataframe tbody tr th {\n",
       "        vertical-align: top;\n",
       "    }\n",
       "\n",
       "    .dataframe thead th {\n",
       "        text-align: right;\n",
       "    }\n",
       "</style>\n",
       "<table border=\"1\" class=\"dataframe\">\n",
       "  <thead>\n",
       "    <tr style=\"text-align: right;\">\n",
       "      <th></th>\n",
       "      <th>crashRPSH</th>\n",
       "      <th>percent</th>\n",
       "    </tr>\n",
       "  </thead>\n",
       "  <tbody>\n",
       "    <tr>\n",
       "      <th>0.0</th>\n",
       "      <td>468589</td>\n",
       "      <td>71.464804</td>\n",
       "    </tr>\n",
       "    <tr>\n",
       "      <th>N/A</th>\n",
       "      <td>79453</td>\n",
       "      <td>12.117427</td>\n",
       "    </tr>\n",
       "    <tr>\n",
       "      <th>2.0</th>\n",
       "      <td>20114</td>\n",
       "      <td>3.067599</td>\n",
       "    </tr>\n",
       "    <tr>\n",
       "      <th>3.0</th>\n",
       "      <td>11243</td>\n",
       "      <td>1.714677</td>\n",
       "    </tr>\n",
       "    <tr>\n",
       "      <th>6.0</th>\n",
       "      <td>9721</td>\n",
       "      <td>1.482556</td>\n",
       "    </tr>\n",
       "    <tr>\n",
       "      <th>16.0</th>\n",
       "      <td>7908</td>\n",
       "      <td>1.206054</td>\n",
       "    </tr>\n",
       "    <tr>\n",
       "      <th>5.0</th>\n",
       "      <td>4017</td>\n",
       "      <td>0.612635</td>\n",
       "    </tr>\n",
       "    <tr>\n",
       "      <th>20.0</th>\n",
       "      <td>2864</td>\n",
       "      <td>0.436790</td>\n",
       "    </tr>\n",
       "    <tr>\n",
       "      <th>73.0</th>\n",
       "      <td>2760</td>\n",
       "      <td>0.420929</td>\n",
       "    </tr>\n",
       "    <tr>\n",
       "      <th>30.0</th>\n",
       "      <td>2598</td>\n",
       "      <td>0.396223</td>\n",
       "    </tr>\n",
       "    <tr>\n",
       "      <th>8.0</th>\n",
       "      <td>2458</td>\n",
       "      <td>0.374871</td>\n",
       "    </tr>\n",
       "    <tr>\n",
       "      <th>25.0</th>\n",
       "      <td>2269</td>\n",
       "      <td>0.346047</td>\n",
       "    </tr>\n",
       "    <tr>\n",
       "      <th>29.0</th>\n",
       "      <td>2228</td>\n",
       "      <td>0.339794</td>\n",
       "    </tr>\n",
       "    <tr>\n",
       "      <th>4.0</th>\n",
       "      <td>2128</td>\n",
       "      <td>0.324543</td>\n",
       "    </tr>\n",
       "    <tr>\n",
       "      <th>45.0</th>\n",
       "      <td>2101</td>\n",
       "      <td>0.320425</td>\n",
       "    </tr>\n",
       "    <tr>\n",
       "      <th>35.0</th>\n",
       "      <td>1754</td>\n",
       "      <td>0.267504</td>\n",
       "    </tr>\n",
       "    <tr>\n",
       "      <th>12.0</th>\n",
       "      <td>1704</td>\n",
       "      <td>0.259878</td>\n",
       "    </tr>\n",
       "    <tr>\n",
       "      <th>74.0</th>\n",
       "      <td>1670</td>\n",
       "      <td>0.254693</td>\n",
       "    </tr>\n",
       "    <tr>\n",
       "      <th>7.0</th>\n",
       "      <td>1498</td>\n",
       "      <td>0.228461</td>\n",
       "    </tr>\n",
       "    <tr>\n",
       "      <th>26.0</th>\n",
       "      <td>1485</td>\n",
       "      <td>0.226478</td>\n",
       "    </tr>\n",
       "    <tr>\n",
       "      <th>10.0</th>\n",
       "      <td>1422</td>\n",
       "      <td>0.216870</td>\n",
       "    </tr>\n",
       "    <tr>\n",
       "      <th>60.0</th>\n",
       "      <td>1391</td>\n",
       "      <td>0.212142</td>\n",
       "    </tr>\n",
       "    <tr>\n",
       "      <th>27.0</th>\n",
       "      <td>1391</td>\n",
       "      <td>0.212142</td>\n",
       "    </tr>\n",
       "    <tr>\n",
       "      <th>50.0</th>\n",
       "      <td>1391</td>\n",
       "      <td>0.212142</td>\n",
       "    </tr>\n",
       "    <tr>\n",
       "      <th>94.0</th>\n",
       "      <td>1240</td>\n",
       "      <td>0.189113</td>\n",
       "    </tr>\n",
       "    <tr>\n",
       "      <th>57.0</th>\n",
       "      <td>1158</td>\n",
       "      <td>0.176607</td>\n",
       "    </tr>\n",
       "    <tr>\n",
       "      <th>23.0</th>\n",
       "      <td>1061</td>\n",
       "      <td>0.161814</td>\n",
       "    </tr>\n",
       "    <tr>\n",
       "      <th>58.0</th>\n",
       "      <td>914</td>\n",
       "      <td>0.139395</td>\n",
       "    </tr>\n",
       "    <tr>\n",
       "      <th>75.0</th>\n",
       "      <td>910</td>\n",
       "      <td>0.138785</td>\n",
       "    </tr>\n",
       "    <tr>\n",
       "      <th>14.0</th>\n",
       "      <td>844</td>\n",
       "      <td>0.128719</td>\n",
       "    </tr>\n",
       "    <tr>\n",
       "      <th>...</th>\n",
       "      <td>...</td>\n",
       "      <td>...</td>\n",
       "    </tr>\n",
       "    <tr>\n",
       "      <th>93.0</th>\n",
       "      <td>290</td>\n",
       "      <td>0.044228</td>\n",
       "    </tr>\n",
       "    <tr>\n",
       "      <th>41.0</th>\n",
       "      <td>282</td>\n",
       "      <td>0.043008</td>\n",
       "    </tr>\n",
       "    <tr>\n",
       "      <th>38.0</th>\n",
       "      <td>279</td>\n",
       "      <td>0.042550</td>\n",
       "    </tr>\n",
       "    <tr>\n",
       "      <th>24.0</th>\n",
       "      <td>265</td>\n",
       "      <td>0.040415</td>\n",
       "    </tr>\n",
       "    <tr>\n",
       "      <th>63.0</th>\n",
       "      <td>253</td>\n",
       "      <td>0.038585</td>\n",
       "    </tr>\n",
       "    <tr>\n",
       "      <th>43.0</th>\n",
       "      <td>235</td>\n",
       "      <td>0.035840</td>\n",
       "    </tr>\n",
       "    <tr>\n",
       "      <th>67.0</th>\n",
       "      <td>228</td>\n",
       "      <td>0.034772</td>\n",
       "    </tr>\n",
       "    <tr>\n",
       "      <th>34.0</th>\n",
       "      <td>226</td>\n",
       "      <td>0.034467</td>\n",
       "    </tr>\n",
       "    <tr>\n",
       "      <th>83.0</th>\n",
       "      <td>225</td>\n",
       "      <td>0.034315</td>\n",
       "    </tr>\n",
       "    <tr>\n",
       "      <th>82.0</th>\n",
       "      <td>217</td>\n",
       "      <td>0.033095</td>\n",
       "    </tr>\n",
       "    <tr>\n",
       "      <th>47.0</th>\n",
       "      <td>211</td>\n",
       "      <td>0.032180</td>\n",
       "    </tr>\n",
       "    <tr>\n",
       "      <th>49.0</th>\n",
       "      <td>189</td>\n",
       "      <td>0.028825</td>\n",
       "    </tr>\n",
       "    <tr>\n",
       "      <th>28.0</th>\n",
       "      <td>181</td>\n",
       "      <td>0.027604</td>\n",
       "    </tr>\n",
       "    <tr>\n",
       "      <th>90.0</th>\n",
       "      <td>163</td>\n",
       "      <td>0.024859</td>\n",
       "    </tr>\n",
       "    <tr>\n",
       "      <th>71.0</th>\n",
       "      <td>156</td>\n",
       "      <td>0.023792</td>\n",
       "    </tr>\n",
       "    <tr>\n",
       "      <th>21.0</th>\n",
       "      <td>132</td>\n",
       "      <td>0.020131</td>\n",
       "    </tr>\n",
       "    <tr>\n",
       "      <th>53.0</th>\n",
       "      <td>130</td>\n",
       "      <td>0.019826</td>\n",
       "    </tr>\n",
       "    <tr>\n",
       "      <th>62.0</th>\n",
       "      <td>121</td>\n",
       "      <td>0.018454</td>\n",
       "    </tr>\n",
       "    <tr>\n",
       "      <th>80.0</th>\n",
       "      <td>111</td>\n",
       "      <td>0.016929</td>\n",
       "    </tr>\n",
       "    <tr>\n",
       "      <th>84.0</th>\n",
       "      <td>89</td>\n",
       "      <td>0.013573</td>\n",
       "    </tr>\n",
       "    <tr>\n",
       "      <th>69.0</th>\n",
       "      <td>88</td>\n",
       "      <td>0.013421</td>\n",
       "    </tr>\n",
       "    <tr>\n",
       "      <th>37.0</th>\n",
       "      <td>86</td>\n",
       "      <td>0.013116</td>\n",
       "    </tr>\n",
       "    <tr>\n",
       "      <th>98.0</th>\n",
       "      <td>77</td>\n",
       "      <td>0.011743</td>\n",
       "    </tr>\n",
       "    <tr>\n",
       "      <th>97.0</th>\n",
       "      <td>57</td>\n",
       "      <td>0.008693</td>\n",
       "    </tr>\n",
       "    <tr>\n",
       "      <th>86.0</th>\n",
       "      <td>57</td>\n",
       "      <td>0.008693</td>\n",
       "    </tr>\n",
       "    <tr>\n",
       "      <th>95.0</th>\n",
       "      <td>56</td>\n",
       "      <td>0.008541</td>\n",
       "    </tr>\n",
       "    <tr>\n",
       "      <th>17.0</th>\n",
       "      <td>39</td>\n",
       "      <td>0.005948</td>\n",
       "    </tr>\n",
       "    <tr>\n",
       "      <th>78.0</th>\n",
       "      <td>33</td>\n",
       "      <td>0.005033</td>\n",
       "    </tr>\n",
       "    <tr>\n",
       "      <th>48.0</th>\n",
       "      <td>30</td>\n",
       "      <td>0.004575</td>\n",
       "    </tr>\n",
       "    <tr>\n",
       "      <th>46.0</th>\n",
       "      <td>17</td>\n",
       "      <td>0.002593</td>\n",
       "    </tr>\n",
       "  </tbody>\n",
       "</table>\n",
       "<p>81 rows × 2 columns</p>\n",
       "</div>"
      ],
      "text/plain": [
       "      crashRPSH    percent\n",
       "0.0      468589  71.464804\n",
       "N/A       79453  12.117427\n",
       "2.0       20114   3.067599\n",
       "3.0       11243   1.714677\n",
       "6.0        9721   1.482556\n",
       "16.0       7908   1.206054\n",
       "5.0        4017   0.612635\n",
       "20.0       2864   0.436790\n",
       "73.0       2760   0.420929\n",
       "30.0       2598   0.396223\n",
       "8.0        2458   0.374871\n",
       "25.0       2269   0.346047\n",
       "29.0       2228   0.339794\n",
       "4.0        2128   0.324543\n",
       "45.0       2101   0.320425\n",
       "35.0       1754   0.267504\n",
       "12.0       1704   0.259878\n",
       "74.0       1670   0.254693\n",
       "7.0        1498   0.228461\n",
       "26.0       1485   0.226478\n",
       "10.0       1422   0.216870\n",
       "60.0       1391   0.212142\n",
       "27.0       1391   0.212142\n",
       "50.0       1391   0.212142\n",
       "94.0       1240   0.189113\n",
       "57.0       1158   0.176607\n",
       "23.0       1061   0.161814\n",
       "58.0        914   0.139395\n",
       "75.0        910   0.138785\n",
       "14.0        844   0.128719\n",
       "...         ...        ...\n",
       "93.0        290   0.044228\n",
       "41.0        282   0.043008\n",
       "38.0        279   0.042550\n",
       "24.0        265   0.040415\n",
       "63.0        253   0.038585\n",
       "43.0        235   0.035840\n",
       "67.0        228   0.034772\n",
       "34.0        226   0.034467\n",
       "83.0        225   0.034315\n",
       "82.0        217   0.033095\n",
       "47.0        211   0.032180\n",
       "49.0        189   0.028825\n",
       "28.0        181   0.027604\n",
       "90.0        163   0.024859\n",
       "71.0        156   0.023792\n",
       "21.0        132   0.020131\n",
       "53.0        130   0.019826\n",
       "62.0        121   0.018454\n",
       "80.0        111   0.016929\n",
       "84.0         89   0.013573\n",
       "69.0         88   0.013421\n",
       "37.0         86   0.013116\n",
       "98.0         77   0.011743\n",
       "97.0         57   0.008693\n",
       "86.0         57   0.008693\n",
       "95.0         56   0.008541\n",
       "17.0         39   0.005948\n",
       "78.0         33   0.005033\n",
       "48.0         30   0.004575\n",
       "46.0         17   0.002593\n",
       "\n",
       "[81 rows x 2 columns]"
      ]
     },
     "execution_count": 33,
     "metadata": {},
     "output_type": "execute_result"
    }
   ],
   "source": [
    "plot_data = create_plot_data('crashRPSH')\n",
    "plot_data"
   ]
  },
  {
   "cell_type": "markdown",
   "metadata": {},
   "source": [
    "Let us remember that this feature is categorical in nature, as it refers to the number of SH (State Highway) on which the crash occured –when applicable. So it makes sense to have this many values and also to have them as numbers.\n",
    "\n",
    "However, two values don't feel quite right: `0` and our placeholder for missing values `N/A`. We need to consider also that these two values are the ones that are the most present in all the dataset. Lets check if these values occur for crashed that were reported to happen on an SH or not:"
   ]
  },
  {
   "cell_type": "code",
   "execution_count": 52,
   "metadata": {
    "ExecuteTime": {
     "end_time": "2018-08-30T03:25:03.869554Z",
     "start_time": "2018-08-30T03:25:03.450734Z"
    }
   },
   "outputs": [
    {
     "data": {
      "text/html": [
       "<div>\n",
       "<style scoped>\n",
       "    .dataframe tbody tr th:only-of-type {\n",
       "        vertical-align: middle;\n",
       "    }\n",
       "\n",
       "    .dataframe tbody tr th {\n",
       "        vertical-align: top;\n",
       "    }\n",
       "\n",
       "    .dataframe thead th {\n",
       "        text-align: right;\n",
       "    }\n",
       "</style>\n",
       "<table border=\"1\" class=\"dataframe\">\n",
       "  <thead>\n",
       "    <tr style=\"text-align: right;\">\n",
       "      <th>crashSHDescription</th>\n",
       "      <th>No</th>\n",
       "      <th>Yes</th>\n",
       "    </tr>\n",
       "    <tr>\n",
       "      <th>crashRPSH</th>\n",
       "      <th></th>\n",
       "      <th></th>\n",
       "    </tr>\n",
       "  </thead>\n",
       "  <tbody>\n",
       "    <tr>\n",
       "      <th>0.0</th>\n",
       "      <td>461992</td>\n",
       "      <td>6597</td>\n",
       "    </tr>\n",
       "    <tr>\n",
       "      <th>N/A</th>\n",
       "      <td>276</td>\n",
       "      <td>79177</td>\n",
       "    </tr>\n",
       "  </tbody>\n",
       "</table>\n",
       "</div>"
      ],
      "text/plain": [
       "crashSHDescription      No    Yes\n",
       "crashRPSH                        \n",
       "0.0                 461992   6597\n",
       "N/A                    276  79177"
      ]
     },
     "execution_count": 52,
     "metadata": {},
     "output_type": "execute_result"
    }
   ],
   "source": [
    "aux = crash_data[crash_data['crashRPSH'].isin([0, 'N/A'])]\n",
    "pd.crosstab(aux['crashRPSH'], aux['crashSHDescription'])"
   ]
  },
  {
   "cell_type": "code",
   "execution_count": 50,
   "metadata": {
    "ExecuteTime": {
     "end_time": "2018-08-30T03:10:20.340526Z",
     "start_time": "2018-08-30T03:10:19.861936Z"
    }
   },
   "outputs": [
    {
     "data": {
      "text/html": [
       "<div>\n",
       "<style scoped>\n",
       "    .dataframe tbody tr th:only-of-type {\n",
       "        vertical-align: middle;\n",
       "    }\n",
       "\n",
       "    .dataframe tbody tr th {\n",
       "        vertical-align: top;\n",
       "    }\n",
       "\n",
       "    .dataframe thead tr th {\n",
       "        text-align: left;\n",
       "    }\n",
       "\n",
       "    .dataframe thead tr:last-of-type th {\n",
       "        text-align: right;\n",
       "    }\n",
       "</style>\n",
       "<table border=\"1\" class=\"dataframe\">\n",
       "  <thead>\n",
       "    <tr>\n",
       "      <th>crashSHDescription</th>\n",
       "      <th colspan=\"4\" halign=\"left\">No</th>\n",
       "      <th colspan=\"4\" halign=\"left\">Yes</th>\n",
       "    </tr>\n",
       "    <tr>\n",
       "      <th>crashSeverity</th>\n",
       "      <th>F</th>\n",
       "      <th>M</th>\n",
       "      <th>N</th>\n",
       "      <th>S</th>\n",
       "      <th>F</th>\n",
       "      <th>M</th>\n",
       "      <th>N</th>\n",
       "      <th>S</th>\n",
       "    </tr>\n",
       "    <tr>\n",
       "      <th>crashRPSH</th>\n",
       "      <th></th>\n",
       "      <th></th>\n",
       "      <th></th>\n",
       "      <th></th>\n",
       "      <th></th>\n",
       "      <th></th>\n",
       "      <th></th>\n",
       "      <th></th>\n",
       "    </tr>\n",
       "  </thead>\n",
       "  <tbody>\n",
       "    <tr>\n",
       "      <th>0.0</th>\n",
       "      <td>2998</td>\n",
       "      <td>100566</td>\n",
       "      <td>334446</td>\n",
       "      <td>23982</td>\n",
       "      <td>14</td>\n",
       "      <td>1038</td>\n",
       "      <td>5393</td>\n",
       "      <td>152</td>\n",
       "    </tr>\n",
       "    <tr>\n",
       "      <th>N/A</th>\n",
       "      <td>3</td>\n",
       "      <td>46</td>\n",
       "      <td>212</td>\n",
       "      <td>15</td>\n",
       "      <td>1062</td>\n",
       "      <td>17478</td>\n",
       "      <td>56718</td>\n",
       "      <td>3919</td>\n",
       "    </tr>\n",
       "  </tbody>\n",
       "</table>\n",
       "</div>"
      ],
      "text/plain": [
       "crashSHDescription    No                          Yes                    \n",
       "crashSeverity          F       M       N      S     F      M      N     S\n",
       "crashRPSH                                                                \n",
       "0.0                 2998  100566  334446  23982    14   1038   5393   152\n",
       "N/A                    3      46     212     15  1062  17478  56718  3919"
      ]
     },
     "execution_count": 50,
     "metadata": {},
     "output_type": "execute_result"
    }
   ],
   "source": [
    "pd.crosstab(aux['crashRPSH'], [aux['crashSHDescription'], aux['crashSeverity']])"
   ]
  },
  {
   "cell_type": "markdown",
   "metadata": {},
   "source": [
    "Ok. There's definitely something going on here.\n",
    "\n",
    "First of all, notice that for all cases where *crashSHDescription* is `No`, we don't really care for the value of *crashRPSH*; regardless of the severity of the crash. For these cases, we can normalize all values to `N/A`.\n",
    "\n",
    "However, the cases where *crashSHDescription * is `Yes` is more complicated. Since the crash did happen on a State Highway, it is very valuable to know what was the specific highway. But we don't have that value.\n",
    "\n",
    "Moreover, if we look how these cases distribute across the severity of the crash, we see that there are quite distributed –considering how these classes are balanced. In fact, we have a lot of *Fatal* crashes that happened on an SH but for which we don't know on which SH it happened. 1076 cases to be exact. Now, we definitely **do not** want to remove samples from the smallest class as it would greatly hinder our final model.\n",
    "\n",
    "**<span style=\"color:red\">FIX THE FOLLOWING LOGIC, ALSO NUMBER AT THE BOTTOM ARE WRONG</span>**\n",
    "\n",
    "So we need to ask ourselves if it's valuable to consider this feature at all. Looking back at the list of all possible values for this feature, we see that the values `0` and `N/A` account for more than 83% of the samples. And that the rest of the samples are distributed among the 79 remaining values.\n",
    "\n",
    "We definitely do not want to discard 83% of the samples, so removing samples with these two values is not an option. Also, If we sum all the cases for which *crashSHDescription* is `Yes` and *crashRPSH* is `N/A` we get a total of 79,177 samples; or 12% of the dataset. And we don't want to discard a portion that big. Specially considering that most of the smallest class (that is *crashSeverity* = `F`) is there. So we either have to remove the feature altogether or think of a way of imputing –or to be more precise mute– these samples."
   ]
  }
 ],
 "metadata": {
  "kernelspec": {
   "display_name": "Python [conda env:anaconda3]",
   "language": "python",
   "name": "conda-env-anaconda3-py"
  },
  "language_info": {
   "codemirror_mode": {
    "name": "ipython",
    "version": 3
   },
   "file_extension": ".py",
   "mimetype": "text/x-python",
   "name": "python",
   "nbconvert_exporter": "python",
   "pygments_lexer": "ipython3",
   "version": "3.6.5"
  }
 },
 "nbformat": 4,
 "nbformat_minor": 2
}
