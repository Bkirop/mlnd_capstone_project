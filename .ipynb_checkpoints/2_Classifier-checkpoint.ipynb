{
 "cells": [
  {
   "cell_type": "markdown",
   "metadata": {},
   "source": [
    "# 1. Initialization"
   ]
  },
  {
   "cell_type": "code",
   "execution_count": 1,
   "metadata": {
    "ExecuteTime": {
     "end_time": "2018-09-18T16:50:19.686309Z",
     "start_time": "2018-09-18T16:50:18.745860Z"
    }
   },
   "outputs": [],
   "source": [
    "import numpy as np\n",
    "import pandas as pd\n",
    "import seaborn as sns\n",
    "from matplotlib import pyplot as plt\n",
    "\n",
    "from sklearn.model_selection import train_test_split\n",
    "\n",
    "plt.style.use('fivethirtyeight')\n",
    "%matplotlib inline"
   ]
  },
  {
   "cell_type": "code",
   "execution_count": 2,
   "metadata": {
    "ExecuteTime": {
     "end_time": "2018-09-18T16:50:23.422006Z",
     "start_time": "2018-09-18T16:50:19.688096Z"
    }
   },
   "outputs": [],
   "source": [
    "crash_data_clean = pd.read_csv('Crash_Analysis_System_CAS_data_clean.csv', keep_default_na=False)"
   ]
  },
  {
   "cell_type": "markdown",
   "metadata": {},
   "source": [
    "# 2. Preprocessing"
   ]
  },
  {
   "cell_type": "code",
   "execution_count": 3,
   "metadata": {
    "ExecuteTime": {
     "end_time": "2018-09-18T16:50:23.432602Z",
     "start_time": "2018-09-18T16:50:23.423883Z"
    }
   },
   "outputs": [],
   "source": [
    "def parse_type(dtype):\n",
    "    if dtype == 'int':\n",
    "        return np.int8\n",
    "    elif dtype == 'float':\n",
    "        return np.float\n",
    "    else:\n",
    "        return dtype\n",
    "\n",
    "# Read features descriptions\n",
    "features_catalog = pd.read_table('features_description.tsv')\n",
    "# Make a dict to use as dtypes for panda's dataframe\n",
    "features_dtypes = features_catalog.set_index('feature_name')['pandas_dtype'].apply(parse_type).to_dict()\n",
    "# Keep only the columns that remain in the clean version of the dataframe\n",
    "features_dtypes = {k: v for k, v in features_dtypes.items() if k in crash_data_clean.columns}"
   ]
  },
  {
   "cell_type": "code",
   "execution_count": 4,
   "metadata": {
    "ExecuteTime": {
     "end_time": "2018-09-18T16:50:24.166856Z",
     "start_time": "2018-09-18T16:50:23.435594Z"
    }
   },
   "outputs": [],
   "source": [
    "crash_data_clean = crash_data_clean.astype(features_dtypes, copy=False)"
   ]
  },
  {
   "cell_type": "code",
   "execution_count": 5,
   "metadata": {
    "ExecuteTime": {
     "end_time": "2018-09-18T16:50:24.372144Z",
     "start_time": "2018-09-18T16:50:24.168653Z"
    }
   },
   "outputs": [],
   "source": [
    "crash_data_clean['speedLimit'] = crash_data_clean['speedLimit'].apply(lambda x: 999 if x == -1 else x)"
   ]
  },
  {
   "cell_type": "code",
   "execution_count": 6,
   "metadata": {
    "ExecuteTime": {
     "end_time": "2018-09-18T16:50:25.300602Z",
     "start_time": "2018-09-18T16:50:24.373869Z"
    }
   },
   "outputs": [],
   "source": [
    "categorical_features = list(features_catalog[features_catalog['feature_type'] == 'categorical']['feature_name'])\n",
    "categorical_features.remove('crashSeverity')\n",
    "crash_data_ohe = pd.get_dummies(crash_data_clean,columns=categorical_features)"
   ]
  },
  {
   "cell_type": "code",
   "execution_count": 7,
   "metadata": {
    "ExecuteTime": {
     "end_time": "2018-09-18T16:50:25.307647Z",
     "start_time": "2018-09-18T16:50:25.302862Z"
    }
   },
   "outputs": [],
   "source": [
    "from sklearn.naive_bayes import MultinomialNB\n",
    "from sklearn.metrics import accuracy_score, precision_score, recall_score, f1_score\n",
    "\n",
    "def print_results(pred, true):\n",
    "    print('Accuracy score: ', format(accuracy_score(pred, true)))\n",
    "    print('Precision score: ', format(precision_score(pred, true, average='weighted')))\n",
    "    print('Recall score: ', format(recall_score(pred, true, average='weighted')))\n",
    "    print('F1 score: ', format(f1_score(pred, true, average='weighted')))"
   ]
  },
  {
   "cell_type": "code",
   "execution_count": 8,
   "metadata": {
    "ExecuteTime": {
     "end_time": "2018-09-18T16:50:25.770874Z",
     "start_time": "2018-09-18T16:50:25.309552Z"
    }
   },
   "outputs": [],
   "source": [
    "y = crash_data_ohe['crashSeverity']\n",
    "X = crash_data_ohe.drop('crashSeverity', axis=1)"
   ]
  },
  {
   "cell_type": "code",
   "execution_count": 9,
   "metadata": {
    "ExecuteTime": {
     "end_time": "2018-09-18T16:50:26.527534Z",
     "start_time": "2018-09-18T16:50:25.772612Z"
    }
   },
   "outputs": [],
   "source": [
    "X_train, X_test, y_train, y_test = train_test_split(X, y, test_size=0.6, random_state=42)"
   ]
  },
  {
   "cell_type": "markdown",
   "metadata": {},
   "source": [
    "# 3. Benchmark"
   ]
  },
  {
   "cell_type": "markdown",
   "metadata": {},
   "source": [
    "<span style=\"color:red\">USE K-FOLD</span>\n",
    "\n",
    "also try:\n",
    "\n",
    "* Naive Bayes\n",
    "* sklearn.ensemble.GradientBoostingClassifier\n",
    "* XGBoost\n",
    "* LGBM\n",
    "* Bagging\n",
    "* Random Forest"
   ]
  },
  {
   "cell_type": "code",
   "execution_count": 10,
   "metadata": {
    "ExecuteTime": {
     "end_time": "2018-09-18T16:50:31.883150Z",
     "start_time": "2018-09-18T16:50:26.529914Z"
    }
   },
   "outputs": [
    {
     "name": "stdout",
     "output_type": "stream",
     "text": [
      "Accuracy score:  0.8777929097331574\n",
      "Precision score:  0.8848480525228094\n",
      "Recall score:  0.8777929097331574\n",
      "F1 score:  0.8398402628627779\n"
     ]
    }
   ],
   "source": [
    "clf_multi = MultinomialNB()\n",
    "\n",
    "clf_multi.fit(X_train, y_train)\n",
    "predictions = clf_multi.predict(X_test)\n",
    "print_results(predictions, y_test)"
   ]
  },
  {
   "cell_type": "markdown",
   "metadata": {
    "ExecuteTime": {
     "end_time": "2018-09-18T02:07:13.723383Z",
     "start_time": "2018-09-18T02:07:13.718403Z"
    }
   },
   "source": [
    "One of the major advantages that Naive Bayes has over other classification algorithms is its ability to handle an extremely large number of features. In our case, each word is treated as a feature and there are thousands of different words. Also, it performs well even with the presence of irrelevant features and is relatively unaffected by them. The other major advantage it has is its relative simplicity. Naive Bayes' works well right out of the box and tuning it's parameters is rarely ever necessary, except usually in cases where the distribution of the data is known. \n",
    "It rarely ever overfits the data. Another important advantage is that its model training and prediction times are very fast for the amount of data it can handle. All in all, Naive Bayes' really is a gem of an algorithm!\n",
    "\n",
    "Congratulations! You have successfully designed a model that can efficiently predict if an SMS message is spam or not!\n",
    "\n",
    "Thank you for learning with us!\n",
    "\n",
    "HOW TO DO ROC/AUC?\n",
    "HOW TO IMPROVE THESE METRICS?"
   ]
  },
  {
   "cell_type": "code",
   "execution_count": 11,
   "metadata": {
    "ExecuteTime": {
     "end_time": "2018-09-18T16:50:35.758217Z",
     "start_time": "2018-09-18T16:50:31.885436Z"
    }
   },
   "outputs": [
    {
     "name": "stdout",
     "output_type": "stream",
     "text": [
      "building tree 1 of 10\n",
      "building tree 2 of 10\n",
      "building tree 3 of 10\n",
      "building tree 4 of 10building tree 5 of 10building tree 6 of 10building tree 7 of 10building tree 8 of 10\n",
      "\n",
      "\n",
      "\n",
      "\n",
      "building tree 9 of 10\n",
      "building tree 10 of 10\n"
     ]
    },
    {
     "name": "stderr",
     "output_type": "stream",
     "text": [
      "[Parallel(n_jobs=-1)]: Done   7 out of  10 | elapsed:    2.2s remaining:    1.0s\n",
      "[Parallel(n_jobs=-1)]: Done  10 out of  10 | elapsed:    2.9s finished\n"
     ]
    },
    {
     "data": {
      "text/plain": [
       "RandomForestClassifier(bootstrap=True, class_weight=None, criterion='gini',\n",
       "            max_depth=None, max_features='auto', max_leaf_nodes=None,\n",
       "            min_impurity_decrease=0.0, min_impurity_split=None,\n",
       "            min_samples_leaf=1, min_samples_split=500,\n",
       "            min_weight_fraction_leaf=0.0, n_estimators=10, n_jobs=-1,\n",
       "            oob_score=False, random_state=42, verbose=2, warm_start=False)"
      ]
     },
     "execution_count": 11,
     "metadata": {},
     "output_type": "execute_result"
    }
   ],
   "source": [
    "from sklearn.ensemble import RandomForestClassifier\n",
    "\n",
    "clf = RandomForestClassifier(min_samples_split=500, random_state=42, n_jobs=-1, verbose=2)\n",
    "\n",
    "clf.fit(X_train, y_train)"
   ]
  },
  {
   "cell_type": "code",
   "execution_count": 12,
   "metadata": {
    "ExecuteTime": {
     "end_time": "2018-09-18T16:50:36.981190Z",
     "start_time": "2018-09-18T16:50:35.760615Z"
    },
    "scrolled": true
   },
   "outputs": [
    {
     "name": "stderr",
     "output_type": "stream",
     "text": [
      "[Parallel(n_jobs=8)]: Done   7 out of  10 | elapsed:    0.2s remaining:    0.1s\n",
      "[Parallel(n_jobs=8)]: Done  10 out of  10 | elapsed:    0.3s finished\n"
     ]
    }
   ],
   "source": [
    "predictions = clf.predict(X_test)"
   ]
  },
  {
   "cell_type": "code",
   "execution_count": 13,
   "metadata": {
    "ExecuteTime": {
     "end_time": "2018-09-18T16:50:36.988318Z",
     "start_time": "2018-09-18T16:50:36.984119Z"
    }
   },
   "outputs": [
    {
     "data": {
      "text/plain": [
       "array(['N', 'N', 'N', ..., 'N', 'N', 'S'], dtype=object)"
      ]
     },
     "execution_count": 13,
     "metadata": {},
     "output_type": "execute_result"
    }
   ],
   "source": [
    "predictions"
   ]
  },
  {
   "cell_type": "code",
   "execution_count": 14,
   "metadata": {
    "ExecuteTime": {
     "end_time": "2018-09-18T16:50:38.590561Z",
     "start_time": "2018-09-18T16:50:36.991320Z"
    },
    "scrolled": true
   },
   "outputs": [
    {
     "name": "stderr",
     "output_type": "stream",
     "text": [
      "[Parallel(n_jobs=8)]: Done   7 out of  10 | elapsed:    0.2s remaining:    0.1s\n",
      "[Parallel(n_jobs=8)]: Done  10 out of  10 | elapsed:    0.3s finished\n"
     ]
    },
    {
     "data": {
      "text/plain": [
       "0.99386889815721158"
      ]
     },
     "execution_count": 14,
     "metadata": {},
     "output_type": "execute_result"
    }
   ],
   "source": [
    "clf.score(X_test, y_test)"
   ]
  },
  {
   "cell_type": "code",
   "execution_count": 15,
   "metadata": {
    "ExecuteTime": {
     "end_time": "2018-09-18T16:50:43.301074Z",
     "start_time": "2018-09-18T16:50:38.592398Z"
    }
   },
   "outputs": [
    {
     "name": "stdout",
     "output_type": "stream",
     "text": [
      "Accuracy score:  0.9938688981572116\n",
      "Precision score:  0.9944601317936164\n",
      "Recall score:  0.9938688981572116\n",
      "F1 score:  0.9940381750894733\n"
     ]
    }
   ],
   "source": [
    "print_results(predictions, y_test)"
   ]
  }
 ],
 "metadata": {
  "kernelspec": {
   "display_name": "Python [conda env:anaconda3]",
   "language": "python",
   "name": "conda-env-anaconda3-py"
  },
  "language_info": {
   "codemirror_mode": {
    "name": "ipython",
    "version": 3
   },
   "file_extension": ".py",
   "mimetype": "text/x-python",
   "name": "python",
   "nbconvert_exporter": "python",
   "pygments_lexer": "ipython3",
   "version": "3.6.5"
  }
 },
 "nbformat": 4,
 "nbformat_minor": 2
}
