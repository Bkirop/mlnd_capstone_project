{
 "cells": [
  {
   "cell_type": "markdown",
   "metadata": {},
   "source": [
    "# 1. Initialization"
   ]
  },
  {
   "cell_type": "code",
   "execution_count": 1,
   "metadata": {
    "ExecuteTime": {
     "end_time": "2018-09-19T02:32:00.751643Z",
     "start_time": "2018-09-19T02:31:58.911879Z"
    }
   },
   "outputs": [],
   "source": [
    "import numpy as np\n",
    "import pandas as pd\n",
    "import seaborn as sns\n",
    "from matplotlib import pyplot as plt\n",
    "\n",
    "from sklearn.model_selection import train_test_split\n",
    "\n",
    "plt.style.use('fivethirtyeight')\n",
    "%matplotlib inline"
   ]
  },
  {
   "cell_type": "code",
   "execution_count": 2,
   "metadata": {
    "ExecuteTime": {
     "end_time": "2018-09-19T02:32:05.157635Z",
     "start_time": "2018-09-19T02:32:00.753495Z"
    }
   },
   "outputs": [],
   "source": [
    "crash_data_clean = pd.read_csv('Crash_Analysis_System_CAS_data_clean.csv', keep_default_na=False)"
   ]
  },
  {
   "cell_type": "markdown",
   "metadata": {},
   "source": [
    "# 2. Preprocessing"
   ]
  },
  {
   "cell_type": "markdown",
   "metadata": {},
   "source": [
    "Talk about no need for feature scaling or transformation, nor normalizaton\n",
    "Why one hot encoding and not label encoding, why not ordinal labels and the need to have categorical features binarized\n",
    "\n",
    "Explore and choose the right metric"
   ]
  },
  {
   "cell_type": "code",
   "execution_count": 3,
   "metadata": {
    "ExecuteTime": {
     "end_time": "2018-09-19T02:32:05.176039Z",
     "start_time": "2018-09-19T02:32:05.159963Z"
    }
   },
   "outputs": [],
   "source": [
    "def parse_type(dtype):\n",
    "    if dtype == 'int':\n",
    "        return np.int8\n",
    "    elif dtype == 'float':\n",
    "        return np.float\n",
    "    else:\n",
    "        return dtype\n",
    "\n",
    "# Read features descriptions\n",
    "features_catalog = pd.read_table('features_description.tsv')\n",
    "# Make a dict to use as dtypes for panda's dataframe\n",
    "features_dtypes = features_catalog.set_index('feature_name')['pandas_dtype'].apply(parse_type).to_dict()\n",
    "# Keep only the columns that remain in the clean version of the dataframe\n",
    "features_dtypes = {k: v for k, v in features_dtypes.items() if k in crash_data_clean.columns}"
   ]
  },
  {
   "cell_type": "code",
   "execution_count": 4,
   "metadata": {
    "ExecuteTime": {
     "end_time": "2018-09-19T02:32:05.944452Z",
     "start_time": "2018-09-19T02:32:05.178551Z"
    }
   },
   "outputs": [],
   "source": [
    "crash_data_clean = crash_data_clean.astype(features_dtypes, copy=False)"
   ]
  },
  {
   "cell_type": "code",
   "execution_count": 5,
   "metadata": {
    "ExecuteTime": {
     "end_time": "2018-09-19T02:32:06.155456Z",
     "start_time": "2018-09-19T02:32:05.946162Z"
    }
   },
   "outputs": [],
   "source": [
    "crash_data_clean['speedLimit'] = crash_data_clean['speedLimit'].apply(lambda x: 999 if x == -1 else x)"
   ]
  },
  {
   "cell_type": "code",
   "execution_count": 6,
   "metadata": {
    "ExecuteTime": {
     "end_time": "2018-09-19T02:32:07.192670Z",
     "start_time": "2018-09-19T02:32:06.157387Z"
    }
   },
   "outputs": [],
   "source": [
    "categorical_features = list(features_catalog[features_catalog['feature_type'] == 'categorical']['feature_name'])\n",
    "categorical_features.remove('crashSeverity')\n",
    "crash_data_ohe = pd.get_dummies(crash_data_clean,columns=categorical_features)"
   ]
  },
  {
   "cell_type": "code",
   "execution_count": 25,
   "metadata": {
    "ExecuteTime": {
     "end_time": "2018-09-19T04:32:42.237881Z",
     "start_time": "2018-09-19T04:32:42.233620Z"
    }
   },
   "outputs": [],
   "source": [
    "from sklearn.naive_bayes import MultinomialNB\n",
    "from sklearn.model_selection import GridSearchCV\n",
    "from sklearn.metrics import accuracy_score, precision_score, recall_score, f1_score, fbeta_score, make_scorer\n",
    "\n",
    "def print_results(pred, true, betta=1):\n",
    "    print('Accuracy score: ', format(accuracy_score(true, pred)))\n",
    "    print('Precision score: ', format(precision_score(true, pred, average='weighted')))\n",
    "    print('Recall score: ', format(recall_score(true, pred, average='weighted')))\n",
    "    print('F1 score: ', format(f1_score(true, pred, average='weighted')))\n",
    "    print('F betta score with betta=%.2f: ' % betta, format(fbeta_score(true, pred, betta, average='weighted')))"
   ]
  },
  {
   "cell_type": "code",
   "execution_count": 8,
   "metadata": {
    "ExecuteTime": {
     "end_time": "2018-09-19T02:32:07.713343Z",
     "start_time": "2018-09-19T02:32:07.208858Z"
    }
   },
   "outputs": [],
   "source": [
    "y = crash_data_ohe['crashSeverity']\n",
    "X = crash_data_ohe.drop('crashSeverity', axis=1)"
   ]
  },
  {
   "cell_type": "code",
   "execution_count": 9,
   "metadata": {
    "ExecuteTime": {
     "end_time": "2018-09-19T02:32:08.543923Z",
     "start_time": "2018-09-19T02:32:07.715619Z"
    }
   },
   "outputs": [],
   "source": [
    "X_train, X_test, y_train, y_test = train_test_split(X, y, test_size=0.6, random_state=42)"
   ]
  },
  {
   "cell_type": "markdown",
   "metadata": {},
   "source": [
    "# 3. Benchmark"
   ]
  },
  {
   "cell_type": "markdown",
   "metadata": {},
   "source": [
    "<span style=\"color:red\">USE K-FOLD</span>\n",
    "\n",
    "also try:\n",
    "\n",
    "* Naive Bayes\n",
    "* sklearn.ensemble.GradientBoostingClassifier\n",
    "* XGBoost\n",
    "* LGBM\n",
    "* Bagging\n",
    "* Random Forest"
   ]
  },
  {
   "cell_type": "code",
   "execution_count": 17,
   "metadata": {
    "ExecuteTime": {
     "end_time": "2018-09-19T02:34:21.247722Z",
     "start_time": "2018-09-19T02:34:15.344248Z"
    }
   },
   "outputs": [
    {
     "name": "stdout",
     "output_type": "stream",
     "text": [
      "Accuracy score:  0.8777929097331574\n",
      "Precision score:  0.9670136987250405\n",
      "Recall score:  0.8777929097331574\n",
      "F1 score:  0.9157455566035368\n",
      "F betta score with betta=0.50:  0.9455543788431858\n"
     ]
    }
   ],
   "source": [
    "clf_multi = MultinomialNB()\n",
    "\n",
    "clf_multi.fit(X_train, y_train)\n",
    "predictions = clf_multi.predict(X_test)\n",
    "print_results(predictions, y_test)"
   ]
  },
  {
   "cell_type": "markdown",
   "metadata": {
    "ExecuteTime": {
     "end_time": "2018-09-18T02:07:13.723383Z",
     "start_time": "2018-09-18T02:07:13.718403Z"
    }
   },
   "source": [
    "One of the major advantages that Naive Bayes has over other classification algorithms is its ability to handle an extremely large number of features. In our case, each word is treated as a feature and there are thousands of different words. Also, it performs well even with the presence of irrelevant features and is relatively unaffected by them. The other major advantage it has is its relative simplicity. Naive Bayes' works well right out of the box and tuning it's parameters is rarely ever necessary, except usually in cases where the distribution of the data is known. \n",
    "It rarely ever overfits the data. Another important advantage is that its model training and prediction times are very fast for the amount of data it can handle. All in all, Naive Bayes' really is a gem of an algorithm!\n",
    "\n",
    "Congratulations! You have successfully designed a model that can efficiently predict if an SMS message is spam or not!\n",
    "\n",
    "Thank you for learning with us!\n",
    "\n",
    "HOW TO DO ROC/AUC?\n",
    "HOW TO IMPROVE THESE METRICS?\n",
    "\n",
    "Feature selection is not a must-do task for RF algorithm"
   ]
  },
  {
   "cell_type": "code",
   "execution_count": 44,
   "metadata": {
    "ExecuteTime": {
     "end_time": "2018-09-19T05:08:48.750694Z",
     "start_time": "2018-09-19T05:08:48.747787Z"
    }
   },
   "outputs": [],
   "source": [
    "from sklearn.ensemble import RandomForestClassifier\n",
    "\n",
    "clf = RandomForestClassifier(random_state=42, n_jobs=-1)"
   ]
  },
  {
   "cell_type": "code",
   "execution_count": 39,
   "metadata": {
    "ExecuteTime": {
     "end_time": "2018-09-19T04:51:39.052853Z",
     "start_time": "2018-09-19T04:51:36.692542Z"
    },
    "scrolled": true
   },
   "outputs": [],
   "source": [
    "clf.fit(X_train, y_train)\n",
    "predictions = clf.predict(X_test)"
   ]
  },
  {
   "cell_type": "code",
   "execution_count": null,
   "metadata": {
    "ExecuteTime": {
     "end_time": "2018-09-19T02:33:03.340625Z",
     "start_time": "2018-09-19T02:32:57.640Z"
    },
    "scrolled": true
   },
   "outputs": [],
   "source": [
    "clf.score(X_test, y_test)"
   ]
  },
  {
   "cell_type": "code",
   "execution_count": 40,
   "metadata": {
    "ExecuteTime": {
     "end_time": "2018-09-19T04:51:45.960272Z",
     "start_time": "2018-09-19T04:51:39.933220Z"
    },
    "scrolled": true
   },
   "outputs": [
    {
     "name": "stdout",
     "output_type": "stream",
     "text": [
      "Accuracy score:  0.7238078265310465\n"
     ]
    },
    {
     "name": "stderr",
     "output_type": "stream",
     "text": [
      "/Users/iair/anaconda3/lib/python3.6/site-packages/sklearn/metrics/classification.py:1135: UndefinedMetricWarning: Precision is ill-defined and being set to 0.0 in labels with no predicted samples.\n",
      "  'precision', 'predicted', average, warn_for)\n"
     ]
    },
    {
     "name": "stdout",
     "output_type": "stream",
     "text": [
      "Precision score:  0.788243065957839\n",
      "Recall score:  0.7238078265310465\n"
     ]
    },
    {
     "name": "stderr",
     "output_type": "stream",
     "text": [
      "/Users/iair/anaconda3/lib/python3.6/site-packages/sklearn/metrics/classification.py:1135: UndefinedMetricWarning: F-score is ill-defined and being set to 0.0 in labels with no predicted samples.\n",
      "  'precision', 'predicted', average, warn_for)\n"
     ]
    },
    {
     "name": "stdout",
     "output_type": "stream",
     "text": [
      "F1 score:  0.620909307817506\n",
      "F betta score with betta=1.00:  0.620909307817506\n"
     ]
    }
   ],
   "source": [
    "print_results(predictions, y_test)"
   ]
  },
  {
   "cell_type": "code",
   "execution_count": 22,
   "metadata": {
    "ExecuteTime": {
     "end_time": "2018-09-19T03:39:34.638017Z",
     "start_time": "2018-09-19T03:39:28.784310Z"
    },
    "scrolled": true
   },
   "outputs": [
    {
     "name": "stdout",
     "output_type": "stream",
     "text": [
      "Accuracy score:  0.9938688981572116\n",
      "Precision score:  0.993865255955091\n",
      "Recall score:  0.9938688981572116\n",
      "F1 score:  0.9936996212249498\n",
      "F betta score with betta=0.30:  0.9938080634629914\n"
     ]
    }
   ],
   "source": [
    "print_results(predictions, y_test, betta=.3)"
   ]
  },
  {
   "cell_type": "code",
   "execution_count": 23,
   "metadata": {
    "ExecuteTime": {
     "end_time": "2018-09-19T03:39:51.490968Z",
     "start_time": "2018-09-19T03:39:45.487304Z"
    },
    "scrolled": true
   },
   "outputs": [
    {
     "name": "stdout",
     "output_type": "stream",
     "text": [
      "Accuracy score:  0.9938688981572116\n",
      "Precision score:  0.993865255955091\n",
      "Recall score:  0.9938688981572116\n",
      "F1 score:  0.9936996212249498\n",
      "F betta score with betta=0.01:  0.993865178381653\n"
     ]
    }
   ],
   "source": [
    "print_results(predictions, y_test, betta=.01)"
   ]
  },
  {
   "cell_type": "code",
   "execution_count": 42,
   "metadata": {
    "ExecuteTime": {
     "end_time": "2018-09-19T05:07:36.886949Z",
     "start_time": "2018-09-19T04:53:24.305209Z"
    },
    "scrolled": true
   },
   "outputs": [
    {
     "name": "stdout",
     "output_type": "stream",
     "text": [
      "Fitting 3 folds for each of 48 candidates, totalling 144 fits\n",
      "[CV] criterion=gini, max_depth=3, min_samples_split=1000, n_estimators=10 \n"
     ]
    },
    {
     "name": "stderr",
     "output_type": "stream",
     "text": [
      "/Users/iair/anaconda3/lib/python3.6/site-packages/sklearn/metrics/classification.py:1135: UndefinedMetricWarning: F-score is ill-defined and being set to 0.0 in labels with no predicted samples.\n",
      "  'precision', 'predicted', average, warn_for)\n"
     ]
    },
    {
     "name": "stdout",
     "output_type": "stream",
     "text": [
      "[CV]  criterion=gini, max_depth=3, min_samples_split=1000, n_estimators=10, total=   1.6s\n",
      "[CV] criterion=gini, max_depth=3, min_samples_split=1000, n_estimators=10 \n"
     ]
    },
    {
     "name": "stderr",
     "output_type": "stream",
     "text": [
      "[Parallel(n_jobs=1)]: Done   1 out of   1 | elapsed:    2.6s remaining:    0.0s\n",
      "/Users/iair/anaconda3/lib/python3.6/site-packages/sklearn/metrics/classification.py:1135: UndefinedMetricWarning: F-score is ill-defined and being set to 0.0 in labels with no predicted samples.\n",
      "  'precision', 'predicted', average, warn_for)\n"
     ]
    },
    {
     "name": "stdout",
     "output_type": "stream",
     "text": [
      "[CV]  criterion=gini, max_depth=3, min_samples_split=1000, n_estimators=10, total=   1.5s\n",
      "[CV] criterion=gini, max_depth=3, min_samples_split=1000, n_estimators=10 \n"
     ]
    },
    {
     "name": "stderr",
     "output_type": "stream",
     "text": [
      "/Users/iair/anaconda3/lib/python3.6/site-packages/sklearn/metrics/classification.py:1135: UndefinedMetricWarning: F-score is ill-defined and being set to 0.0 in labels with no predicted samples.\n",
      "  'precision', 'predicted', average, warn_for)\n"
     ]
    },
    {
     "name": "stdout",
     "output_type": "stream",
     "text": [
      "[CV]  criterion=gini, max_depth=3, min_samples_split=1000, n_estimators=10, total=   1.6s\n",
      "[CV] criterion=gini, max_depth=3, min_samples_split=1000, n_estimators=50 \n"
     ]
    },
    {
     "name": "stderr",
     "output_type": "stream",
     "text": [
      "/Users/iair/anaconda3/lib/python3.6/site-packages/sklearn/metrics/classification.py:1135: UndefinedMetricWarning: F-score is ill-defined and being set to 0.0 in labels with no predicted samples.\n",
      "  'precision', 'predicted', average, warn_for)\n"
     ]
    },
    {
     "name": "stdout",
     "output_type": "stream",
     "text": [
      "[CV]  criterion=gini, max_depth=3, min_samples_split=1000, n_estimators=50, total=   2.5s\n",
      "[CV] criterion=gini, max_depth=3, min_samples_split=1000, n_estimators=50 \n"
     ]
    },
    {
     "name": "stderr",
     "output_type": "stream",
     "text": [
      "/Users/iair/anaconda3/lib/python3.6/site-packages/sklearn/metrics/classification.py:1135: UndefinedMetricWarning: F-score is ill-defined and being set to 0.0 in labels with no predicted samples.\n",
      "  'precision', 'predicted', average, warn_for)\n"
     ]
    },
    {
     "name": "stdout",
     "output_type": "stream",
     "text": [
      "[CV]  criterion=gini, max_depth=3, min_samples_split=1000, n_estimators=50, total=   2.6s\n",
      "[CV] criterion=gini, max_depth=3, min_samples_split=1000, n_estimators=50 \n"
     ]
    },
    {
     "name": "stderr",
     "output_type": "stream",
     "text": [
      "/Users/iair/anaconda3/lib/python3.6/site-packages/sklearn/metrics/classification.py:1135: UndefinedMetricWarning: F-score is ill-defined and being set to 0.0 in labels with no predicted samples.\n",
      "  'precision', 'predicted', average, warn_for)\n"
     ]
    },
    {
     "name": "stdout",
     "output_type": "stream",
     "text": [
      "[CV]  criterion=gini, max_depth=3, min_samples_split=1000, n_estimators=50, total=   2.7s\n",
      "[CV] criterion=gini, max_depth=3, min_samples_split=1000, n_estimators=100 \n"
     ]
    },
    {
     "name": "stderr",
     "output_type": "stream",
     "text": [
      "/Users/iair/anaconda3/lib/python3.6/site-packages/sklearn/metrics/classification.py:1135: UndefinedMetricWarning: F-score is ill-defined and being set to 0.0 in labels with no predicted samples.\n",
      "  'precision', 'predicted', average, warn_for)\n"
     ]
    },
    {
     "name": "stdout",
     "output_type": "stream",
     "text": [
      "[CV]  criterion=gini, max_depth=3, min_samples_split=1000, n_estimators=100, total=   4.1s\n",
      "[CV] criterion=gini, max_depth=3, min_samples_split=1000, n_estimators=100 \n"
     ]
    },
    {
     "name": "stderr",
     "output_type": "stream",
     "text": [
      "/Users/iair/anaconda3/lib/python3.6/site-packages/sklearn/metrics/classification.py:1135: UndefinedMetricWarning: F-score is ill-defined and being set to 0.0 in labels with no predicted samples.\n",
      "  'precision', 'predicted', average, warn_for)\n"
     ]
    },
    {
     "name": "stdout",
     "output_type": "stream",
     "text": [
      "[CV]  criterion=gini, max_depth=3, min_samples_split=1000, n_estimators=100, total=   3.9s\n",
      "[CV] criterion=gini, max_depth=3, min_samples_split=1000, n_estimators=100 \n"
     ]
    },
    {
     "name": "stderr",
     "output_type": "stream",
     "text": [
      "/Users/iair/anaconda3/lib/python3.6/site-packages/sklearn/metrics/classification.py:1135: UndefinedMetricWarning: F-score is ill-defined and being set to 0.0 in labels with no predicted samples.\n",
      "  'precision', 'predicted', average, warn_for)\n"
     ]
    },
    {
     "name": "stdout",
     "output_type": "stream",
     "text": [
      "[CV]  criterion=gini, max_depth=3, min_samples_split=1000, n_estimators=100, total=   4.0s\n",
      "[CV] criterion=gini, max_depth=3, min_samples_split=1000, n_estimators=200 \n"
     ]
    },
    {
     "name": "stderr",
     "output_type": "stream",
     "text": [
      "/Users/iair/anaconda3/lib/python3.6/site-packages/sklearn/metrics/classification.py:1135: UndefinedMetricWarning: F-score is ill-defined and being set to 0.0 in labels with no predicted samples.\n",
      "  'precision', 'predicted', average, warn_for)\n"
     ]
    },
    {
     "name": "stdout",
     "output_type": "stream",
     "text": [
      "[CV]  criterion=gini, max_depth=3, min_samples_split=1000, n_estimators=200, total=   6.2s\n",
      "[CV] criterion=gini, max_depth=3, min_samples_split=1000, n_estimators=200 \n"
     ]
    },
    {
     "name": "stderr",
     "output_type": "stream",
     "text": [
      "/Users/iair/anaconda3/lib/python3.6/site-packages/sklearn/metrics/classification.py:1135: UndefinedMetricWarning: F-score is ill-defined and being set to 0.0 in labels with no predicted samples.\n",
      "  'precision', 'predicted', average, warn_for)\n"
     ]
    },
    {
     "name": "stdout",
     "output_type": "stream",
     "text": [
      "[CV]  criterion=gini, max_depth=3, min_samples_split=1000, n_estimators=200, total=   6.2s\n",
      "[CV] criterion=gini, max_depth=3, min_samples_split=1000, n_estimators=200 \n"
     ]
    },
    {
     "name": "stderr",
     "output_type": "stream",
     "text": [
      "/Users/iair/anaconda3/lib/python3.6/site-packages/sklearn/metrics/classification.py:1135: UndefinedMetricWarning: F-score is ill-defined and being set to 0.0 in labels with no predicted samples.\n",
      "  'precision', 'predicted', average, warn_for)\n"
     ]
    },
    {
     "name": "stdout",
     "output_type": "stream",
     "text": [
      "[CV]  criterion=gini, max_depth=3, min_samples_split=1000, n_estimators=200, total=   6.4s\n",
      "[CV] criterion=gini, max_depth=3, min_samples_split=5000, n_estimators=10 \n"
     ]
    },
    {
     "name": "stderr",
     "output_type": "stream",
     "text": [
      "/Users/iair/anaconda3/lib/python3.6/site-packages/sklearn/metrics/classification.py:1135: UndefinedMetricWarning: F-score is ill-defined and being set to 0.0 in labels with no predicted samples.\n",
      "  'precision', 'predicted', average, warn_for)\n"
     ]
    },
    {
     "name": "stdout",
     "output_type": "stream",
     "text": [
      "[CV]  criterion=gini, max_depth=3, min_samples_split=5000, n_estimators=10, total=   1.6s\n",
      "[CV] criterion=gini, max_depth=3, min_samples_split=5000, n_estimators=10 \n"
     ]
    },
    {
     "name": "stderr",
     "output_type": "stream",
     "text": [
      "/Users/iair/anaconda3/lib/python3.6/site-packages/sklearn/metrics/classification.py:1135: UndefinedMetricWarning: F-score is ill-defined and being set to 0.0 in labels with no predicted samples.\n",
      "  'precision', 'predicted', average, warn_for)\n"
     ]
    },
    {
     "name": "stdout",
     "output_type": "stream",
     "text": [
      "[CV]  criterion=gini, max_depth=3, min_samples_split=5000, n_estimators=10, total=   1.5s\n",
      "[CV] criterion=gini, max_depth=3, min_samples_split=5000, n_estimators=10 \n"
     ]
    },
    {
     "name": "stderr",
     "output_type": "stream",
     "text": [
      "/Users/iair/anaconda3/lib/python3.6/site-packages/sklearn/metrics/classification.py:1135: UndefinedMetricWarning: F-score is ill-defined and being set to 0.0 in labels with no predicted samples.\n",
      "  'precision', 'predicted', average, warn_for)\n"
     ]
    },
    {
     "name": "stdout",
     "output_type": "stream",
     "text": [
      "[CV]  criterion=gini, max_depth=3, min_samples_split=5000, n_estimators=10, total=   1.5s\n",
      "[CV] criterion=gini, max_depth=3, min_samples_split=5000, n_estimators=50 \n"
     ]
    },
    {
     "name": "stderr",
     "output_type": "stream",
     "text": [
      "/Users/iair/anaconda3/lib/python3.6/site-packages/sklearn/metrics/classification.py:1135: UndefinedMetricWarning: F-score is ill-defined and being set to 0.0 in labels with no predicted samples.\n",
      "  'precision', 'predicted', average, warn_for)\n"
     ]
    },
    {
     "name": "stdout",
     "output_type": "stream",
     "text": [
      "[CV]  criterion=gini, max_depth=3, min_samples_split=5000, n_estimators=50, total=   2.5s\n",
      "[CV] criterion=gini, max_depth=3, min_samples_split=5000, n_estimators=50 \n"
     ]
    },
    {
     "name": "stderr",
     "output_type": "stream",
     "text": [
      "/Users/iair/anaconda3/lib/python3.6/site-packages/sklearn/metrics/classification.py:1135: UndefinedMetricWarning: F-score is ill-defined and being set to 0.0 in labels with no predicted samples.\n",
      "  'precision', 'predicted', average, warn_for)\n"
     ]
    },
    {
     "name": "stdout",
     "output_type": "stream",
     "text": [
      "[CV]  criterion=gini, max_depth=3, min_samples_split=5000, n_estimators=50, total=   2.6s\n",
      "[CV] criterion=gini, max_depth=3, min_samples_split=5000, n_estimators=50 \n"
     ]
    },
    {
     "name": "stderr",
     "output_type": "stream",
     "text": [
      "/Users/iair/anaconda3/lib/python3.6/site-packages/sklearn/metrics/classification.py:1135: UndefinedMetricWarning: F-score is ill-defined and being set to 0.0 in labels with no predicted samples.\n",
      "  'precision', 'predicted', average, warn_for)\n"
     ]
    },
    {
     "name": "stdout",
     "output_type": "stream",
     "text": [
      "[CV]  criterion=gini, max_depth=3, min_samples_split=5000, n_estimators=50, total=   2.7s\n",
      "[CV] criterion=gini, max_depth=3, min_samples_split=5000, n_estimators=100 \n"
     ]
    },
    {
     "name": "stderr",
     "output_type": "stream",
     "text": [
      "/Users/iair/anaconda3/lib/python3.6/site-packages/sklearn/metrics/classification.py:1135: UndefinedMetricWarning: F-score is ill-defined and being set to 0.0 in labels with no predicted samples.\n",
      "  'precision', 'predicted', average, warn_for)\n"
     ]
    },
    {
     "name": "stdout",
     "output_type": "stream",
     "text": [
      "[CV]  criterion=gini, max_depth=3, min_samples_split=5000, n_estimators=100, total=   4.0s\n",
      "[CV] criterion=gini, max_depth=3, min_samples_split=5000, n_estimators=100 \n"
     ]
    },
    {
     "name": "stderr",
     "output_type": "stream",
     "text": [
      "/Users/iair/anaconda3/lib/python3.6/site-packages/sklearn/metrics/classification.py:1135: UndefinedMetricWarning: F-score is ill-defined and being set to 0.0 in labels with no predicted samples.\n",
      "  'precision', 'predicted', average, warn_for)\n"
     ]
    },
    {
     "name": "stdout",
     "output_type": "stream",
     "text": [
      "[CV]  criterion=gini, max_depth=3, min_samples_split=5000, n_estimators=100, total=   3.8s\n",
      "[CV] criterion=gini, max_depth=3, min_samples_split=5000, n_estimators=100 \n"
     ]
    },
    {
     "name": "stderr",
     "output_type": "stream",
     "text": [
      "/Users/iair/anaconda3/lib/python3.6/site-packages/sklearn/metrics/classification.py:1135: UndefinedMetricWarning: F-score is ill-defined and being set to 0.0 in labels with no predicted samples.\n",
      "  'precision', 'predicted', average, warn_for)\n"
     ]
    },
    {
     "name": "stdout",
     "output_type": "stream",
     "text": [
      "[CV]  criterion=gini, max_depth=3, min_samples_split=5000, n_estimators=100, total=   4.0s\n",
      "[CV] criterion=gini, max_depth=3, min_samples_split=5000, n_estimators=200 \n"
     ]
    },
    {
     "name": "stderr",
     "output_type": "stream",
     "text": [
      "/Users/iair/anaconda3/lib/python3.6/site-packages/sklearn/metrics/classification.py:1135: UndefinedMetricWarning: F-score is ill-defined and being set to 0.0 in labels with no predicted samples.\n",
      "  'precision', 'predicted', average, warn_for)\n"
     ]
    },
    {
     "name": "stdout",
     "output_type": "stream",
     "text": [
      "[CV]  criterion=gini, max_depth=3, min_samples_split=5000, n_estimators=200, total=   7.3s\n",
      "[CV] criterion=gini, max_depth=3, min_samples_split=5000, n_estimators=200 \n"
     ]
    },
    {
     "name": "stderr",
     "output_type": "stream",
     "text": [
      "/Users/iair/anaconda3/lib/python3.6/site-packages/sklearn/metrics/classification.py:1135: UndefinedMetricWarning: F-score is ill-defined and being set to 0.0 in labels with no predicted samples.\n",
      "  'precision', 'predicted', average, warn_for)\n"
     ]
    },
    {
     "name": "stdout",
     "output_type": "stream",
     "text": [
      "[CV]  criterion=gini, max_depth=3, min_samples_split=5000, n_estimators=200, total=   6.9s\n",
      "[CV] criterion=gini, max_depth=3, min_samples_split=5000, n_estimators=200 \n"
     ]
    },
    {
     "name": "stderr",
     "output_type": "stream",
     "text": [
      "/Users/iair/anaconda3/lib/python3.6/site-packages/sklearn/metrics/classification.py:1135: UndefinedMetricWarning: F-score is ill-defined and being set to 0.0 in labels with no predicted samples.\n",
      "  'precision', 'predicted', average, warn_for)\n"
     ]
    },
    {
     "name": "stdout",
     "output_type": "stream",
     "text": [
      "[CV]  criterion=gini, max_depth=3, min_samples_split=5000, n_estimators=200, total=   6.2s\n",
      "[CV] criterion=gini, max_depth=3, min_samples_split=10000, n_estimators=10 \n"
     ]
    },
    {
     "name": "stderr",
     "output_type": "stream",
     "text": [
      "/Users/iair/anaconda3/lib/python3.6/site-packages/sklearn/metrics/classification.py:1135: UndefinedMetricWarning: F-score is ill-defined and being set to 0.0 in labels with no predicted samples.\n",
      "  'precision', 'predicted', average, warn_for)\n"
     ]
    },
    {
     "name": "stdout",
     "output_type": "stream",
     "text": [
      "[CV]  criterion=gini, max_depth=3, min_samples_split=10000, n_estimators=10, total=   1.6s\n",
      "[CV] criterion=gini, max_depth=3, min_samples_split=10000, n_estimators=10 \n"
     ]
    },
    {
     "name": "stderr",
     "output_type": "stream",
     "text": [
      "/Users/iair/anaconda3/lib/python3.6/site-packages/sklearn/metrics/classification.py:1135: UndefinedMetricWarning: F-score is ill-defined and being set to 0.0 in labels with no predicted samples.\n",
      "  'precision', 'predicted', average, warn_for)\n"
     ]
    },
    {
     "name": "stdout",
     "output_type": "stream",
     "text": [
      "[CV]  criterion=gini, max_depth=3, min_samples_split=10000, n_estimators=10, total=   1.5s\n",
      "[CV] criterion=gini, max_depth=3, min_samples_split=10000, n_estimators=10 \n"
     ]
    },
    {
     "name": "stderr",
     "output_type": "stream",
     "text": [
      "/Users/iair/anaconda3/lib/python3.6/site-packages/sklearn/metrics/classification.py:1135: UndefinedMetricWarning: F-score is ill-defined and being set to 0.0 in labels with no predicted samples.\n",
      "  'precision', 'predicted', average, warn_for)\n"
     ]
    },
    {
     "name": "stdout",
     "output_type": "stream",
     "text": [
      "[CV]  criterion=gini, max_depth=3, min_samples_split=10000, n_estimators=10, total=   1.5s\n",
      "[CV] criterion=gini, max_depth=3, min_samples_split=10000, n_estimators=50 \n"
     ]
    },
    {
     "name": "stderr",
     "output_type": "stream",
     "text": [
      "/Users/iair/anaconda3/lib/python3.6/site-packages/sklearn/metrics/classification.py:1135: UndefinedMetricWarning: F-score is ill-defined and being set to 0.0 in labels with no predicted samples.\n",
      "  'precision', 'predicted', average, warn_for)\n"
     ]
    },
    {
     "name": "stdout",
     "output_type": "stream",
     "text": [
      "[CV]  criterion=gini, max_depth=3, min_samples_split=10000, n_estimators=50, total=   2.5s\n",
      "[CV] criterion=gini, max_depth=3, min_samples_split=10000, n_estimators=50 \n"
     ]
    },
    {
     "name": "stderr",
     "output_type": "stream",
     "text": [
      "/Users/iair/anaconda3/lib/python3.6/site-packages/sklearn/metrics/classification.py:1135: UndefinedMetricWarning: F-score is ill-defined and being set to 0.0 in labels with no predicted samples.\n",
      "  'precision', 'predicted', average, warn_for)\n"
     ]
    },
    {
     "name": "stdout",
     "output_type": "stream",
     "text": [
      "[CV]  criterion=gini, max_depth=3, min_samples_split=10000, n_estimators=50, total=   2.5s\n",
      "[CV] criterion=gini, max_depth=3, min_samples_split=10000, n_estimators=50 \n"
     ]
    },
    {
     "name": "stderr",
     "output_type": "stream",
     "text": [
      "/Users/iair/anaconda3/lib/python3.6/site-packages/sklearn/metrics/classification.py:1135: UndefinedMetricWarning: F-score is ill-defined and being set to 0.0 in labels with no predicted samples.\n",
      "  'precision', 'predicted', average, warn_for)\n"
     ]
    },
    {
     "name": "stdout",
     "output_type": "stream",
     "text": [
      "[CV]  criterion=gini, max_depth=3, min_samples_split=10000, n_estimators=50, total=   2.5s\n",
      "[CV] criterion=gini, max_depth=3, min_samples_split=10000, n_estimators=100 \n"
     ]
    },
    {
     "name": "stderr",
     "output_type": "stream",
     "text": [
      "/Users/iair/anaconda3/lib/python3.6/site-packages/sklearn/metrics/classification.py:1135: UndefinedMetricWarning: F-score is ill-defined and being set to 0.0 in labels with no predicted samples.\n",
      "  'precision', 'predicted', average, warn_for)\n"
     ]
    },
    {
     "name": "stdout",
     "output_type": "stream",
     "text": [
      "[CV]  criterion=gini, max_depth=3, min_samples_split=10000, n_estimators=100, total=   3.6s\n",
      "[CV] criterion=gini, max_depth=3, min_samples_split=10000, n_estimators=100 \n"
     ]
    },
    {
     "name": "stderr",
     "output_type": "stream",
     "text": [
      "/Users/iair/anaconda3/lib/python3.6/site-packages/sklearn/metrics/classification.py:1135: UndefinedMetricWarning: F-score is ill-defined and being set to 0.0 in labels with no predicted samples.\n",
      "  'precision', 'predicted', average, warn_for)\n"
     ]
    },
    {
     "name": "stdout",
     "output_type": "stream",
     "text": [
      "[CV]  criterion=gini, max_depth=3, min_samples_split=10000, n_estimators=100, total=   3.7s\n",
      "[CV] criterion=gini, max_depth=3, min_samples_split=10000, n_estimators=100 \n"
     ]
    },
    {
     "name": "stderr",
     "output_type": "stream",
     "text": [
      "/Users/iair/anaconda3/lib/python3.6/site-packages/sklearn/metrics/classification.py:1135: UndefinedMetricWarning: F-score is ill-defined and being set to 0.0 in labels with no predicted samples.\n",
      "  'precision', 'predicted', average, warn_for)\n"
     ]
    },
    {
     "name": "stdout",
     "output_type": "stream",
     "text": [
      "[CV]  criterion=gini, max_depth=3, min_samples_split=10000, n_estimators=100, total=   3.7s\n",
      "[CV] criterion=gini, max_depth=3, min_samples_split=10000, n_estimators=200 \n"
     ]
    },
    {
     "name": "stderr",
     "output_type": "stream",
     "text": [
      "/Users/iair/anaconda3/lib/python3.6/site-packages/sklearn/metrics/classification.py:1135: UndefinedMetricWarning: F-score is ill-defined and being set to 0.0 in labels with no predicted samples.\n",
      "  'precision', 'predicted', average, warn_for)\n"
     ]
    },
    {
     "name": "stdout",
     "output_type": "stream",
     "text": [
      "[CV]  criterion=gini, max_depth=3, min_samples_split=10000, n_estimators=200, total=   6.0s\n",
      "[CV] criterion=gini, max_depth=3, min_samples_split=10000, n_estimators=200 \n"
     ]
    },
    {
     "name": "stderr",
     "output_type": "stream",
     "text": [
      "/Users/iair/anaconda3/lib/python3.6/site-packages/sklearn/metrics/classification.py:1135: UndefinedMetricWarning: F-score is ill-defined and being set to 0.0 in labels with no predicted samples.\n",
      "  'precision', 'predicted', average, warn_for)\n"
     ]
    },
    {
     "name": "stdout",
     "output_type": "stream",
     "text": [
      "[CV]  criterion=gini, max_depth=3, min_samples_split=10000, n_estimators=200, total=   6.0s\n",
      "[CV] criterion=gini, max_depth=3, min_samples_split=10000, n_estimators=200 \n"
     ]
    },
    {
     "name": "stderr",
     "output_type": "stream",
     "text": [
      "/Users/iair/anaconda3/lib/python3.6/site-packages/sklearn/metrics/classification.py:1135: UndefinedMetricWarning: F-score is ill-defined and being set to 0.0 in labels with no predicted samples.\n",
      "  'precision', 'predicted', average, warn_for)\n"
     ]
    },
    {
     "name": "stdout",
     "output_type": "stream",
     "text": [
      "[CV]  criterion=gini, max_depth=3, min_samples_split=10000, n_estimators=200, total=   6.1s\n",
      "[CV] criterion=gini, max_depth=4, min_samples_split=1000, n_estimators=10 \n"
     ]
    },
    {
     "name": "stderr",
     "output_type": "stream",
     "text": [
      "/Users/iair/anaconda3/lib/python3.6/site-packages/sklearn/metrics/classification.py:1135: UndefinedMetricWarning: F-score is ill-defined and being set to 0.0 in labels with no predicted samples.\n",
      "  'precision', 'predicted', average, warn_for)\n"
     ]
    },
    {
     "name": "stdout",
     "output_type": "stream",
     "text": [
      "[CV]  criterion=gini, max_depth=4, min_samples_split=1000, n_estimators=10, total=   1.7s\n",
      "[CV] criterion=gini, max_depth=4, min_samples_split=1000, n_estimators=10 \n",
      "[CV]  criterion=gini, max_depth=4, min_samples_split=1000, n_estimators=10, total=   1.7s\n",
      "[CV] criterion=gini, max_depth=4, min_samples_split=1000, n_estimators=10 \n"
     ]
    },
    {
     "name": "stderr",
     "output_type": "stream",
     "text": [
      "/Users/iair/anaconda3/lib/python3.6/site-packages/sklearn/metrics/classification.py:1135: UndefinedMetricWarning: F-score is ill-defined and being set to 0.0 in labels with no predicted samples.\n",
      "  'precision', 'predicted', average, warn_for)\n"
     ]
    },
    {
     "name": "stdout",
     "output_type": "stream",
     "text": [
      "[CV]  criterion=gini, max_depth=4, min_samples_split=1000, n_estimators=10, total=   1.7s\n",
      "[CV] criterion=gini, max_depth=4, min_samples_split=1000, n_estimators=50 \n"
     ]
    },
    {
     "name": "stderr",
     "output_type": "stream",
     "text": [
      "/Users/iair/anaconda3/lib/python3.6/site-packages/sklearn/metrics/classification.py:1135: UndefinedMetricWarning: F-score is ill-defined and being set to 0.0 in labels with no predicted samples.\n",
      "  'precision', 'predicted', average, warn_for)\n"
     ]
    },
    {
     "name": "stdout",
     "output_type": "stream",
     "text": [
      "[CV]  criterion=gini, max_depth=4, min_samples_split=1000, n_estimators=50, total=   2.9s\n",
      "[CV] criterion=gini, max_depth=4, min_samples_split=1000, n_estimators=50 \n"
     ]
    },
    {
     "name": "stderr",
     "output_type": "stream",
     "text": [
      "/Users/iair/anaconda3/lib/python3.6/site-packages/sklearn/metrics/classification.py:1135: UndefinedMetricWarning: F-score is ill-defined and being set to 0.0 in labels with no predicted samples.\n",
      "  'precision', 'predicted', average, warn_for)\n"
     ]
    },
    {
     "name": "stdout",
     "output_type": "stream",
     "text": [
      "[CV]  criterion=gini, max_depth=4, min_samples_split=1000, n_estimators=50, total=   2.8s\n",
      "[CV] criterion=gini, max_depth=4, min_samples_split=1000, n_estimators=50 \n"
     ]
    },
    {
     "name": "stderr",
     "output_type": "stream",
     "text": [
      "/Users/iair/anaconda3/lib/python3.6/site-packages/sklearn/metrics/classification.py:1135: UndefinedMetricWarning: F-score is ill-defined and being set to 0.0 in labels with no predicted samples.\n",
      "  'precision', 'predicted', average, warn_for)\n"
     ]
    },
    {
     "name": "stdout",
     "output_type": "stream",
     "text": [
      "[CV]  criterion=gini, max_depth=4, min_samples_split=1000, n_estimators=50, total=   2.9s\n",
      "[CV] criterion=gini, max_depth=4, min_samples_split=1000, n_estimators=100 \n"
     ]
    },
    {
     "name": "stderr",
     "output_type": "stream",
     "text": [
      "/Users/iair/anaconda3/lib/python3.6/site-packages/sklearn/metrics/classification.py:1135: UndefinedMetricWarning: F-score is ill-defined and being set to 0.0 in labels with no predicted samples.\n",
      "  'precision', 'predicted', average, warn_for)\n"
     ]
    },
    {
     "name": "stdout",
     "output_type": "stream",
     "text": [
      "[CV]  criterion=gini, max_depth=4, min_samples_split=1000, n_estimators=100, total=   4.6s\n",
      "[CV] criterion=gini, max_depth=4, min_samples_split=1000, n_estimators=100 \n"
     ]
    },
    {
     "name": "stderr",
     "output_type": "stream",
     "text": [
      "/Users/iair/anaconda3/lib/python3.6/site-packages/sklearn/metrics/classification.py:1135: UndefinedMetricWarning: F-score is ill-defined and being set to 0.0 in labels with no predicted samples.\n",
      "  'precision', 'predicted', average, warn_for)\n"
     ]
    },
    {
     "name": "stdout",
     "output_type": "stream",
     "text": [
      "[CV]  criterion=gini, max_depth=4, min_samples_split=1000, n_estimators=100, total=   4.6s\n",
      "[CV] criterion=gini, max_depth=4, min_samples_split=1000, n_estimators=100 \n"
     ]
    },
    {
     "name": "stderr",
     "output_type": "stream",
     "text": [
      "/Users/iair/anaconda3/lib/python3.6/site-packages/sklearn/metrics/classification.py:1135: UndefinedMetricWarning: F-score is ill-defined and being set to 0.0 in labels with no predicted samples.\n",
      "  'precision', 'predicted', average, warn_for)\n"
     ]
    },
    {
     "name": "stdout",
     "output_type": "stream",
     "text": [
      "[CV]  criterion=gini, max_depth=4, min_samples_split=1000, n_estimators=100, total=   4.6s\n",
      "[CV] criterion=gini, max_depth=4, min_samples_split=1000, n_estimators=200 \n"
     ]
    },
    {
     "name": "stderr",
     "output_type": "stream",
     "text": [
      "/Users/iair/anaconda3/lib/python3.6/site-packages/sklearn/metrics/classification.py:1135: UndefinedMetricWarning: F-score is ill-defined and being set to 0.0 in labels with no predicted samples.\n",
      "  'precision', 'predicted', average, warn_for)\n"
     ]
    },
    {
     "name": "stdout",
     "output_type": "stream",
     "text": [
      "[CV]  criterion=gini, max_depth=4, min_samples_split=1000, n_estimators=200, total=   7.7s\n",
      "[CV] criterion=gini, max_depth=4, min_samples_split=1000, n_estimators=200 \n"
     ]
    },
    {
     "name": "stderr",
     "output_type": "stream",
     "text": [
      "/Users/iair/anaconda3/lib/python3.6/site-packages/sklearn/metrics/classification.py:1135: UndefinedMetricWarning: F-score is ill-defined and being set to 0.0 in labels with no predicted samples.\n",
      "  'precision', 'predicted', average, warn_for)\n"
     ]
    },
    {
     "name": "stdout",
     "output_type": "stream",
     "text": [
      "[CV]  criterion=gini, max_depth=4, min_samples_split=1000, n_estimators=200, total=   7.6s\n",
      "[CV] criterion=gini, max_depth=4, min_samples_split=1000, n_estimators=200 \n"
     ]
    },
    {
     "name": "stderr",
     "output_type": "stream",
     "text": [
      "/Users/iair/anaconda3/lib/python3.6/site-packages/sklearn/metrics/classification.py:1135: UndefinedMetricWarning: F-score is ill-defined and being set to 0.0 in labels with no predicted samples.\n",
      "  'precision', 'predicted', average, warn_for)\n"
     ]
    },
    {
     "name": "stdout",
     "output_type": "stream",
     "text": [
      "[CV]  criterion=gini, max_depth=4, min_samples_split=1000, n_estimators=200, total=   7.7s\n",
      "[CV] criterion=gini, max_depth=4, min_samples_split=5000, n_estimators=10 \n"
     ]
    },
    {
     "name": "stderr",
     "output_type": "stream",
     "text": [
      "/Users/iair/anaconda3/lib/python3.6/site-packages/sklearn/metrics/classification.py:1135: UndefinedMetricWarning: F-score is ill-defined and being set to 0.0 in labels with no predicted samples.\n",
      "  'precision', 'predicted', average, warn_for)\n"
     ]
    },
    {
     "name": "stdout",
     "output_type": "stream",
     "text": [
      "[CV]  criterion=gini, max_depth=4, min_samples_split=5000, n_estimators=10, total=   1.6s\n",
      "[CV] criterion=gini, max_depth=4, min_samples_split=5000, n_estimators=10 \n"
     ]
    },
    {
     "name": "stderr",
     "output_type": "stream",
     "text": [
      "/Users/iair/anaconda3/lib/python3.6/site-packages/sklearn/metrics/classification.py:1135: UndefinedMetricWarning: F-score is ill-defined and being set to 0.0 in labels with no predicted samples.\n",
      "  'precision', 'predicted', average, warn_for)\n"
     ]
    },
    {
     "name": "stdout",
     "output_type": "stream",
     "text": [
      "[CV]  criterion=gini, max_depth=4, min_samples_split=5000, n_estimators=10, total=   1.6s\n",
      "[CV] criterion=gini, max_depth=4, min_samples_split=5000, n_estimators=10 \n"
     ]
    },
    {
     "name": "stderr",
     "output_type": "stream",
     "text": [
      "/Users/iair/anaconda3/lib/python3.6/site-packages/sklearn/metrics/classification.py:1135: UndefinedMetricWarning: F-score is ill-defined and being set to 0.0 in labels with no predicted samples.\n",
      "  'precision', 'predicted', average, warn_for)\n"
     ]
    },
    {
     "name": "stdout",
     "output_type": "stream",
     "text": [
      "[CV]  criterion=gini, max_depth=4, min_samples_split=5000, n_estimators=10, total=   1.7s\n",
      "[CV] criterion=gini, max_depth=4, min_samples_split=5000, n_estimators=50 \n"
     ]
    },
    {
     "name": "stderr",
     "output_type": "stream",
     "text": [
      "/Users/iair/anaconda3/lib/python3.6/site-packages/sklearn/metrics/classification.py:1135: UndefinedMetricWarning: F-score is ill-defined and being set to 0.0 in labels with no predicted samples.\n",
      "  'precision', 'predicted', average, warn_for)\n"
     ]
    },
    {
     "name": "stdout",
     "output_type": "stream",
     "text": [
      "[CV]  criterion=gini, max_depth=4, min_samples_split=5000, n_estimators=50, total=   2.9s\n",
      "[CV] criterion=gini, max_depth=4, min_samples_split=5000, n_estimators=50 \n"
     ]
    },
    {
     "name": "stderr",
     "output_type": "stream",
     "text": [
      "/Users/iair/anaconda3/lib/python3.6/site-packages/sklearn/metrics/classification.py:1135: UndefinedMetricWarning: F-score is ill-defined and being set to 0.0 in labels with no predicted samples.\n",
      "  'precision', 'predicted', average, warn_for)\n"
     ]
    },
    {
     "name": "stdout",
     "output_type": "stream",
     "text": [
      "[CV]  criterion=gini, max_depth=4, min_samples_split=5000, n_estimators=50, total=   2.9s\n",
      "[CV] criterion=gini, max_depth=4, min_samples_split=5000, n_estimators=50 \n"
     ]
    },
    {
     "name": "stderr",
     "output_type": "stream",
     "text": [
      "/Users/iair/anaconda3/lib/python3.6/site-packages/sklearn/metrics/classification.py:1135: UndefinedMetricWarning: F-score is ill-defined and being set to 0.0 in labels with no predicted samples.\n",
      "  'precision', 'predicted', average, warn_for)\n"
     ]
    },
    {
     "name": "stdout",
     "output_type": "stream",
     "text": [
      "[CV]  criterion=gini, max_depth=4, min_samples_split=5000, n_estimators=50, total=   2.9s\n",
      "[CV] criterion=gini, max_depth=4, min_samples_split=5000, n_estimators=100 \n"
     ]
    },
    {
     "name": "stderr",
     "output_type": "stream",
     "text": [
      "/Users/iair/anaconda3/lib/python3.6/site-packages/sklearn/metrics/classification.py:1135: UndefinedMetricWarning: F-score is ill-defined and being set to 0.0 in labels with no predicted samples.\n",
      "  'precision', 'predicted', average, warn_for)\n"
     ]
    },
    {
     "name": "stdout",
     "output_type": "stream",
     "text": [
      "[CV]  criterion=gini, max_depth=4, min_samples_split=5000, n_estimators=100, total=   4.4s\n",
      "[CV] criterion=gini, max_depth=4, min_samples_split=5000, n_estimators=100 \n"
     ]
    },
    {
     "name": "stderr",
     "output_type": "stream",
     "text": [
      "/Users/iair/anaconda3/lib/python3.6/site-packages/sklearn/metrics/classification.py:1135: UndefinedMetricWarning: F-score is ill-defined and being set to 0.0 in labels with no predicted samples.\n",
      "  'precision', 'predicted', average, warn_for)\n"
     ]
    },
    {
     "name": "stdout",
     "output_type": "stream",
     "text": [
      "[CV]  criterion=gini, max_depth=4, min_samples_split=5000, n_estimators=100, total=   4.3s\n",
      "[CV] criterion=gini, max_depth=4, min_samples_split=5000, n_estimators=100 \n"
     ]
    },
    {
     "name": "stderr",
     "output_type": "stream",
     "text": [
      "/Users/iair/anaconda3/lib/python3.6/site-packages/sklearn/metrics/classification.py:1135: UndefinedMetricWarning: F-score is ill-defined and being set to 0.0 in labels with no predicted samples.\n",
      "  'precision', 'predicted', average, warn_for)\n"
     ]
    },
    {
     "name": "stdout",
     "output_type": "stream",
     "text": [
      "[CV]  criterion=gini, max_depth=4, min_samples_split=5000, n_estimators=100, total=   4.6s\n",
      "[CV] criterion=gini, max_depth=4, min_samples_split=5000, n_estimators=200 \n"
     ]
    },
    {
     "name": "stderr",
     "output_type": "stream",
     "text": [
      "/Users/iair/anaconda3/lib/python3.6/site-packages/sklearn/metrics/classification.py:1135: UndefinedMetricWarning: F-score is ill-defined and being set to 0.0 in labels with no predicted samples.\n",
      "  'precision', 'predicted', average, warn_for)\n"
     ]
    },
    {
     "name": "stdout",
     "output_type": "stream",
     "text": [
      "[CV]  criterion=gini, max_depth=4, min_samples_split=5000, n_estimators=200, total=   7.6s\n",
      "[CV] criterion=gini, max_depth=4, min_samples_split=5000, n_estimators=200 \n"
     ]
    },
    {
     "name": "stderr",
     "output_type": "stream",
     "text": [
      "/Users/iair/anaconda3/lib/python3.6/site-packages/sklearn/metrics/classification.py:1135: UndefinedMetricWarning: F-score is ill-defined and being set to 0.0 in labels with no predicted samples.\n",
      "  'precision', 'predicted', average, warn_for)\n"
     ]
    },
    {
     "name": "stdout",
     "output_type": "stream",
     "text": [
      "[CV]  criterion=gini, max_depth=4, min_samples_split=5000, n_estimators=200, total=   8.0s\n",
      "[CV] criterion=gini, max_depth=4, min_samples_split=5000, n_estimators=200 \n"
     ]
    },
    {
     "name": "stderr",
     "output_type": "stream",
     "text": [
      "/Users/iair/anaconda3/lib/python3.6/site-packages/sklearn/metrics/classification.py:1135: UndefinedMetricWarning: F-score is ill-defined and being set to 0.0 in labels with no predicted samples.\n",
      "  'precision', 'predicted', average, warn_for)\n"
     ]
    },
    {
     "name": "stdout",
     "output_type": "stream",
     "text": [
      "[CV]  criterion=gini, max_depth=4, min_samples_split=5000, n_estimators=200, total=   8.2s\n",
      "[CV] criterion=gini, max_depth=4, min_samples_split=10000, n_estimators=10 \n"
     ]
    },
    {
     "name": "stderr",
     "output_type": "stream",
     "text": [
      "/Users/iair/anaconda3/lib/python3.6/site-packages/sklearn/metrics/classification.py:1135: UndefinedMetricWarning: F-score is ill-defined and being set to 0.0 in labels with no predicted samples.\n",
      "  'precision', 'predicted', average, warn_for)\n"
     ]
    },
    {
     "name": "stdout",
     "output_type": "stream",
     "text": [
      "[CV]  criterion=gini, max_depth=4, min_samples_split=10000, n_estimators=10, total=   1.7s\n",
      "[CV] criterion=gini, max_depth=4, min_samples_split=10000, n_estimators=10 \n"
     ]
    },
    {
     "name": "stderr",
     "output_type": "stream",
     "text": [
      "/Users/iair/anaconda3/lib/python3.6/site-packages/sklearn/metrics/classification.py:1135: UndefinedMetricWarning: F-score is ill-defined and being set to 0.0 in labels with no predicted samples.\n",
      "  'precision', 'predicted', average, warn_for)\n"
     ]
    },
    {
     "name": "stdout",
     "output_type": "stream",
     "text": [
      "[CV]  criterion=gini, max_depth=4, min_samples_split=10000, n_estimators=10, total=   1.7s\n",
      "[CV] criterion=gini, max_depth=4, min_samples_split=10000, n_estimators=10 \n"
     ]
    },
    {
     "name": "stderr",
     "output_type": "stream",
     "text": [
      "/Users/iair/anaconda3/lib/python3.6/site-packages/sklearn/metrics/classification.py:1135: UndefinedMetricWarning: F-score is ill-defined and being set to 0.0 in labels with no predicted samples.\n",
      "  'precision', 'predicted', average, warn_for)\n"
     ]
    },
    {
     "name": "stdout",
     "output_type": "stream",
     "text": [
      "[CV]  criterion=gini, max_depth=4, min_samples_split=10000, n_estimators=10, total=   1.7s\n",
      "[CV] criterion=gini, max_depth=4, min_samples_split=10000, n_estimators=50 \n"
     ]
    },
    {
     "name": "stderr",
     "output_type": "stream",
     "text": [
      "/Users/iair/anaconda3/lib/python3.6/site-packages/sklearn/metrics/classification.py:1135: UndefinedMetricWarning: F-score is ill-defined and being set to 0.0 in labels with no predicted samples.\n",
      "  'precision', 'predicted', average, warn_for)\n"
     ]
    },
    {
     "name": "stdout",
     "output_type": "stream",
     "text": [
      "[CV]  criterion=gini, max_depth=4, min_samples_split=10000, n_estimators=50, total=   2.8s\n",
      "[CV] criterion=gini, max_depth=4, min_samples_split=10000, n_estimators=50 \n"
     ]
    },
    {
     "name": "stderr",
     "output_type": "stream",
     "text": [
      "/Users/iair/anaconda3/lib/python3.6/site-packages/sklearn/metrics/classification.py:1135: UndefinedMetricWarning: F-score is ill-defined and being set to 0.0 in labels with no predicted samples.\n",
      "  'precision', 'predicted', average, warn_for)\n"
     ]
    },
    {
     "name": "stdout",
     "output_type": "stream",
     "text": [
      "[CV]  criterion=gini, max_depth=4, min_samples_split=10000, n_estimators=50, total=   2.8s\n",
      "[CV] criterion=gini, max_depth=4, min_samples_split=10000, n_estimators=50 \n"
     ]
    },
    {
     "name": "stderr",
     "output_type": "stream",
     "text": [
      "/Users/iair/anaconda3/lib/python3.6/site-packages/sklearn/metrics/classification.py:1135: UndefinedMetricWarning: F-score is ill-defined and being set to 0.0 in labels with no predicted samples.\n",
      "  'precision', 'predicted', average, warn_for)\n"
     ]
    },
    {
     "name": "stdout",
     "output_type": "stream",
     "text": [
      "[CV]  criterion=gini, max_depth=4, min_samples_split=10000, n_estimators=50, total=   2.8s\n",
      "[CV] criterion=gini, max_depth=4, min_samples_split=10000, n_estimators=100 \n"
     ]
    },
    {
     "name": "stderr",
     "output_type": "stream",
     "text": [
      "/Users/iair/anaconda3/lib/python3.6/site-packages/sklearn/metrics/classification.py:1135: UndefinedMetricWarning: F-score is ill-defined and being set to 0.0 in labels with no predicted samples.\n",
      "  'precision', 'predicted', average, warn_for)\n"
     ]
    },
    {
     "name": "stdout",
     "output_type": "stream",
     "text": [
      "[CV]  criterion=gini, max_depth=4, min_samples_split=10000, n_estimators=100, total=   4.8s\n",
      "[CV] criterion=gini, max_depth=4, min_samples_split=10000, n_estimators=100 \n"
     ]
    },
    {
     "name": "stderr",
     "output_type": "stream",
     "text": [
      "/Users/iair/anaconda3/lib/python3.6/site-packages/sklearn/metrics/classification.py:1135: UndefinedMetricWarning: F-score is ill-defined and being set to 0.0 in labels with no predicted samples.\n",
      "  'precision', 'predicted', average, warn_for)\n"
     ]
    },
    {
     "name": "stdout",
     "output_type": "stream",
     "text": [
      "[CV]  criterion=gini, max_depth=4, min_samples_split=10000, n_estimators=100, total=   4.4s\n",
      "[CV] criterion=gini, max_depth=4, min_samples_split=10000, n_estimators=100 \n"
     ]
    },
    {
     "name": "stderr",
     "output_type": "stream",
     "text": [
      "/Users/iair/anaconda3/lib/python3.6/site-packages/sklearn/metrics/classification.py:1135: UndefinedMetricWarning: F-score is ill-defined and being set to 0.0 in labels with no predicted samples.\n",
      "  'precision', 'predicted', average, warn_for)\n"
     ]
    },
    {
     "name": "stdout",
     "output_type": "stream",
     "text": [
      "[CV]  criterion=gini, max_depth=4, min_samples_split=10000, n_estimators=100, total=   4.6s\n",
      "[CV] criterion=gini, max_depth=4, min_samples_split=10000, n_estimators=200 \n"
     ]
    },
    {
     "name": "stderr",
     "output_type": "stream",
     "text": [
      "/Users/iair/anaconda3/lib/python3.6/site-packages/sklearn/metrics/classification.py:1135: UndefinedMetricWarning: F-score is ill-defined and being set to 0.0 in labels with no predicted samples.\n",
      "  'precision', 'predicted', average, warn_for)\n"
     ]
    },
    {
     "name": "stdout",
     "output_type": "stream",
     "text": [
      "[CV]  criterion=gini, max_depth=4, min_samples_split=10000, n_estimators=200, total=   8.2s\n",
      "[CV] criterion=gini, max_depth=4, min_samples_split=10000, n_estimators=200 \n"
     ]
    },
    {
     "name": "stderr",
     "output_type": "stream",
     "text": [
      "/Users/iair/anaconda3/lib/python3.6/site-packages/sklearn/metrics/classification.py:1135: UndefinedMetricWarning: F-score is ill-defined and being set to 0.0 in labels with no predicted samples.\n",
      "  'precision', 'predicted', average, warn_for)\n"
     ]
    },
    {
     "name": "stdout",
     "output_type": "stream",
     "text": [
      "[CV]  criterion=gini, max_depth=4, min_samples_split=10000, n_estimators=200, total=   7.3s\n",
      "[CV] criterion=gini, max_depth=4, min_samples_split=10000, n_estimators=200 \n"
     ]
    },
    {
     "name": "stderr",
     "output_type": "stream",
     "text": [
      "/Users/iair/anaconda3/lib/python3.6/site-packages/sklearn/metrics/classification.py:1135: UndefinedMetricWarning: F-score is ill-defined and being set to 0.0 in labels with no predicted samples.\n",
      "  'precision', 'predicted', average, warn_for)\n"
     ]
    },
    {
     "name": "stdout",
     "output_type": "stream",
     "text": [
      "[CV]  criterion=gini, max_depth=4, min_samples_split=10000, n_estimators=200, total=   7.4s\n",
      "[CV] criterion=gini, max_depth=5, min_samples_split=1000, n_estimators=10 \n",
      "[CV]  criterion=gini, max_depth=5, min_samples_split=1000, n_estimators=10, total=   1.8s\n",
      "[CV] criterion=gini, max_depth=5, min_samples_split=1000, n_estimators=10 \n",
      "[CV]  criterion=gini, max_depth=5, min_samples_split=1000, n_estimators=10, total=   1.8s\n",
      "[CV] criterion=gini, max_depth=5, min_samples_split=1000, n_estimators=10 \n",
      "[CV]  criterion=gini, max_depth=5, min_samples_split=1000, n_estimators=10, total=   1.8s\n",
      "[CV] criterion=gini, max_depth=5, min_samples_split=1000, n_estimators=50 \n",
      "[CV]  criterion=gini, max_depth=5, min_samples_split=1000, n_estimators=50, total=   3.4s\n",
      "[CV] criterion=gini, max_depth=5, min_samples_split=1000, n_estimators=50 \n",
      "[CV]  criterion=gini, max_depth=5, min_samples_split=1000, n_estimators=50, total=   3.6s\n",
      "[CV] criterion=gini, max_depth=5, min_samples_split=1000, n_estimators=50 \n",
      "[CV]  criterion=gini, max_depth=5, min_samples_split=1000, n_estimators=50, total=   3.2s\n",
      "[CV] criterion=gini, max_depth=5, min_samples_split=1000, n_estimators=100 \n",
      "[CV]  criterion=gini, max_depth=5, min_samples_split=1000, n_estimators=100, total=   5.3s\n",
      "[CV] criterion=gini, max_depth=5, min_samples_split=1000, n_estimators=100 \n"
     ]
    },
    {
     "name": "stderr",
     "output_type": "stream",
     "text": [
      "/Users/iair/anaconda3/lib/python3.6/site-packages/sklearn/metrics/classification.py:1135: UndefinedMetricWarning: F-score is ill-defined and being set to 0.0 in labels with no predicted samples.\n",
      "  'precision', 'predicted', average, warn_for)\n"
     ]
    },
    {
     "name": "stdout",
     "output_type": "stream",
     "text": [
      "[CV]  criterion=gini, max_depth=5, min_samples_split=1000, n_estimators=100, total=   5.5s\n",
      "[CV] criterion=gini, max_depth=5, min_samples_split=1000, n_estimators=100 \n",
      "[CV]  criterion=gini, max_depth=5, min_samples_split=1000, n_estimators=100, total=   5.5s\n",
      "[CV] criterion=gini, max_depth=5, min_samples_split=1000, n_estimators=200 \n",
      "[CV]  criterion=gini, max_depth=5, min_samples_split=1000, n_estimators=200, total=   9.4s\n",
      "[CV] criterion=gini, max_depth=5, min_samples_split=1000, n_estimators=200 \n"
     ]
    },
    {
     "name": "stderr",
     "output_type": "stream",
     "text": [
      "/Users/iair/anaconda3/lib/python3.6/site-packages/sklearn/metrics/classification.py:1135: UndefinedMetricWarning: F-score is ill-defined and being set to 0.0 in labels with no predicted samples.\n",
      "  'precision', 'predicted', average, warn_for)\n"
     ]
    },
    {
     "name": "stdout",
     "output_type": "stream",
     "text": [
      "[CV]  criterion=gini, max_depth=5, min_samples_split=1000, n_estimators=200, total=  10.0s\n",
      "[CV] criterion=gini, max_depth=5, min_samples_split=1000, n_estimators=200 \n"
     ]
    },
    {
     "name": "stderr",
     "output_type": "stream",
     "text": [
      "/Users/iair/anaconda3/lib/python3.6/site-packages/sklearn/metrics/classification.py:1135: UndefinedMetricWarning: F-score is ill-defined and being set to 0.0 in labels with no predicted samples.\n",
      "  'precision', 'predicted', average, warn_for)\n"
     ]
    },
    {
     "name": "stdout",
     "output_type": "stream",
     "text": [
      "[CV]  criterion=gini, max_depth=5, min_samples_split=1000, n_estimators=200, total=  10.1s\n",
      "[CV] criterion=gini, max_depth=5, min_samples_split=5000, n_estimators=10 \n"
     ]
    },
    {
     "name": "stderr",
     "output_type": "stream",
     "text": [
      "/Users/iair/anaconda3/lib/python3.6/site-packages/sklearn/metrics/classification.py:1135: UndefinedMetricWarning: F-score is ill-defined and being set to 0.0 in labels with no predicted samples.\n",
      "  'precision', 'predicted', average, warn_for)\n"
     ]
    },
    {
     "name": "stdout",
     "output_type": "stream",
     "text": [
      "[CV]  criterion=gini, max_depth=5, min_samples_split=5000, n_estimators=10, total=   1.7s\n",
      "[CV] criterion=gini, max_depth=5, min_samples_split=5000, n_estimators=10 \n",
      "[CV]  criterion=gini, max_depth=5, min_samples_split=5000, n_estimators=10, total=   1.7s\n",
      "[CV] criterion=gini, max_depth=5, min_samples_split=5000, n_estimators=10 \n"
     ]
    },
    {
     "name": "stderr",
     "output_type": "stream",
     "text": [
      "/Users/iair/anaconda3/lib/python3.6/site-packages/sklearn/metrics/classification.py:1135: UndefinedMetricWarning: F-score is ill-defined and being set to 0.0 in labels with no predicted samples.\n",
      "  'precision', 'predicted', average, warn_for)\n"
     ]
    },
    {
     "name": "stdout",
     "output_type": "stream",
     "text": [
      "[CV]  criterion=gini, max_depth=5, min_samples_split=5000, n_estimators=10, total=   1.7s\n",
      "[CV] criterion=gini, max_depth=5, min_samples_split=5000, n_estimators=50 \n"
     ]
    },
    {
     "name": "stderr",
     "output_type": "stream",
     "text": [
      "/Users/iair/anaconda3/lib/python3.6/site-packages/sklearn/metrics/classification.py:1135: UndefinedMetricWarning: F-score is ill-defined and being set to 0.0 in labels with no predicted samples.\n",
      "  'precision', 'predicted', average, warn_for)\n"
     ]
    },
    {
     "name": "stdout",
     "output_type": "stream",
     "text": [
      "[CV]  criterion=gini, max_depth=5, min_samples_split=5000, n_estimators=50, total=   3.1s\n",
      "[CV] criterion=gini, max_depth=5, min_samples_split=5000, n_estimators=50 \n"
     ]
    },
    {
     "name": "stderr",
     "output_type": "stream",
     "text": [
      "/Users/iair/anaconda3/lib/python3.6/site-packages/sklearn/metrics/classification.py:1135: UndefinedMetricWarning: F-score is ill-defined and being set to 0.0 in labels with no predicted samples.\n",
      "  'precision', 'predicted', average, warn_for)\n"
     ]
    },
    {
     "name": "stdout",
     "output_type": "stream",
     "text": [
      "[CV]  criterion=gini, max_depth=5, min_samples_split=5000, n_estimators=50, total=   3.3s\n",
      "[CV] criterion=gini, max_depth=5, min_samples_split=5000, n_estimators=50 \n"
     ]
    },
    {
     "name": "stderr",
     "output_type": "stream",
     "text": [
      "/Users/iair/anaconda3/lib/python3.6/site-packages/sklearn/metrics/classification.py:1135: UndefinedMetricWarning: F-score is ill-defined and being set to 0.0 in labels with no predicted samples.\n",
      "  'precision', 'predicted', average, warn_for)\n"
     ]
    },
    {
     "name": "stdout",
     "output_type": "stream",
     "text": [
      "[CV]  criterion=gini, max_depth=5, min_samples_split=5000, n_estimators=50, total=   3.4s\n",
      "[CV] criterion=gini, max_depth=5, min_samples_split=5000, n_estimators=100 \n"
     ]
    },
    {
     "name": "stderr",
     "output_type": "stream",
     "text": [
      "/Users/iair/anaconda3/lib/python3.6/site-packages/sklearn/metrics/classification.py:1135: UndefinedMetricWarning: F-score is ill-defined and being set to 0.0 in labels with no predicted samples.\n",
      "  'precision', 'predicted', average, warn_for)\n"
     ]
    },
    {
     "name": "stdout",
     "output_type": "stream",
     "text": [
      "[CV]  criterion=gini, max_depth=5, min_samples_split=5000, n_estimators=100, total=   5.6s\n",
      "[CV] criterion=gini, max_depth=5, min_samples_split=5000, n_estimators=100 \n"
     ]
    },
    {
     "name": "stderr",
     "output_type": "stream",
     "text": [
      "/Users/iair/anaconda3/lib/python3.6/site-packages/sklearn/metrics/classification.py:1135: UndefinedMetricWarning: F-score is ill-defined and being set to 0.0 in labels with no predicted samples.\n",
      "  'precision', 'predicted', average, warn_for)\n"
     ]
    },
    {
     "name": "stdout",
     "output_type": "stream",
     "text": [
      "[CV]  criterion=gini, max_depth=5, min_samples_split=5000, n_estimators=100, total=   5.1s\n",
      "[CV] criterion=gini, max_depth=5, min_samples_split=5000, n_estimators=100 \n"
     ]
    },
    {
     "name": "stderr",
     "output_type": "stream",
     "text": [
      "/Users/iair/anaconda3/lib/python3.6/site-packages/sklearn/metrics/classification.py:1135: UndefinedMetricWarning: F-score is ill-defined and being set to 0.0 in labels with no predicted samples.\n",
      "  'precision', 'predicted', average, warn_for)\n"
     ]
    },
    {
     "name": "stdout",
     "output_type": "stream",
     "text": [
      "[CV]  criterion=gini, max_depth=5, min_samples_split=5000, n_estimators=100, total=   5.1s\n",
      "[CV] criterion=gini, max_depth=5, min_samples_split=5000, n_estimators=200 \n"
     ]
    },
    {
     "name": "stderr",
     "output_type": "stream",
     "text": [
      "/Users/iair/anaconda3/lib/python3.6/site-packages/sklearn/metrics/classification.py:1135: UndefinedMetricWarning: F-score is ill-defined and being set to 0.0 in labels with no predicted samples.\n",
      "  'precision', 'predicted', average, warn_for)\n"
     ]
    },
    {
     "name": "stdout",
     "output_type": "stream",
     "text": [
      "[CV]  criterion=gini, max_depth=5, min_samples_split=5000, n_estimators=200, total=   8.8s\n",
      "[CV] criterion=gini, max_depth=5, min_samples_split=5000, n_estimators=200 \n"
     ]
    },
    {
     "name": "stderr",
     "output_type": "stream",
     "text": [
      "/Users/iair/anaconda3/lib/python3.6/site-packages/sklearn/metrics/classification.py:1135: UndefinedMetricWarning: F-score is ill-defined and being set to 0.0 in labels with no predicted samples.\n",
      "  'precision', 'predicted', average, warn_for)\n"
     ]
    },
    {
     "name": "stdout",
     "output_type": "stream",
     "text": [
      "[CV]  criterion=gini, max_depth=5, min_samples_split=5000, n_estimators=200, total=   9.0s\n",
      "[CV] criterion=gini, max_depth=5, min_samples_split=5000, n_estimators=200 \n"
     ]
    },
    {
     "name": "stderr",
     "output_type": "stream",
     "text": [
      "/Users/iair/anaconda3/lib/python3.6/site-packages/sklearn/metrics/classification.py:1135: UndefinedMetricWarning: F-score is ill-defined and being set to 0.0 in labels with no predicted samples.\n",
      "  'precision', 'predicted', average, warn_for)\n"
     ]
    },
    {
     "name": "stdout",
     "output_type": "stream",
     "text": [
      "[CV]  criterion=gini, max_depth=5, min_samples_split=5000, n_estimators=200, total=   8.9s\n",
      "[CV] criterion=gini, max_depth=5, min_samples_split=10000, n_estimators=10 \n"
     ]
    },
    {
     "name": "stderr",
     "output_type": "stream",
     "text": [
      "/Users/iair/anaconda3/lib/python3.6/site-packages/sklearn/metrics/classification.py:1135: UndefinedMetricWarning: F-score is ill-defined and being set to 0.0 in labels with no predicted samples.\n",
      "  'precision', 'predicted', average, warn_for)\n"
     ]
    },
    {
     "name": "stdout",
     "output_type": "stream",
     "text": [
      "[CV]  criterion=gini, max_depth=5, min_samples_split=10000, n_estimators=10, total=   1.6s\n",
      "[CV] criterion=gini, max_depth=5, min_samples_split=10000, n_estimators=10 \n",
      "[CV]  criterion=gini, max_depth=5, min_samples_split=10000, n_estimators=10, total=   1.7s\n",
      "[CV] criterion=gini, max_depth=5, min_samples_split=10000, n_estimators=10 \n"
     ]
    },
    {
     "name": "stderr",
     "output_type": "stream",
     "text": [
      "/Users/iair/anaconda3/lib/python3.6/site-packages/sklearn/metrics/classification.py:1135: UndefinedMetricWarning: F-score is ill-defined and being set to 0.0 in labels with no predicted samples.\n",
      "  'precision', 'predicted', average, warn_for)\n"
     ]
    },
    {
     "name": "stdout",
     "output_type": "stream",
     "text": [
      "[CV]  criterion=gini, max_depth=5, min_samples_split=10000, n_estimators=10, total=   1.7s\n",
      "[CV] criterion=gini, max_depth=5, min_samples_split=10000, n_estimators=50 \n"
     ]
    },
    {
     "name": "stderr",
     "output_type": "stream",
     "text": [
      "/Users/iair/anaconda3/lib/python3.6/site-packages/sklearn/metrics/classification.py:1135: UndefinedMetricWarning: F-score is ill-defined and being set to 0.0 in labels with no predicted samples.\n",
      "  'precision', 'predicted', average, warn_for)\n"
     ]
    },
    {
     "name": "stdout",
     "output_type": "stream",
     "text": [
      "[CV]  criterion=gini, max_depth=5, min_samples_split=10000, n_estimators=50, total=   3.1s\n",
      "[CV] criterion=gini, max_depth=5, min_samples_split=10000, n_estimators=50 \n"
     ]
    },
    {
     "name": "stderr",
     "output_type": "stream",
     "text": [
      "/Users/iair/anaconda3/lib/python3.6/site-packages/sklearn/metrics/classification.py:1135: UndefinedMetricWarning: F-score is ill-defined and being set to 0.0 in labels with no predicted samples.\n",
      "  'precision', 'predicted', average, warn_for)\n"
     ]
    },
    {
     "name": "stdout",
     "output_type": "stream",
     "text": [
      "[CV]  criterion=gini, max_depth=5, min_samples_split=10000, n_estimators=50, total=   3.1s\n",
      "[CV] criterion=gini, max_depth=5, min_samples_split=10000, n_estimators=50 \n"
     ]
    },
    {
     "name": "stderr",
     "output_type": "stream",
     "text": [
      "/Users/iair/anaconda3/lib/python3.6/site-packages/sklearn/metrics/classification.py:1135: UndefinedMetricWarning: F-score is ill-defined and being set to 0.0 in labels with no predicted samples.\n",
      "  'precision', 'predicted', average, warn_for)\n"
     ]
    },
    {
     "name": "stdout",
     "output_type": "stream",
     "text": [
      "[CV]  criterion=gini, max_depth=5, min_samples_split=10000, n_estimators=50, total=   3.3s\n",
      "[CV] criterion=gini, max_depth=5, min_samples_split=10000, n_estimators=100 \n"
     ]
    },
    {
     "name": "stderr",
     "output_type": "stream",
     "text": [
      "/Users/iair/anaconda3/lib/python3.6/site-packages/sklearn/metrics/classification.py:1135: UndefinedMetricWarning: F-score is ill-defined and being set to 0.0 in labels with no predicted samples.\n",
      "  'precision', 'predicted', average, warn_for)\n"
     ]
    },
    {
     "name": "stdout",
     "output_type": "stream",
     "text": [
      "[CV]  criterion=gini, max_depth=5, min_samples_split=10000, n_estimators=100, total=   5.5s\n",
      "[CV] criterion=gini, max_depth=5, min_samples_split=10000, n_estimators=100 \n"
     ]
    },
    {
     "name": "stderr",
     "output_type": "stream",
     "text": [
      "/Users/iair/anaconda3/lib/python3.6/site-packages/sklearn/metrics/classification.py:1135: UndefinedMetricWarning: F-score is ill-defined and being set to 0.0 in labels with no predicted samples.\n",
      "  'precision', 'predicted', average, warn_for)\n"
     ]
    },
    {
     "name": "stdout",
     "output_type": "stream",
     "text": [
      "[CV]  criterion=gini, max_depth=5, min_samples_split=10000, n_estimators=100, total=   5.4s\n",
      "[CV] criterion=gini, max_depth=5, min_samples_split=10000, n_estimators=100 \n"
     ]
    },
    {
     "name": "stderr",
     "output_type": "stream",
     "text": [
      "/Users/iair/anaconda3/lib/python3.6/site-packages/sklearn/metrics/classification.py:1135: UndefinedMetricWarning: F-score is ill-defined and being set to 0.0 in labels with no predicted samples.\n",
      "  'precision', 'predicted', average, warn_for)\n"
     ]
    },
    {
     "name": "stdout",
     "output_type": "stream",
     "text": [
      "[CV]  criterion=gini, max_depth=5, min_samples_split=10000, n_estimators=100, total=   5.4s\n",
      "[CV] criterion=gini, max_depth=5, min_samples_split=10000, n_estimators=200 \n"
     ]
    },
    {
     "name": "stderr",
     "output_type": "stream",
     "text": [
      "/Users/iair/anaconda3/lib/python3.6/site-packages/sklearn/metrics/classification.py:1135: UndefinedMetricWarning: F-score is ill-defined and being set to 0.0 in labels with no predicted samples.\n",
      "  'precision', 'predicted', average, warn_for)\n"
     ]
    },
    {
     "name": "stdout",
     "output_type": "stream",
     "text": [
      "[CV]  criterion=gini, max_depth=5, min_samples_split=10000, n_estimators=200, total=   8.5s\n",
      "[CV] criterion=gini, max_depth=5, min_samples_split=10000, n_estimators=200 \n"
     ]
    },
    {
     "name": "stderr",
     "output_type": "stream",
     "text": [
      "/Users/iair/anaconda3/lib/python3.6/site-packages/sklearn/metrics/classification.py:1135: UndefinedMetricWarning: F-score is ill-defined and being set to 0.0 in labels with no predicted samples.\n",
      "  'precision', 'predicted', average, warn_for)\n"
     ]
    },
    {
     "name": "stdout",
     "output_type": "stream",
     "text": [
      "[CV]  criterion=gini, max_depth=5, min_samples_split=10000, n_estimators=200, total=   9.3s\n",
      "[CV] criterion=gini, max_depth=5, min_samples_split=10000, n_estimators=200 \n"
     ]
    },
    {
     "name": "stderr",
     "output_type": "stream",
     "text": [
      "/Users/iair/anaconda3/lib/python3.6/site-packages/sklearn/metrics/classification.py:1135: UndefinedMetricWarning: F-score is ill-defined and being set to 0.0 in labels with no predicted samples.\n",
      "  'precision', 'predicted', average, warn_for)\n"
     ]
    },
    {
     "name": "stdout",
     "output_type": "stream",
     "text": [
      "[CV]  criterion=gini, max_depth=5, min_samples_split=10000, n_estimators=200, total=   9.2s\n",
      "[CV] criterion=gini, max_depth=6, min_samples_split=1000, n_estimators=10 \n",
      "[CV]  criterion=gini, max_depth=6, min_samples_split=1000, n_estimators=10, total=   1.9s\n",
      "[CV] criterion=gini, max_depth=6, min_samples_split=1000, n_estimators=10 \n",
      "[CV]  criterion=gini, max_depth=6, min_samples_split=1000, n_estimators=10, total=   1.9s\n",
      "[CV] criterion=gini, max_depth=6, min_samples_split=1000, n_estimators=10 \n",
      "[CV]  criterion=gini, max_depth=6, min_samples_split=1000, n_estimators=10, total=   1.7s\n",
      "[CV] criterion=gini, max_depth=6, min_samples_split=1000, n_estimators=50 \n",
      "[CV]  criterion=gini, max_depth=6, min_samples_split=1000, n_estimators=50, total=   3.7s\n",
      "[CV] criterion=gini, max_depth=6, min_samples_split=1000, n_estimators=50 \n",
      "[CV]  criterion=gini, max_depth=6, min_samples_split=1000, n_estimators=50, total=   3.9s\n",
      "[CV] criterion=gini, max_depth=6, min_samples_split=1000, n_estimators=50 \n",
      "[CV]  criterion=gini, max_depth=6, min_samples_split=1000, n_estimators=50, total=   3.9s\n",
      "[CV] criterion=gini, max_depth=6, min_samples_split=1000, n_estimators=100 \n",
      "[CV]  criterion=gini, max_depth=6, min_samples_split=1000, n_estimators=100, total=   6.4s\n",
      "[CV] criterion=gini, max_depth=6, min_samples_split=1000, n_estimators=100 \n",
      "[CV]  criterion=gini, max_depth=6, min_samples_split=1000, n_estimators=100, total=   6.2s\n",
      "[CV] criterion=gini, max_depth=6, min_samples_split=1000, n_estimators=100 \n",
      "[CV]  criterion=gini, max_depth=6, min_samples_split=1000, n_estimators=100, total=   6.4s\n",
      "[CV] criterion=gini, max_depth=6, min_samples_split=1000, n_estimators=200 \n",
      "[CV]  criterion=gini, max_depth=6, min_samples_split=1000, n_estimators=200, total=  10.7s\n",
      "[CV] criterion=gini, max_depth=6, min_samples_split=1000, n_estimators=200 \n",
      "[CV]  criterion=gini, max_depth=6, min_samples_split=1000, n_estimators=200, total=  11.0s\n",
      "[CV] criterion=gini, max_depth=6, min_samples_split=1000, n_estimators=200 \n",
      "[CV]  criterion=gini, max_depth=6, min_samples_split=1000, n_estimators=200, total=  11.7s\n",
      "[CV] criterion=gini, max_depth=6, min_samples_split=5000, n_estimators=10 \n",
      "[CV]  criterion=gini, max_depth=6, min_samples_split=5000, n_estimators=10, total=   1.9s\n",
      "[CV] criterion=gini, max_depth=6, min_samples_split=5000, n_estimators=10 \n",
      "[CV]  criterion=gini, max_depth=6, min_samples_split=5000, n_estimators=10, total=   1.8s\n",
      "[CV] criterion=gini, max_depth=6, min_samples_split=5000, n_estimators=10 \n"
     ]
    },
    {
     "name": "stderr",
     "output_type": "stream",
     "text": [
      "/Users/iair/anaconda3/lib/python3.6/site-packages/sklearn/metrics/classification.py:1135: UndefinedMetricWarning: F-score is ill-defined and being set to 0.0 in labels with no predicted samples.\n",
      "  'precision', 'predicted', average, warn_for)\n"
     ]
    },
    {
     "name": "stdout",
     "output_type": "stream",
     "text": [
      "[CV]  criterion=gini, max_depth=6, min_samples_split=5000, n_estimators=10, total=   1.9s\n",
      "[CV] criterion=gini, max_depth=6, min_samples_split=5000, n_estimators=50 \n",
      "[CV]  criterion=gini, max_depth=6, min_samples_split=5000, n_estimators=50, total=   3.5s\n",
      "[CV] criterion=gini, max_depth=6, min_samples_split=5000, n_estimators=50 \n",
      "[CV]  criterion=gini, max_depth=6, min_samples_split=5000, n_estimators=50, total=   3.9s\n",
      "[CV] criterion=gini, max_depth=6, min_samples_split=5000, n_estimators=50 \n"
     ]
    },
    {
     "name": "stderr",
     "output_type": "stream",
     "text": [
      "/Users/iair/anaconda3/lib/python3.6/site-packages/sklearn/metrics/classification.py:1135: UndefinedMetricWarning: F-score is ill-defined and being set to 0.0 in labels with no predicted samples.\n",
      "  'precision', 'predicted', average, warn_for)\n"
     ]
    },
    {
     "name": "stdout",
     "output_type": "stream",
     "text": [
      "[CV]  criterion=gini, max_depth=6, min_samples_split=5000, n_estimators=50, total=   3.6s\n",
      "[CV] criterion=gini, max_depth=6, min_samples_split=5000, n_estimators=100 \n",
      "[CV]  criterion=gini, max_depth=6, min_samples_split=5000, n_estimators=100, total=   5.8s\n",
      "[CV] criterion=gini, max_depth=6, min_samples_split=5000, n_estimators=100 \n",
      "[CV]  criterion=gini, max_depth=6, min_samples_split=5000, n_estimators=100, total=   6.2s\n",
      "[CV] criterion=gini, max_depth=6, min_samples_split=5000, n_estimators=100 \n",
      "[CV]  criterion=gini, max_depth=6, min_samples_split=5000, n_estimators=100, total=   6.1s\n",
      "[CV] criterion=gini, max_depth=6, min_samples_split=5000, n_estimators=200 \n",
      "[CV]  criterion=gini, max_depth=6, min_samples_split=5000, n_estimators=200, total=  10.2s\n",
      "[CV] criterion=gini, max_depth=6, min_samples_split=5000, n_estimators=200 \n"
     ]
    },
    {
     "name": "stderr",
     "output_type": "stream",
     "text": [
      "/Users/iair/anaconda3/lib/python3.6/site-packages/sklearn/metrics/classification.py:1135: UndefinedMetricWarning: F-score is ill-defined and being set to 0.0 in labels with no predicted samples.\n",
      "  'precision', 'predicted', average, warn_for)\n"
     ]
    },
    {
     "name": "stdout",
     "output_type": "stream",
     "text": [
      "[CV]  criterion=gini, max_depth=6, min_samples_split=5000, n_estimators=200, total=  10.4s\n",
      "[CV] criterion=gini, max_depth=6, min_samples_split=5000, n_estimators=200 \n",
      "[CV]  criterion=gini, max_depth=6, min_samples_split=5000, n_estimators=200, total=  10.5s\n",
      "[CV] criterion=gini, max_depth=6, min_samples_split=10000, n_estimators=10 \n"
     ]
    },
    {
     "name": "stderr",
     "output_type": "stream",
     "text": [
      "/Users/iair/anaconda3/lib/python3.6/site-packages/sklearn/metrics/classification.py:1135: UndefinedMetricWarning: F-score is ill-defined and being set to 0.0 in labels with no predicted samples.\n",
      "  'precision', 'predicted', average, warn_for)\n"
     ]
    },
    {
     "name": "stdout",
     "output_type": "stream",
     "text": [
      "[CV]  criterion=gini, max_depth=6, min_samples_split=10000, n_estimators=10, total=   1.8s\n",
      "[CV] criterion=gini, max_depth=6, min_samples_split=10000, n_estimators=10 \n",
      "[CV]  criterion=gini, max_depth=6, min_samples_split=10000, n_estimators=10, total=   1.8s\n",
      "[CV] criterion=gini, max_depth=6, min_samples_split=10000, n_estimators=10 \n"
     ]
    },
    {
     "name": "stderr",
     "output_type": "stream",
     "text": [
      "/Users/iair/anaconda3/lib/python3.6/site-packages/sklearn/metrics/classification.py:1135: UndefinedMetricWarning: F-score is ill-defined and being set to 0.0 in labels with no predicted samples.\n",
      "  'precision', 'predicted', average, warn_for)\n"
     ]
    },
    {
     "name": "stdout",
     "output_type": "stream",
     "text": [
      "[CV]  criterion=gini, max_depth=6, min_samples_split=10000, n_estimators=10, total=   1.8s\n",
      "[CV] criterion=gini, max_depth=6, min_samples_split=10000, n_estimators=50 \n"
     ]
    },
    {
     "name": "stderr",
     "output_type": "stream",
     "text": [
      "/Users/iair/anaconda3/lib/python3.6/site-packages/sklearn/metrics/classification.py:1135: UndefinedMetricWarning: F-score is ill-defined and being set to 0.0 in labels with no predicted samples.\n",
      "  'precision', 'predicted', average, warn_for)\n"
     ]
    },
    {
     "name": "stdout",
     "output_type": "stream",
     "text": [
      "[CV]  criterion=gini, max_depth=6, min_samples_split=10000, n_estimators=50, total=   3.6s\n",
      "[CV] criterion=gini, max_depth=6, min_samples_split=10000, n_estimators=50 \n",
      "[CV]  criterion=gini, max_depth=6, min_samples_split=10000, n_estimators=50, total=   3.4s\n",
      "[CV] criterion=gini, max_depth=6, min_samples_split=10000, n_estimators=50 \n"
     ]
    },
    {
     "name": "stderr",
     "output_type": "stream",
     "text": [
      "/Users/iair/anaconda3/lib/python3.6/site-packages/sklearn/metrics/classification.py:1135: UndefinedMetricWarning: F-score is ill-defined and being set to 0.0 in labels with no predicted samples.\n",
      "  'precision', 'predicted', average, warn_for)\n"
     ]
    },
    {
     "name": "stdout",
     "output_type": "stream",
     "text": [
      "[CV]  criterion=gini, max_depth=6, min_samples_split=10000, n_estimators=50, total=   3.4s\n",
      "[CV] criterion=gini, max_depth=6, min_samples_split=10000, n_estimators=100 \n"
     ]
    },
    {
     "name": "stderr",
     "output_type": "stream",
     "text": [
      "/Users/iair/anaconda3/lib/python3.6/site-packages/sklearn/metrics/classification.py:1135: UndefinedMetricWarning: F-score is ill-defined and being set to 0.0 in labels with no predicted samples.\n",
      "  'precision', 'predicted', average, warn_for)\n"
     ]
    },
    {
     "name": "stdout",
     "output_type": "stream",
     "text": [
      "[CV]  criterion=gini, max_depth=6, min_samples_split=10000, n_estimators=100, total=   5.7s\n",
      "[CV] criterion=gini, max_depth=6, min_samples_split=10000, n_estimators=100 \n"
     ]
    },
    {
     "name": "stderr",
     "output_type": "stream",
     "text": [
      "/Users/iair/anaconda3/lib/python3.6/site-packages/sklearn/metrics/classification.py:1135: UndefinedMetricWarning: F-score is ill-defined and being set to 0.0 in labels with no predicted samples.\n",
      "  'precision', 'predicted', average, warn_for)\n"
     ]
    },
    {
     "name": "stdout",
     "output_type": "stream",
     "text": [
      "[CV]  criterion=gini, max_depth=6, min_samples_split=10000, n_estimators=100, total=   5.7s\n",
      "[CV] criterion=gini, max_depth=6, min_samples_split=10000, n_estimators=100 \n"
     ]
    },
    {
     "name": "stderr",
     "output_type": "stream",
     "text": [
      "/Users/iair/anaconda3/lib/python3.6/site-packages/sklearn/metrics/classification.py:1135: UndefinedMetricWarning: F-score is ill-defined and being set to 0.0 in labels with no predicted samples.\n",
      "  'precision', 'predicted', average, warn_for)\n"
     ]
    },
    {
     "name": "stdout",
     "output_type": "stream",
     "text": [
      "[CV]  criterion=gini, max_depth=6, min_samples_split=10000, n_estimators=100, total=   5.8s\n",
      "[CV] criterion=gini, max_depth=6, min_samples_split=10000, n_estimators=200 \n",
      "[CV]  criterion=gini, max_depth=6, min_samples_split=10000, n_estimators=200, total=  10.8s\n",
      "[CV] criterion=gini, max_depth=6, min_samples_split=10000, n_estimators=200 \n"
     ]
    },
    {
     "name": "stderr",
     "output_type": "stream",
     "text": [
      "/Users/iair/anaconda3/lib/python3.6/site-packages/sklearn/metrics/classification.py:1135: UndefinedMetricWarning: F-score is ill-defined and being set to 0.0 in labels with no predicted samples.\n",
      "  'precision', 'predicted', average, warn_for)\n"
     ]
    },
    {
     "name": "stdout",
     "output_type": "stream",
     "text": [
      "[CV]  criterion=gini, max_depth=6, min_samples_split=10000, n_estimators=200, total=  13.4s\n",
      "[CV] criterion=gini, max_depth=6, min_samples_split=10000, n_estimators=200 \n"
     ]
    },
    {
     "name": "stderr",
     "output_type": "stream",
     "text": [
      "/Users/iair/anaconda3/lib/python3.6/site-packages/sklearn/metrics/classification.py:1135: UndefinedMetricWarning: F-score is ill-defined and being set to 0.0 in labels with no predicted samples.\n",
      "  'precision', 'predicted', average, warn_for)\n"
     ]
    },
    {
     "name": "stdout",
     "output_type": "stream",
     "text": [
      "[CV]  criterion=gini, max_depth=6, min_samples_split=10000, n_estimators=200, total=  11.3s\n"
     ]
    },
    {
     "name": "stderr",
     "output_type": "stream",
     "text": [
      "[Parallel(n_jobs=1)]: Done 144 out of 144 | elapsed: 14.2min finished\n"
     ]
    }
   ],
   "source": [
    "parameters = {\n",
    "    'n_estimators': [10, 50, 100, 200],\n",
    "    'criterion': ['gini'],\n",
    "    'max_depth': [3, 4, 5, 6],\n",
    "    'min_samples_split': [1000, 5000, 10000]\n",
    "}\n",
    "\n",
    "# Prioritize Precision over Recall\n",
    "scorer = make_scorer(fbeta_score, beta=.5, average='weighted')\n",
    "grid_obj = GridSearchCV(clf, parameters, scorer, verbose=2)\n",
    "grid_fit = grid_obj.fit(X_train, y_train)"
   ]
  },
  {
   "cell_type": "code",
   "execution_count": 45,
   "metadata": {
    "ExecuteTime": {
     "end_time": "2018-09-19T05:09:01.582362Z",
     "start_time": "2018-09-19T05:08:50.932410Z"
    },
    "scrolled": true
   },
   "outputs": [
    {
     "name": "stdout",
     "output_type": "stream",
     "text": [
      "Unoptimized model\n",
      "------\n",
      "Accuracy score on testing data: 0.9977\n",
      "F-score on testing data: 0.9977\n",
      "\n",
      "Optimized Model\n",
      "------\n",
      "Final accuracy score on the testing data: 0.8148\n",
      "Final F-score on the testing data: 0.7849\n"
     ]
    }
   ],
   "source": [
    "best_clf = grid_fit.best_estimator_\n",
    "\n",
    "# Make predictions using the unoptimized and model\n",
    "predictions = (clf.fit(X_train, y_train)).predict(X_test)\n",
    "best_predictions = best_clf.predict(X_test)\n",
    "\n",
    "# Report the before-and-afterscores\n",
    "print(\"Unoptimized model\\n------\")\n",
    "print(\"Accuracy score on testing data: {:.4f}\".format(accuracy_score(y_test, predictions)))\n",
    "print(\"F-score on testing data: {:.4f}\".format(fbeta_score(y_test, predictions, beta = 0.5, average='weighted')))\n",
    "print(\"\\nOptimized Model\\n------\")\n",
    "print(\"Final accuracy score on the testing data: {:.4f}\".format(accuracy_score(y_test, best_predictions)))\n",
    "print(\"Final F-score on the testing data: {:.4f}\".format(fbeta_score(y_test, best_predictions, beta = 0.5, average='weighted')))"
   ]
  },
  {
   "cell_type": "code",
   "execution_count": 48,
   "metadata": {
    "ExecuteTime": {
     "end_time": "2018-09-19T05:29:42.870292Z",
     "start_time": "2018-09-19T05:29:42.754202Z"
    },
    "scrolled": true
   },
   "outputs": [
    {
     "data": {
      "text/plain": [
       "array([  1.42746000e-02,   2.13208733e-01,   4.45237137e-01,\n",
       "         8.53520685e-04,   1.84887388e-02,   0.00000000e+00,\n",
       "         0.00000000e+00,   2.88326861e-04,   8.17423594e-06,\n",
       "         0.00000000e+00,   1.15999470e-03,   7.71466343e-06,\n",
       "         0.00000000e+00,   0.00000000e+00,   0.00000000e+00,\n",
       "         8.58443916e-06,   1.01737149e-05,   6.74736488e-03,\n",
       "         9.35962151e-05,   2.06503786e-04,   0.00000000e+00,\n",
       "         0.00000000e+00,   2.48923581e-03,   0.00000000e+00,\n",
       "         0.00000000e+00,   0.00000000e+00,   3.39804239e-03,\n",
       "         0.00000000e+00,   0.00000000e+00,   1.50008994e-02,\n",
       "         1.30864159e-04,   1.59164004e-02,   1.38686388e-02,\n",
       "         4.55141225e-02,   0.00000000e+00,   0.00000000e+00,\n",
       "         1.04655847e-04,   0.00000000e+00,   1.20250295e-04,\n",
       "         0.00000000e+00,   2.93796645e-06,   6.10729899e-02,\n",
       "         1.65533978e-04,   2.52881282e-06,   0.00000000e+00,\n",
       "         3.25641327e-05,   0.00000000e+00,   0.00000000e+00,\n",
       "         2.97637083e-06,   0.00000000e+00,   0.00000000e+00,\n",
       "         0.00000000e+00,   0.00000000e+00,   1.17367144e-05,\n",
       "         0.00000000e+00,   0.00000000e+00,   0.00000000e+00,\n",
       "         0.00000000e+00,   0.00000000e+00,   0.00000000e+00,\n",
       "         0.00000000e+00,   0.00000000e+00,   0.00000000e+00,\n",
       "         0.00000000e+00,   0.00000000e+00,   0.00000000e+00,\n",
       "         0.00000000e+00,   0.00000000e+00,   0.00000000e+00,\n",
       "         0.00000000e+00,   0.00000000e+00,   0.00000000e+00,\n",
       "         0.00000000e+00,   1.50881980e-06,   0.00000000e+00,\n",
       "         0.00000000e+00,   0.00000000e+00,   0.00000000e+00,\n",
       "         0.00000000e+00,   0.00000000e+00,   0.00000000e+00,\n",
       "         0.00000000e+00,   0.00000000e+00,   0.00000000e+00,\n",
       "         0.00000000e+00,   0.00000000e+00,   0.00000000e+00,\n",
       "         0.00000000e+00,   9.34601585e-06,   0.00000000e+00,\n",
       "         0.00000000e+00,   1.35302031e-05,   0.00000000e+00,\n",
       "         0.00000000e+00,   0.00000000e+00,   0.00000000e+00,\n",
       "         0.00000000e+00,   0.00000000e+00,   0.00000000e+00,\n",
       "         0.00000000e+00,   0.00000000e+00,   0.00000000e+00,\n",
       "         0.00000000e+00,   0.00000000e+00,   0.00000000e+00,\n",
       "         0.00000000e+00,   0.00000000e+00,   0.00000000e+00,\n",
       "         0.00000000e+00,   0.00000000e+00,   0.00000000e+00,\n",
       "         0.00000000e+00,   0.00000000e+00,   0.00000000e+00,\n",
       "         0.00000000e+00,   0.00000000e+00,   0.00000000e+00,\n",
       "         0.00000000e+00,   6.01486751e-05,   0.00000000e+00,\n",
       "         0.00000000e+00,   0.00000000e+00,   0.00000000e+00,\n",
       "         0.00000000e+00,   1.12391017e-03,   1.66073591e-03,\n",
       "         2.26597942e-04,   1.52756755e-03,   4.84185872e-04,\n",
       "         0.00000000e+00,   0.00000000e+00,   0.00000000e+00,\n",
       "         1.20352572e-06,   0.00000000e+00,   0.00000000e+00,\n",
       "         1.03160043e-04,   0.00000000e+00,   0.00000000e+00,\n",
       "         0.00000000e+00,   0.00000000e+00,   0.00000000e+00,\n",
       "         0.00000000e+00,   4.94816723e-05,   6.50318482e-05,\n",
       "         8.85753761e-05,   1.06406244e-04,   0.00000000e+00,\n",
       "         0.00000000e+00,   1.53392393e-03,   1.66042624e-04,\n",
       "         1.05438467e-03,   3.88675607e-05,   0.00000000e+00,\n",
       "         1.72793437e-04,   0.00000000e+00,   4.52386658e-07,\n",
       "         0.00000000e+00,   0.00000000e+00,   0.00000000e+00,\n",
       "         5.25609889e-03,   2.51906303e-02,   0.00000000e+00,\n",
       "         0.00000000e+00,   6.52411429e-04,   2.21657799e-02,\n",
       "         3.52070604e-02,   0.00000000e+00,   4.60350048e-03,\n",
       "         1.83775501e-06,   2.11259439e-03,   0.00000000e+00,\n",
       "         0.00000000e+00,   1.14236969e-05,   3.99731921e-06,\n",
       "         0.00000000e+00,   0.00000000e+00,   7.70154897e-06,\n",
       "         0.00000000e+00,   0.00000000e+00,   0.00000000e+00,\n",
       "         0.00000000e+00,   8.92593758e-06,   0.00000000e+00,\n",
       "         0.00000000e+00,   0.00000000e+00,   4.72747148e-06,\n",
       "         0.00000000e+00,   0.00000000e+00,   3.16716212e-04,\n",
       "         1.53377066e-03,   4.79409262e-05,   0.00000000e+00,\n",
       "         1.68569565e-04,   2.34738074e-04,   0.00000000e+00,\n",
       "         0.00000000e+00,   1.88591293e-05,   0.00000000e+00,\n",
       "         0.00000000e+00,   0.00000000e+00,   1.93686331e-04,\n",
       "         0.00000000e+00,   1.70398442e-04,   8.68801094e-06,\n",
       "         4.19920235e-03,   1.12699156e-03,   1.44243850e-05,\n",
       "         6.50430673e-05,   1.05893733e-06,   4.18365553e-03,\n",
       "         0.00000000e+00,   0.00000000e+00,   1.02086528e-06,\n",
       "         3.35223554e-05,   0.00000000e+00,   0.00000000e+00,\n",
       "         6.12382241e-05,   0.00000000e+00,   0.00000000e+00,\n",
       "         0.00000000e+00,   6.78655224e-06,   1.49197169e-05,\n",
       "         0.00000000e+00,   0.00000000e+00,   0.00000000e+00,\n",
       "         0.00000000e+00,   0.00000000e+00,   6.24108621e-04,\n",
       "         0.00000000e+00,   0.00000000e+00,   0.00000000e+00,\n",
       "         0.00000000e+00,   0.00000000e+00,   0.00000000e+00,\n",
       "         0.00000000e+00,   6.14146669e-05,   0.00000000e+00,\n",
       "         0.00000000e+00,   0.00000000e+00,   0.00000000e+00,\n",
       "         0.00000000e+00,   0.00000000e+00,   0.00000000e+00,\n",
       "         0.00000000e+00,   0.00000000e+00,   0.00000000e+00,\n",
       "         0.00000000e+00,   0.00000000e+00,   2.80900906e-05,\n",
       "         4.31626613e-05,   0.00000000e+00,   0.00000000e+00,\n",
       "         7.66363167e-04,   0.00000000e+00,   0.00000000e+00,\n",
       "         1.28252999e-06,   0.00000000e+00,   1.19411602e-05,\n",
       "         0.00000000e+00,   0.00000000e+00,   0.00000000e+00,\n",
       "         0.00000000e+00,   0.00000000e+00,   0.00000000e+00,\n",
       "         0.00000000e+00,   9.68485051e-06,   0.00000000e+00,\n",
       "         0.00000000e+00,   0.00000000e+00,   5.55543708e-06,\n",
       "         0.00000000e+00,   0.00000000e+00,   3.13591090e-05,\n",
       "         0.00000000e+00,   2.30429725e-04,   0.00000000e+00,\n",
       "         2.09771269e-03,   3.98347178e-04,   0.00000000e+00,\n",
       "         0.00000000e+00,   0.00000000e+00,   0.00000000e+00,\n",
       "         6.13428517e-03,   1.45713756e-02,   4.13775983e-04,\n",
       "         0.00000000e+00,   0.00000000e+00,   0.00000000e+00,\n",
       "         0.00000000e+00,   0.00000000e+00,   2.77962646e-05,\n",
       "         0.00000000e+00,   0.00000000e+00])"
      ]
     },
     "execution_count": 48,
     "metadata": {},
     "output_type": "execute_result"
    }
   ],
   "source": [
    "best_clf.feature_importances_"
   ]
  },
  {
   "cell_type": "code",
   "execution_count": 49,
   "metadata": {
    "ExecuteTime": {
     "end_time": "2018-09-19T05:29:45.815832Z",
     "start_time": "2018-09-19T05:29:45.699836Z"
    },
    "scrolled": true
   },
   "outputs": [
    {
     "data": {
      "text/plain": [
       "array([  2.30352674e-02,   1.48421941e-01,   5.73142044e-01,\n",
       "         4.76578041e-03,   4.70844331e-03,   3.26610361e-05,\n",
       "         3.19495705e-04,   1.34730655e-03,   1.44309986e-04,\n",
       "         1.16275592e-03,   2.53370490e-03,   7.32671073e-04,\n",
       "         4.94296537e-04,   4.63309175e-04,   4.03580541e-05,\n",
       "         4.87240546e-04,   7.30509071e-04,   5.77027030e-03,\n",
       "         3.22440344e-04,   1.59371408e-03,   6.28821930e-05,\n",
       "         5.94970672e-05,   4.73305505e-04,   3.70341481e-04,\n",
       "         7.57490131e-04,   4.70371981e-05,   1.70094583e-03,\n",
       "         4.22935319e-04,   3.44624046e-04,   4.56989865e-03,\n",
       "         5.24353002e-04,   1.05808605e-02,   3.48342005e-03,\n",
       "         1.51156644e-02,   1.85959605e-04,   7.89808553e-05,\n",
       "         2.26778644e-03,   3.68128921e-04,   1.89990345e-03,\n",
       "         0.00000000e+00,   2.87172464e-03,   1.23733475e-02,\n",
       "         8.07102101e-04,   6.95915856e-04,   9.68780860e-04,\n",
       "         1.07454169e-04,   6.21274738e-05,   1.45462712e-04,\n",
       "         6.10239859e-05,   6.87203880e-05,   2.37024183e-04,\n",
       "         6.17009542e-06,   3.71227635e-05,   5.31913609e-04,\n",
       "         1.12760724e-04,   1.25712759e-05,   5.70590371e-05,\n",
       "         1.00873967e-04,   2.00999791e-05,   1.31196512e-04,\n",
       "         1.46215173e-04,   1.06945023e-04,   3.85780804e-05,\n",
       "         1.37889346e-04,   3.63055496e-04,   1.64633670e-04,\n",
       "         4.27162046e-05,   4.25126992e-05,   7.12538561e-05,\n",
       "         4.87597305e-05,   1.19846010e-04,   8.90801810e-05,\n",
       "         1.39373835e-05,   5.92494010e-05,   8.27051293e-05,\n",
       "         1.31072971e-04,   4.74275567e-05,   4.89265044e-05,\n",
       "         3.62864084e-05,   1.47665516e-04,   0.00000000e+00,\n",
       "         2.99613078e-05,   1.58587515e-05,   1.48262185e-05,\n",
       "         1.79838931e-04,   7.98178458e-05,   1.33003707e-05,\n",
       "         4.72935708e-05,   6.00991354e-05,   9.16137216e-05,\n",
       "         4.71653195e-05,   3.73665914e-04,   7.58725196e-05,\n",
       "         1.56060559e-05,   4.43429378e-05,   3.17211472e-05,\n",
       "         1.84269862e-05,   1.01991062e-05,   1.37536669e-04,\n",
       "         2.46463203e-05,   1.74967030e-04,   1.16796056e-04,\n",
       "         5.65705781e-05,   5.77040247e-05,   5.75238134e-05,\n",
       "         3.07044519e-06,   5.96570574e-05,   1.40139389e-04,\n",
       "         1.87049342e-05,   1.10428501e-05,   3.86506275e-05,\n",
       "         1.15480328e-05,   5.75235397e-05,   1.16179773e-05,\n",
       "         5.01160776e-05,   5.19145373e-05,   3.64428708e-05,\n",
       "         3.69396762e-05,   6.35137146e-05,   1.27348998e-05,\n",
       "         5.79626239e-05,   4.06476719e-06,   4.01931986e-06,\n",
       "         7.38037636e-05,   6.38254208e-04,   6.13577858e-04,\n",
       "         6.23836200e-04,   1.35486754e-03,   1.23557842e-03,\n",
       "         2.57630402e-05,   2.74545490e-03,   3.25227975e-03,\n",
       "         3.25823632e-03,   2.59083310e-03,   2.08182807e-03,\n",
       "         1.97639421e-03,   8.01733336e-04,   4.62799728e-04,\n",
       "         3.61171159e-04,   1.24203541e-03,   3.69725690e-04,\n",
       "         3.54420418e-04,   1.03346027e-03,   1.21122917e-03,\n",
       "         8.42461234e-04,   9.43578807e-04,   1.05018933e-03,\n",
       "         1.92092532e-04,   6.78224362e-04,   1.38680388e-03,\n",
       "         1.47300457e-03,   1.17483604e-03,   2.73117767e-04,\n",
       "         2.27975287e-03,   1.81708263e-03,   2.25680019e-03,\n",
       "         8.05875995e-04,   3.14876810e-05,   2.58958277e-05,\n",
       "         7.88678689e-04,   2.40893476e-02,   3.86002699e-05,\n",
       "         1.39070562e-06,   7.37115457e-03,   5.62591071e-03,\n",
       "         8.08203019e-03,   1.16753387e-04,   1.53209218e-03,\n",
       "         8.09729939e-04,   1.28576368e-03,   2.84466432e-04,\n",
       "         6.21568815e-04,   7.12889618e-04,   5.46281179e-04,\n",
       "         5.53510778e-04,   1.07300942e-03,   5.54251772e-04,\n",
       "         4.86173993e-04,   1.02180432e-03,   9.04963496e-04,\n",
       "         2.68424933e-04,   5.25184036e-04,   1.78154373e-04,\n",
       "         1.09970460e-04,   6.16525100e-04,   1.90248172e-03,\n",
       "         1.85473546e-03,   6.90610163e-04,   2.70451638e-03,\n",
       "         8.35805392e-04,   6.34706843e-04,   2.62758190e-03,\n",
       "         1.42510069e-03,   1.17946920e-03,   1.06676904e-03,\n",
       "         3.80254536e-04,   1.45291270e-03,   1.09138820e-04,\n",
       "         3.72165266e-04,   3.98625787e-04,   1.78829604e-03,\n",
       "         2.52459464e-04,   1.40742105e-04,   1.83319114e-03,\n",
       "         1.88094079e-03,   1.70493223e-03,   1.06721782e-03,\n",
       "         1.67584020e-03,   2.23155744e-04,   1.14541949e-03,\n",
       "         1.37844437e-04,   9.63691678e-05,   1.85753525e-04,\n",
       "         1.83602663e-04,   7.75114073e-04,   3.00499526e-04,\n",
       "         7.37546375e-04,   3.93125189e-04,   2.46368182e-04,\n",
       "         1.37155219e-04,   1.26968589e-04,   4.76642534e-04,\n",
       "         4.27166103e-04,   2.51146223e-04,   2.77059324e-04,\n",
       "         1.91346741e-04,   3.67987268e-04,   3.45295683e-04,\n",
       "         8.63043616e-05,   2.43033922e-04,   2.69299394e-04,\n",
       "         3.47792245e-05,   1.11508135e-04,   2.75176262e-04,\n",
       "         2.49743127e-04,   1.78123085e-04,   3.31620802e-04,\n",
       "         3.06689815e-04,   2.36365391e-04,   4.28384849e-04,\n",
       "         1.43849888e-04,   1.45263202e-04,   3.32541897e-04,\n",
       "         2.37503392e-04,   2.84842472e-04,   2.05474419e-04,\n",
       "         4.21502896e-04,   1.86372436e-04,   2.86402386e-04,\n",
       "         2.49426891e-04,   2.84385378e-04,   1.33520932e-04,\n",
       "         2.93976108e-04,   1.08051028e-04,   2.13068795e-04,\n",
       "         2.96610683e-04,   4.24899331e-04,   3.95523027e-04,\n",
       "         2.21155156e-04,   2.61077261e-04,   1.76284445e-04,\n",
       "         5.37571989e-04,   2.59328694e-04,   9.32767567e-05,\n",
       "         3.95478129e-04,   1.89520280e-04,   3.87518799e-04,\n",
       "         2.15137117e-04,   2.52802390e-04,   4.95672045e-04,\n",
       "         3.26688341e-04,   1.43613484e-04,   3.15371964e-04,\n",
       "         4.57675570e-04,   7.19761289e-04,   4.58346454e-04,\n",
       "         8.82640275e-04,   8.90224816e-04,   3.40998977e-06,\n",
       "         1.41753504e-06,   3.38581127e-04,   2.34303582e-04,\n",
       "         9.59352421e-04,   4.64925064e-03,   1.70831778e-03,\n",
       "         8.77683755e-04,   1.47783897e-03,   4.50432739e-04,\n",
       "         1.20116112e-04,   3.70387119e-04,   3.69716706e-04,\n",
       "         5.59750312e-04,   7.10115618e-04])"
      ]
     },
     "execution_count": 49,
     "metadata": {},
     "output_type": "execute_result"
    }
   ],
   "source": [
    "clf.feature_importances_"
   ]
  }
 ],
 "metadata": {
  "kernelspec": {
   "display_name": "Python [conda env:anaconda3]",
   "language": "python",
   "name": "conda-env-anaconda3-py"
  },
  "language_info": {
   "codemirror_mode": {
    "name": "ipython",
    "version": 3
   },
   "file_extension": ".py",
   "mimetype": "text/x-python",
   "name": "python",
   "nbconvert_exporter": "python",
   "pygments_lexer": "ipython3",
   "version": "3.6.5"
  }
 },
 "nbformat": 4,
 "nbformat_minor": 2
}
