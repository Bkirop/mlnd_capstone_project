{
 "cells": [
  {
   "cell_type": "markdown",
   "metadata": {
    "nbpresent": {
     "id": "9a756d59-eaac-4096-9072-3b2d0b4e33ae"
    }
   },
   "source": [
    "# EDA"
   ]
  },
  {
   "cell_type": "markdown",
   "metadata": {
    "nbpresent": {
     "id": "232f182a-5024-4d1a-bbf9-43b27a942cad"
    }
   },
   "source": [
    "This notebook contains all the exploratory work done for the project. Its main results and insights are presenten in the final report under the *Analysis* section.\n",
    "\n",
    "We will follow the suggested order from the report template made available by Udacity.\n",
    "\n",
    "First, we will do a thorough exploration of  the dataset. Looking into each feature –specially the categorical ones– and their respective values. Here, our goal will be to understand how the possible values for each feature are distributed, what represent a null or empty value for each feature and how should we treat it. We will also try to understand what constitutes an outlier, both at the feature and the sample level. As a result, we will be able to curate the data in a suitable way for the later model.\n",
    "\n",
    "<span style=\"color:red\">**IMPROVE THIS DESCRIPTION**</span>"
   ]
  },
  {
   "cell_type": "markdown",
   "metadata": {
    "nbpresent": {
     "id": "e700f989-0b2b-4cc6-9614-77476c23e0c4"
    }
   },
   "source": [
    "## I. Data Exploration"
   ]
  },
  {
   "cell_type": "markdown",
   "metadata": {
    "nbpresent": {
     "id": "ec024799-a91a-422a-9e7d-021b983fa09e"
    }
   },
   "source": [
    "### Initialization"
   ]
  },
  {
   "cell_type": "markdown",
   "metadata": {
    "nbpresent": {
     "id": "d1c8ebd4-351a-4db1-8807-431498a82836"
    }
   },
   "source": [
    "First, lets import all the libraries we will use in notebook and define some utility functions."
   ]
  },
  {
   "cell_type": "code",
   "execution_count": 1,
   "metadata": {
    "ExecuteTime": {
     "end_time": "2018-08-27T02:53:14.538343Z",
     "start_time": "2018-08-27T02:53:12.959577Z"
    },
    "nbpresent": {
     "id": "a04f2e6e-7e84-4ec1-82a8-4e2de7013091"
    }
   },
   "outputs": [],
   "source": [
    "import numpy as np\n",
    "import pandas as pd\n",
    "import seaborn as sns\n",
    "from matplotlib import pyplot as plt\n",
    "from IPython.display import Markdown, display\n",
    "\n",
    "%matplotlib inline\n",
    "\n",
    "plt.style.use('seaborn-whitegrid')\n",
    "\n",
    "# primt markdown programatically for better visualization.\n",
    "def printmd(string):\n",
    "    display(Markdown(string))\n",
    "\n",
    "def plot_and_annotate(data, **kwarg):\n",
    "    ax = data['percent'].sort_values().plot(kind='barh', color='b', **kwarg)\n",
    "    for p in ax.patches:\n",
    "        width = p.get_width()\n",
    "        plt.text(5+p.get_width(), p.get_y()+0.55*p.get_height(),\n",
    "             '{:1.2f}%'.format(width),\n",
    "             ha='center', va='center')"
   ]
  },
  {
   "cell_type": "markdown",
   "metadata": {
    "nbpresent": {
     "id": "aaa8d824-1dc9-4860-b290-aacb590b06eb"
    }
   },
   "source": [
    "### Data Loading"
   ]
  },
  {
   "cell_type": "markdown",
   "metadata": {
    "nbpresent": {
     "id": "d678a017-7377-42dd-832e-fa7a61963c8b"
    }
   },
   "source": [
    "Next, we simply load the dataset"
   ]
  },
  {
   "cell_type": "code",
   "execution_count": 2,
   "metadata": {
    "ExecuteTime": {
     "end_time": "2018-08-27T02:53:24.647220Z",
     "start_time": "2018-08-27T02:53:17.520360Z"
    },
    "nbpresent": {
     "id": "44ec6af9-588f-49cb-91b1-4f3a8f2c4eab"
    }
   },
   "outputs": [],
   "source": [
    "crash_data = pd.read_csv('Crash_Analysis_System_CAS_data.csv')"
   ]
  },
  {
   "cell_type": "code",
   "execution_count": 3,
   "metadata": {
    "ExecuteTime": {
     "end_time": "2018-08-27T02:53:24.653072Z",
     "start_time": "2018-08-27T02:53:24.649478Z"
    },
    "nbpresent": {
     "id": "df59dd72-ae6b-4123-a863-9b4997199aff"
    }
   },
   "outputs": [
    {
     "name": "stdout",
     "output_type": "stream",
     "text": [
      "The dataset has 655,697 samples and 89 features\n"
     ]
    }
   ],
   "source": [
    "print('The dataset has {:3,d} samples and {} features'.format(*crash_data.shape))"
   ]
  },
  {
   "cell_type": "markdown",
   "metadata": {
    "heading_collapsed": true,
    "nbpresent": {
     "id": "88e9e187-c14a-4176-b038-e0c197435dd5"
    }
   },
   "source": [
    "### Removal of Non Relevant Features"
   ]
  },
  {
   "cell_type": "markdown",
   "metadata": {
    "hidden": true,
    "nbpresent": {
     "id": "7cfc30f6-b19a-4b49-a5b2-74ba650688b6"
    }
   },
   "source": [
    "Our dataset is quite big, but still manageable without any parallelization. It contains 655,697 samples. Each with 89 features. However, not all these features will be useful or relevant towards our goal. the file *Crash_Analysis_System_CAS_data.pdf* –available in the root of the project's repository– contains a description of each feature and is provided by the New Zealand Transport Agency. We have used it to do a first pass of the list of features –together with their definition– and have identified some feature we can disregard from the outset. You are encouraged to do a quick read of the document to better understand these features."
   ]
  },
  {
   "cell_type": "markdown",
   "metadata": {
    "ExecuteTime": {
     "end_time": "2018-08-25T14:56:38.779489Z",
     "start_time": "2018-08-25T14:56:38.773695Z"
    },
    "hidden": true,
    "nbpresent": {
     "id": "36b1466d-1480-442b-9756-640192fb668c"
    }
   },
   "source": [
    "These are the features we will remove and the motivation behind each one:\n",
    "\n",
    "* **_crashFinancialYear_**: we already have the specific year of the crash in the feature *crashYear*.\n",
    "* **_tlaID_**: this is the ID of the *Territorial Local Authority*. Since we will use the feature *tlaName* for a better understanding of the data, we will disregard this one as it becomes redundant.\n",
    "* **_areaUnitID_**: by reading the definition of this feature, it’s not clear enough what it represents or how it might be relevant towards our goal. Therefore, we will also disregard it in the name of data sanity.\n",
    "* **_meshblockID_**, **_easting_**, **_northing_**, **_crashRSRP_**, **_crashDirectionDescription_**, **_crashDistance_**, **_crashRPDescription_**, **_crashLocation1_**, **_crashLocation2_**, **_outdatedLocationDescription_**: although each of these features have value for different purposes, they correspond mainly to reference data used by the NZ Transport Agency and do not correspond to data from the crash itself."
   ]
  },
  {
   "cell_type": "markdown",
   "metadata": {
    "nbpresent": {
     "id": "62b6c4ad-8ec6-4f65-aff1-c21b716bf137"
    }
   },
   "source": [
    "### Initial Exploration of Feature's Values"
   ]
  },
  {
   "cell_type": "markdown",
   "metadata": {
    "nbpresent": {
     "id": "98920531-0f5f-40c5-a73e-f0ce7c058cc3"
    }
   },
   "source": [
    "From this point forward, we will use a feature catalog, which is a distilled version of the PDF from above. The catalog will be useful to keep track of all the features, their meaning and type, and the data type of their values. we will use it as a reference throughout the project and it will be useful should you have any question about the dataset.\n",
    "\n",
    "The catalog is a tab-separated file named *features_description.tsv*. You ca find in the root of the project's repository."
   ]
  },
  {
   "cell_type": "code",
   "execution_count": 4,
   "metadata": {
    "ExecuteTime": {
     "end_time": "2018-08-27T02:53:30.426060Z",
     "start_time": "2018-08-27T02:53:30.416647Z"
    },
    "nbpresent": {
     "id": "48d6d041-2803-4599-b6f2-d056a5f7157a"
    },
    "scrolled": false
   },
   "outputs": [],
   "source": [
    "features_catalog = pd.read_table('features_description.tsv')"
   ]
  },
  {
   "cell_type": "markdown",
   "metadata": {
    "nbpresent": {
     "id": "003baad5-c9fc-4522-b8b8-7069384c3662"
    }
   },
   "source": [
    "First, we show all the posible values (with their respective counts) for each categorical feature and then we explore each one individually. Aditionally, we fill al NA values withe the string `N/A` to get full visibility of missing values."
   ]
  },
  {
   "cell_type": "code",
   "execution_count": 5,
   "metadata": {
    "ExecuteTime": {
     "end_time": "2018-08-27T02:53:36.806719Z",
     "start_time": "2018-08-27T02:53:32.222682Z"
    },
    "nbpresent": {
     "id": "841a8d3a-bd2b-45c6-b285-24bbbc710d02"
    },
    "scrolled": true
   },
   "outputs": [
    {
     "name": "stdout",
     "output_type": "stream",
     "text": [
      "   crashSeverity    percent\n",
      "N         467139  71.243120\n",
      "M         146195  22.296122\n",
      "S          36330   5.540669\n",
      "F           6033   0.920090\n",
      "\n",
      "                                 multiVehicle    percent\n",
      "Multi vehicle                          424427  64.729136\n",
      "Single vehicle                         192614  29.375458\n",
      "Vehicle(s)+Pedestrian(s)                19005   2.898442\n",
      "Vehicle(s)+Cyclist(s) only              17194   2.622248\n",
      "Cyclists only                            1116   0.170201\n",
      "Vehicle(s)+multiple other types          1065   0.162423\n",
      "Cyclist(s)+Pedestrian(s) only             157   0.023944\n",
      "Other                                     110   0.016776\n",
      "Others without non-parked veh               9   0.001373\n",
      "\n",
      "                    holiday    percent\n",
      "None                 619350  94.456738\n",
      "Christmas/New Year    16732   2.551788\n",
      "Easter                 7824   1.193234\n",
      "Queens Birthday        6142   0.936713\n",
      "Labour Weekend         5649   0.861526\n",
      "\n",
      "                      regionDesc    percent\n",
      "Auckland                  235910  35.978508\n",
      "Waikato                    67907  10.356460\n",
      "Canterbury                 66599  10.156978\n",
      "Wellington                 63434   9.674286\n",
      "Bay of Plenty              36543   5.573153\n",
      "Otago                      36017   5.492933\n",
      "Manawatu/Wanganui          35330   5.388159\n",
      "Northland                  25624   3.907903\n",
      "Hawkes Bay                 25366   3.868555\n",
      "Nelson/Marlborough         18796   2.866568\n",
      "Southland                  16445   2.508018\n",
      "Taranaki                   14520   2.214437\n",
      "Gisborne                    7469   1.139093\n",
      "West Coast                  5737   0.874947\n",
      "\n",
      "                                tlaName    percent\n",
      "Auckland                         235898  35.976678\n",
      "Christchurch City                 43871   6.690743\n",
      "Wellington City                   26388   4.024420\n",
      "Hamilton City                     22488   3.429633\n",
      "Dunedin City                      20501   3.126597\n",
      "Tauranga City                     14726   2.245854\n",
      "Hutt City                         14137   2.156026\n",
      "Whangarei District                12989   1.980945\n",
      "Hastings District                 12643   1.928177\n",
      "Palmerston North City             11738   1.790156\n",
      "Waikato District                  11496   1.753249\n",
      "Rotorua District                  10918   1.665098\n",
      "New Plymouth District             10083   1.537753\n",
      "Far North District                 9427   1.437707\n",
      "Napier City                        9054   1.380821\n",
      "Invercargill City                  8659   1.320579\n",
      "Porirua City                       7497   1.143363\n",
      "Gisborne District                  7469   1.139093\n",
      "Taupo District                     6522   0.994667\n",
      "Marlborough District               6474   0.987346\n",
      "Nelson City                        6466   0.986126\n",
      "Waipa District                     6406   0.976976\n",
      "Western Bay Of Plenty District     6340   0.966910\n",
      "Queenstown-Lakes District          6065   0.924970\n",
      "Tasman District                    5856   0.893095\n",
      "Southland District                 5823   0.888063\n",
      "Wanganui District                  5730   0.873879\n",
      "Timaru District                    5294   0.807385\n",
      "Matamata-Piako District            5219   0.795947\n",
      "Kapiti Coast District              5159   0.786796\n",
      "...                                 ...        ...\n",
      "Waimakariri District               3851   0.587314\n",
      "Thames-Coromandel District         3782   0.576791\n",
      "Waitaki District                   3725   0.568098\n",
      "Clutha District                    3631   0.553762\n",
      "Hauraki District                   3596   0.548424\n",
      "Masterton District                 3375   0.514719\n",
      "Tararua District                   3305   0.504044\n",
      "South Taranaki District            3250   0.495656\n",
      "Kaipara District                   3208   0.489250\n",
      "Ruapehu District                   3169   0.483303\n",
      "Ashburton District                 3142   0.479185\n",
      "Rangitikei District                2999   0.457376\n",
      "Central Otago District             2588   0.394695\n",
      "Hurunui District                   2492   0.380054\n",
      "Waitomo District                   2439   0.371971\n",
      "Grey District                      2094   0.319355\n",
      "Gore District                      1963   0.299376\n",
      "Westland District                  1871   0.285345\n",
      "Buller District                    1772   0.270247\n",
      "Wairoa District                    1770   0.269942\n",
      "Central Hawkes Bay District        1716   0.261706\n",
      "Otorohanga District                1494   0.227849\n",
      "South Wairarapa District           1489   0.227087\n",
      "Stratford District                 1211   0.184689\n",
      "Waimate District                   1090   0.166235\n",
      "Opotiki District                   1090   0.166235\n",
      "Mackenzie District                 1084   0.165320\n",
      "Carterton District                  981   0.149612\n",
      "Kaikoura District                   955   0.145647\n",
      "Kawerau District                    268   0.040873\n",
      "\n",
      "[66 rows x 2 columns]\n",
      "\n",
      "              intersection    percent\n",
      "Unknown             408113  62.241096\n",
      "Intersection        237916  36.284442\n",
      "At Landmark           9668   1.474462\n",
      "\n",
      "                 junctionType    percent\n",
      "Unknown                328852  50.153043\n",
      "T Type Junction        141095  21.518323\n",
      "X Type Junction         84503  12.887507\n",
      "Driveway                55704   8.495387\n",
      "Roundabout              31497   4.803591\n",
      "Y Type Junction          8124   1.238987\n",
      "Multi Rd Join            5922   0.903161\n",
      "\n",
      "     cornerRoadSideRoad    percent\n",
      "1.0              610996  93.182674\n",
      "2.0               44696   6.816563\n",
      "0.0                   3   0.000458\n",
      "N/A                   2   0.000305\n",
      "\n",
      "         directionRoleDescription    percent\n",
      "North                      201213  30.686887\n",
      "South                      190991  29.127936\n",
      "East                       132506  20.208419\n",
      "West                       130979  19.975537\n",
      "Unknown                         6   0.000915\n",
      "0                               2   0.000305\n",
      "\n",
      "     crashSHDescription    percent\n",
      "No               462760  70.575281\n",
      "Yes              192937  29.424719\n",
      "\n",
      "      crashRPSH    percent\n",
      "0.0      468593  71.464869\n",
      "N/A       79453  12.117335\n",
      "2.0       20114   3.067575\n",
      "3.0       11243   1.714664\n",
      "6.0        9721   1.482545\n",
      "16.0       7908   1.206045\n",
      "5.0        4017   0.612631\n",
      "20.0       2864   0.436787\n",
      "73.0       2760   0.420926\n",
      "30.0       2598   0.396220\n",
      "8.0        2458   0.374868\n",
      "25.0       2269   0.346044\n",
      "29.0       2228   0.339791\n",
      "4.0        2128   0.324540\n",
      "45.0       2101   0.320422\n",
      "35.0       1754   0.267502\n",
      "12.0       1704   0.259876\n",
      "74.0       1670   0.254691\n",
      "7.0        1498   0.228459\n",
      "26.0       1485   0.226477\n",
      "10.0       1422   0.216868\n",
      "60.0       1392   0.212293\n",
      "27.0       1391   0.212141\n",
      "50.0       1391   0.212141\n",
      "94.0       1240   0.189112\n",
      "57.0       1158   0.176606\n",
      "23.0       1061   0.161813\n",
      "58.0        914   0.139394\n",
      "75.0        910   0.138784\n",
      "14.0        844   0.128718\n",
      "...         ...        ...\n",
      "93.0        290   0.044228\n",
      "41.0        282   0.043008\n",
      "38.0        279   0.042550\n",
      "24.0        265   0.040415\n",
      "63.0        253   0.038585\n",
      "43.0        235   0.035840\n",
      "67.0        228   0.034772\n",
      "34.0        226   0.034467\n",
      "83.0        225   0.034315\n",
      "82.0        217   0.033095\n",
      "47.0        211   0.032179\n",
      "49.0        189   0.028824\n",
      "28.0        181   0.027604\n",
      "90.0        163   0.024859\n",
      "71.0        156   0.023791\n",
      "21.0        132   0.020131\n",
      "53.0        130   0.019826\n",
      "62.0        121   0.018454\n",
      "80.0        111   0.016929\n",
      "84.0         89   0.013573\n",
      "69.0         88   0.013421\n",
      "37.0         86   0.013116\n",
      "98.0         77   0.011743\n",
      "97.0         57   0.008693\n",
      "86.0         57   0.008693\n",
      "95.0         56   0.008541\n",
      "17.0         39   0.005948\n",
      "78.0         33   0.005033\n",
      "48.0         30   0.004575\n",
      "46.0         17   0.002593\n",
      "\n",
      "[81 rows x 2 columns]\n",
      "\n",
      "              intersectionMidblock    percent\n",
      "Mid Block                   389273  59.367818\n",
      "Intersection                266424  40.632182\n",
      "\n",
      "         flatHill    percent\n",
      "Flat       526899  80.357086\n",
      "Hill       127352  19.422386\n",
      "Unknown      1446   0.220529\n",
      "\n",
      "                  roadCharacter    percent\n",
      "Unknown                  633406  96.600411\n",
      "Bridge                    12420   1.894168\n",
      "Motorway Ramp              8302   1.266134\n",
      "Railway Crossing           1569   0.239287\n",
      "\n",
      "                roadCurvature    percent\n",
      "Straight Road          451694  68.887611\n",
      "Easy Curve              95961  14.634961\n",
      "Moderate Curve          88471  13.492665\n",
      "Severe Curve            19568   2.984305\n",
      "Unknown                     3   0.000458\n",
      "\n",
      "     roadLane    percent\n",
      "2.0    589010  89.829601\n",
      "1.0     56210   8.572557\n",
      "N/A     10477   1.597842\n",
      "\n"
     ]
    },
    {
     "name": "stdout",
     "output_type": "stream",
     "text": [
      "                  roadMarkings    percent\n",
      "Centre Line             416965  63.591110\n",
      "No Marks                 84498  12.886745\n",
      "Raised Island            83513  12.736523\n",
      "Painted Island           35448   5.406156\n",
      "No Passing Lines         26515   4.043789\n",
      "Ped Crossing              6643   1.013120\n",
      "Unknown                   2114   0.322405\n",
      "0                            1   0.000153\n",
      "\n",
      "          roadSurface    percent\n",
      "Sealed         642876  98.044676\n",
      "Unsealed        12819   1.955019\n",
      "Unknown             2   0.000305\n",
      "\n",
      "           roadWet    percent\n",
      "Dry         482672  73.612049\n",
      "Wet         163171  24.885122\n",
      "Ice/ Snow     6395   0.975298\n",
      "Unknown       3459   0.527530\n",
      "\n",
      "                trafficControl    percent\n",
      "Nil                     283544  43.243144\n",
      "N/A                     147500  22.495146\n",
      "Give Way Sign           116738  17.803650\n",
      "Traffic Signal           67058  10.226980\n",
      "Stop Sign                40460   6.170533\n",
      "School Patrol              316   0.048193\n",
      "Points Man                  81   0.012353\n",
      "\n",
      "           urban    percent\n",
      "Urban     446649  68.118201\n",
      "Openroad  209048  31.881799\n",
      "\n",
      "         darkLight    percent\n",
      "Light       447617  68.265830\n",
      "Dark        206962  31.563664\n",
      "Unknown       1118   0.170506\n",
      "\n",
      "             light    percent\n",
      "Bright Sun  247727  37.780713\n",
      "Overcast    199890  30.485117\n",
      "Dark        176505  26.918683\n",
      "Twilight     30457   4.644981\n",
      "Unknown       1118   0.170506\n",
      "\n",
      "         streetLight    percent\n",
      "Unknown       274983  41.937511\n",
      "Off           155446  23.706987\n",
      "On            139288  21.242739\n",
      "None           85980  13.112764\n",
      "\n",
      "            weatherA    percent\n",
      "Fine          509957  77.773270\n",
      "Light Rain    100399  15.311798\n",
      "Heavy Rain     27716   4.226952\n",
      "Mist            8714   1.328967\n",
      "Unknown         7502   1.144126\n",
      "Snow            1409   0.214886\n",
      "\n",
      "             weatherB    percent\n",
      "Unknown        639085  97.466513\n",
      "Strong Wind      9983   1.522502\n",
      "Frost            6629   1.010985\n",
      "\n"
     ]
    }
   ],
   "source": [
    "crash_data.fillna('N/A', inplace=True)\n",
    "plot_data = {}\n",
    "for feature in features_catalog[features_catalog['feature_type'] == 'categorical'].itertuples():\n",
    "    values = crash_data[feature.feature_name].value_counts()\n",
    "    plot_data[feature.feature_name] = values.to_frame(feature.feature_name)\n",
    "    plot_data[feature.feature_name]['percent'] = values.apply(lambda _: _ / crash_data.shape[0] * 100)\n",
    "    print(plot_data[feature.feature_name])\n",
    "    print()"
   ]
  },
  {
   "cell_type": "markdown",
   "metadata": {
    "nbpresent": {
     "id": "f8a2f2aa-7dd1-497c-83d4-2af01eb519f1"
    }
   },
   "source": [
    "---"
   ]
  },
  {
   "cell_type": "markdown",
   "metadata": {
    "nbpresent": {
     "id": "6dbc48a4-51d2-4ffd-9a11-31691c809b54"
    }
   },
   "source": [
    "### In-depth exploration of features"
   ]
  },
  {
   "cell_type": "markdown",
   "metadata": {
    "ExecuteTime": {
     "end_time": "2018-08-26T20:28:27.584360Z",
     "start_time": "2018-08-26T20:28:27.530492Z"
    },
    "nbpresent": {
     "id": "56886c6a-d017-4cfd-837e-158044bc5a4d"
    }
   },
   "source": [
    "#### crashSeverity"
   ]
  },
  {
   "cell_type": "markdown",
   "metadata": {
    "nbpresent": {
     "id": "86a8d758-93af-4adc-9367-dfce63aaef6e"
    }
   },
   "source": [
    "Since this is our target feature for the final model, it makes sense to start with it."
   ]
  },
  {
   "cell_type": "code",
   "execution_count": 6,
   "metadata": {
    "ExecuteTime": {
     "end_time": "2018-08-27T02:53:39.688713Z",
     "start_time": "2018-08-27T02:53:39.567838Z"
    },
    "nbpresent": {
     "id": "9a9797c6-3bf8-415b-bf6e-48eec22b81f8"
    }
   },
   "outputs": [
    {
     "data": {
      "image/png": "[encoded data removed]",
      "text/plain": [
       "<matplotlib.figure.Figure at 0x105ee1e80>"
      ]
     },
     "metadata": {},
     "output_type": "display_data"
    }
   ],
   "source": [
    "plot_and_annotate(plot_data['crashSeverity'])"
   ]
  },
  {
   "cell_type": "markdown",
   "metadata": {
    "nbpresent": {
     "id": "b7f339b5-cc95-4972-b745-82d1738ea6fc"
    }
   },
   "source": [
    "The first thing that we notice is the astonishing small number of fatal crashes there has been; considering this is data going back to the year 2000.\n",
    "\n",
    "Also, it is important to note here –as the NZ Transport Agency warns– that the reporting of crashes increses with their severity. Meaning that all *fatal* crash have been most likely be reported, but that there will be *Non Fatal* and *Minor* crashes that weren't reported. This decision falls somewhat to the person in charge of responding to the crash.\n",
    "\n",
    "However, the most important thing to notice is how these classes are distributed and the imbalance between them. Since we want to predict these classes, and because the dispatched response would be very different depending on our prediction, we definitely need to be very carefull about how we measure the performance of our model.\n",
    "\n",
    "To this end, and considering we will be trying different models, we will rely on an array of performance metrics that will help us evaluate and chose the best model for the task. Namely, for each algorithm, we will analyze the following performance metrics:\n",
    "* Accuracy\n",
    "* Precision\n",
    "* Recall\n",
    "* F-Score\n",
    "* Specificity\n",
    "* AUC ROC\n",
    "\n",
    "Each of these metrics will provide valuable insight into the performance of each model and the aspects each one prioritized.\n",
    "\n",
    "Finally, due to the lack of balance of these values, we will explore a few techniques to remedy the situation. <span style=\"color: red\">CHECK FOR UNDERSAMPLING N</span>"
   ]
  },
  {
   "cell_type": "markdown",
   "metadata": {
    "nbpresent": {
     "id": "45435375-2890-4578-ac52-273ac788ab7a"
    }
   },
   "source": [
    "#### multiVehicle"
   ]
  },
  {
   "cell_type": "code",
   "execution_count": 7,
   "metadata": {
    "ExecuteTime": {
     "end_time": "2018-08-27T02:53:43.294824Z",
     "start_time": "2018-08-27T02:53:43.140457Z"
    },
    "nbpresent": {
     "id": "3e2f2c78-85c3-4ad5-885c-141e1c207833"
    }
   },
   "outputs": [
    {
     "data": {
      "image/png": "[encoded data removed]",
      "text/plain": [
       "<matplotlib.figure.Figure at 0x1a55b65390>"
      ]
     },
     "metadata": {},
     "output_type": "display_data"
    }
   ],
   "source": [
    "plot_and_annotate(plot_data['multiVehicle'])"
   ]
  },
  {
   "cell_type": "markdown",
   "metadata": {
    "nbpresent": {
     "id": "35382387-de71-47a2-af1b-4154a4e3883c"
    }
   },
   "source": [
    "This feature doesn't raise any alarm or suspitions with regard to its values. But we do take notice of its distribution. This will be helpful later when we look back into this in combination with other features."
   ]
  },
  {
   "cell_type": "markdown",
   "metadata": {
    "nbpresent": {
     "id": "9effcfed-9177-4b53-86cb-7314a4d98507"
    }
   },
   "source": [
    "#### holiday"
   ]
  },
  {
   "cell_type": "code",
   "execution_count": 8,
   "metadata": {
    "ExecuteTime": {
     "end_time": "2018-08-27T02:53:45.497074Z",
     "start_time": "2018-08-27T02:53:45.376414Z"
    },
    "nbpresent": {
     "id": "69e744fb-0e54-4f53-8565-57a0739dc9de"
    }
   },
   "outputs": [
    {
     "data": {
      "image/png": "[encoded data removed]",
      "text/plain": [
       "<matplotlib.figure.Figure at 0x1a60bdd240>"
      ]
     },
     "metadata": {},
     "output_type": "display_data"
    }
   ],
   "source": [
    "plot_and_annotate(plot_data['holiday'])"
   ]
  },
  {
   "cell_type": "markdown",
   "metadata": {},
   "source": [
    "Here we see something interesting. A quick search on the web will show that the Kiwis have a descent level of alcohol consumption. In fact, they have some of the finest Pinot Noir of the world. Yet we see that almost all crashes happened on a regular day; as oposed to some holiday. <span style=\"color:red\">Acutally –and we will show this later– this hold regardless of the serverity of the crash.</span>\n",
    "\n",
    "besides from this observation, the feature doesn't present any abnormalities."
   ]
  },
  {
   "cell_type": "markdown",
   "metadata": {},
   "source": [
    "#### regionDesc"
   ]
  },
  {
   "cell_type": "code",
   "execution_count": 9,
   "metadata": {
    "ExecuteTime": {
     "end_time": "2018-08-27T02:53:48.335417Z",
     "start_time": "2018-08-27T02:53:48.148806Z"
    }
   },
   "outputs": [
    {
     "data": {
      "image/png": "[encoded data removed]",
      "text/plain": [
       "<matplotlib.figure.Figure at 0x1a6bcd8a20>"
      ]
     },
     "metadata": {},
     "output_type": "display_data"
    }
   ],
   "source": [
    "plot_and_annotate(plot_data['regionDesc'])"
   ]
  },
  {
   "cell_type": "markdown",
   "metadata": {},
   "source": [
    "This features shows fair consistency with population density throughout the country. It will be interesting to see how the other feature behave with regard to this one. More about this later on."
   ]
  },
  {
   "cell_type": "markdown",
   "metadata": {},
   "source": [
    "#### tlaName"
   ]
  },
  {
   "cell_type": "markdown",
   "metadata": {},
   "source": [
    "As the catalog describes, this feature indicates the local authority that oversaw the crash and the following procedures. Therefore, for almost every case, the tlaName will be a district withing the region of the crash.\n",
    "\n",
    "However, for some cases, the tlaName will be a distrcit that doesn't belong to the region indicated for the crash. We understand that these cases correspond to crashes that happened close to the border between two regions and for some unknown reason, the TLA that responded to the crash was from another region from where the crash happened. We will consider this as of no consequence."
   ]
  },
  {
   "cell_type": "markdown",
   "metadata": {},
   "source": [
    "#### intersection"
   ]
  },
  {
   "cell_type": "code",
   "execution_count": 10,
   "metadata": {
    "ExecuteTime": {
     "end_time": "2018-08-27T02:53:50.754434Z",
     "start_time": "2018-08-27T02:53:50.646723Z"
    },
    "scrolled": true
   },
   "outputs": [
    {
     "data": {
      "image/png": "[encoded data removed]",
      "text/plain": [
       "<matplotlib.figure.Figure at 0x1a49c93f60>"
      ]
     },
     "metadata": {},
     "output_type": "display_data"
    }
   ],
   "source": [
    "plot_and_annotate(plot_data['intersection'])"
   ]
  },
  {
   "cell_type": "markdown",
   "metadata": {},
   "source": [
    "This feature doesn't present anything strange or special. One could argue though that the value *Unknown* deserves some special treatment. However, the NZ Transport Agency has defined it in the PDF as a proper value, giving it complete legitamecy."
   ]
  },
  {
   "cell_type": "markdown",
   "metadata": {},
   "source": [
    "#### junctionType"
   ]
  },
  {
   "cell_type": "code",
   "execution_count": 11,
   "metadata": {
    "ExecuteTime": {
     "end_time": "2018-08-27T02:53:53.010097Z",
     "start_time": "2018-08-27T02:53:52.874170Z"
    }
   },
   "outputs": [
    {
     "data": {
      "image/png": "[encoded data removed]",
      "text/plain": [
       "<matplotlib.figure.Figure at 0x1a191f30f0>"
      ]
     },
     "metadata": {},
     "output_type": "display_data"
    }
   ],
   "source": [
    "plot_and_annotate(plot_data['junctionType'])"
   ]
  },
  {
   "cell_type": "markdown",
   "metadata": {},
   "source": [
    "Again, as with *intersection*, the value *Unknown* is completely legitimate. Moreover, these two fetures are used in tandem to define a derived feature *intersectionMidblock*; so we musn't meddle with them."
   ]
  },
  {
   "cell_type": "markdown",
   "metadata": {},
   "source": [
    "#### cornerRoadSideRoad"
   ]
  },
  {
   "cell_type": "code",
   "execution_count": 12,
   "metadata": {
    "ExecuteTime": {
     "end_time": "2018-08-27T02:53:55.814020Z",
     "start_time": "2018-08-27T02:53:55.701466Z"
    }
   },
   "outputs": [
    {
     "data": {
      "image/png": "[encoded data removed]",
      "text/plain": [
       "<matplotlib.figure.Figure at 0x1a191dc630>"
      ]
     },
     "metadata": {},
     "output_type": "display_data"
    }
   ],
   "source": [
    "plot_and_annotate(plot_data['cornerRoadSideRoad'])"
   ]
  },
  {
   "cell_type": "markdown",
   "metadata": {},
   "source": [
    "here we finally see something that required our attention. First, let us clarify that the name of this feature in the dataset corresponds to the feature from the PDF refer to as Crash *Road Side Road (CR_RD_SIDE_RD)*. In the PDF, it says that the possible values are either `1`or `2`. But here we find that there are some cases with values `0` –which comes directly from the dataset– and with `N/A` –which was our way to denote missing values. So we definitely need to take some action in this case. So lets see how many cases do we have for these two values."
   ]
  },
  {
   "cell_type": "code",
   "execution_count": 13,
   "metadata": {
    "ExecuteTime": {
     "end_time": "2018-08-27T02:53:57.842656Z",
     "start_time": "2018-08-27T02:53:57.834805Z"
    }
   },
   "outputs": [
    {
     "data": {
      "text/html": [
       "<div>\n",
       "<style scoped>\n",
       "    .dataframe tbody tr th:only-of-type {\n",
       "        vertical-align: middle;\n",
       "    }\n",
       "\n",
       "    .dataframe tbody tr th {\n",
       "        vertical-align: top;\n",
       "    }\n",
       "\n",
       "    .dataframe thead th {\n",
       "        text-align: right;\n",
       "    }\n",
       "</style>\n",
       "<table border=\"1\" class=\"dataframe\">\n",
       "  <thead>\n",
       "    <tr style=\"text-align: right;\">\n",
       "      <th></th>\n",
       "      <th>cornerRoadSideRoad</th>\n",
       "      <th>percent</th>\n",
       "    </tr>\n",
       "  </thead>\n",
       "  <tbody>\n",
       "    <tr>\n",
       "      <th>1.0</th>\n",
       "      <td>610996</td>\n",
       "      <td>93.182674</td>\n",
       "    </tr>\n",
       "    <tr>\n",
       "      <th>2.0</th>\n",
       "      <td>44696</td>\n",
       "      <td>6.816563</td>\n",
       "    </tr>\n",
       "    <tr>\n",
       "      <th>0.0</th>\n",
       "      <td>3</td>\n",
       "      <td>0.000458</td>\n",
       "    </tr>\n",
       "    <tr>\n",
       "      <th>N/A</th>\n",
       "      <td>2</td>\n",
       "      <td>0.000305</td>\n",
       "    </tr>\n",
       "  </tbody>\n",
       "</table>\n",
       "</div>"
      ],
      "text/plain": [
       "     cornerRoadSideRoad    percent\n",
       "1.0              610996  93.182674\n",
       "2.0               44696   6.816563\n",
       "0.0                   3   0.000458\n",
       "N/A                   2   0.000305"
      ]
     },
     "execution_count": 13,
     "metadata": {},
     "output_type": "execute_result"
    }
   ],
   "source": [
    "plot_data['cornerRoadSideRoad']"
   ]
  },
  {
   "cell_type": "markdown",
   "metadata": {},
   "source": [
    "Ok, so we only have five anomalous cases. three for the value `0` and two that were missing values originally.\n",
    "\n",
    "One option would be to remove these five samples from the dataset altogether.\n",
    "\n",
    "Another options would be to fill these cases with an appropriate value. However, we have no criteria to choose such a value. Besides these few cases only represent an infinitesimal portion of the dataset.\n",
    "\n",
    "As a final check before removing them, let us see what is the creash severity for these cases."
   ]
  },
  {
   "cell_type": "code",
   "execution_count": 21,
   "metadata": {
    "ExecuteTime": {
     "end_time": "2018-08-27T02:55:29.830072Z",
     "start_time": "2018-08-27T02:55:29.805646Z"
    }
   },
   "outputs": [
    {
     "data": {
      "text/html": [
       "<div>\n",
       "<style scoped>\n",
       "    .dataframe tbody tr th:only-of-type {\n",
       "        vertical-align: middle;\n",
       "    }\n",
       "\n",
       "    .dataframe tbody tr th {\n",
       "        vertical-align: top;\n",
       "    }\n",
       "\n",
       "    .dataframe thead th {\n",
       "        text-align: right;\n",
       "    }\n",
       "</style>\n",
       "<table border=\"1\" class=\"dataframe\">\n",
       "  <thead>\n",
       "    <tr style=\"text-align: right;\">\n",
       "      <th></th>\n",
       "      <th>cornerRoadSideRoad</th>\n",
       "      <th>crashSeverity</th>\n",
       "    </tr>\n",
       "  </thead>\n",
       "  <tbody>\n",
       "    <tr>\n",
       "      <th>21021</th>\n",
       "      <td>0</td>\n",
       "      <td>N</td>\n",
       "    </tr>\n",
       "    <tr>\n",
       "      <th>26595</th>\n",
       "      <td>0</td>\n",
       "      <td>N</td>\n",
       "    </tr>\n",
       "    <tr>\n",
       "      <th>547028</th>\n",
       "      <td>N/A</td>\n",
       "      <td>N</td>\n",
       "    </tr>\n",
       "    <tr>\n",
       "      <th>583837</th>\n",
       "      <td>N/A</td>\n",
       "      <td>N</td>\n",
       "    </tr>\n",
       "    <tr>\n",
       "      <th>630452</th>\n",
       "      <td>0</td>\n",
       "      <td>N</td>\n",
       "    </tr>\n",
       "  </tbody>\n",
       "</table>\n",
       "</div>"
      ],
      "text/plain": [
       "       cornerRoadSideRoad crashSeverity\n",
       "21021                   0             N\n",
       "26595                   0             N\n",
       "547028                N/A             N\n",
       "583837                N/A             N\n",
       "630452                  0             N"
      ]
     },
     "execution_count": 21,
     "metadata": {},
     "output_type": "execute_result"
    }
   ],
   "source": [
    "mask = crash_data[crash_data['cornerRoadSideRoad'].isin([0, 'N/A'])]\n",
    "mask[['cornerRoadSideRoad', 'crashSeverity']]"
   ]
  },
  {
   "cell_type": "markdown",
   "metadata": {},
   "source": [
    "Great. They all correspond to non-injury cases. Since this is the class that is oversampled, we can go ahead and remove them without any significant loss of information."
   ]
  },
  {
   "cell_type": "code",
   "execution_count": 22,
   "metadata": {
    "ExecuteTime": {
     "end_time": "2018-08-27T02:59:59.585262Z",
     "start_time": "2018-08-27T02:59:59.166770Z"
    }
   },
   "outputs": [],
   "source": [
    "crash_data.drop(mask.index, inplace=True)"
   ]
  },
  {
   "cell_type": "markdown",
   "metadata": {
    "ExecuteTime": {
     "end_time": "2018-08-27T03:00:20.159682Z",
     "start_time": "2018-08-27T03:00:20.155370Z"
    }
   },
   "source": [
    "---"
   ]
  },
  {
   "cell_type": "markdown",
   "metadata": {},
   "source": [
    "#### directionRoleDescription\n",
    "\n",
    "<span style=\"color:red\">FIXME</span>"
   ]
  },
  {
   "cell_type": "code",
   "execution_count": 23,
   "metadata": {
    "ExecuteTime": {
     "end_time": "2018-08-27T03:00:11.333938Z",
     "start_time": "2018-08-27T03:00:11.211563Z"
    },
    "scrolled": false
   },
   "outputs": [
    {
     "data": {
      "image/png": "[encoded data removed]",
      "text/plain": [
       "<matplotlib.figure.Figure at 0x1a191148d0>"
      ]
     },
     "metadata": {},
     "output_type": "display_data"
    }
   ],
   "source": [
    "plot_and_annotate(plot_data['directionRoleDescription'])"
   ]
  },
  {
   "cell_type": "code",
   "execution_count": null,
   "metadata": {
    "ExecuteTime": {
     "end_time": "2018-08-27T02:46:36.295959Z",
     "start_time": "2018-08-27T02:46:36.288202Z"
    }
   },
   "outputs": [],
   "source": [
    "plot_data['directionRoleDescription']"
   ]
  },
  {
   "cell_type": "code",
   "execution_count": 26,
   "metadata": {
    "ExecuteTime": {
     "end_time": "2018-08-27T03:01:29.362763Z",
     "start_time": "2018-08-27T03:01:29.338199Z"
    }
   },
   "outputs": [
    {
     "data": {
      "text/html": [
       "<div>\n",
       "<style scoped>\n",
       "    .dataframe tbody tr th:only-of-type {\n",
       "        vertical-align: middle;\n",
       "    }\n",
       "\n",
       "    .dataframe tbody tr th {\n",
       "        vertical-align: top;\n",
       "    }\n",
       "\n",
       "    .dataframe thead th {\n",
       "        text-align: right;\n",
       "    }\n",
       "</style>\n",
       "<table border=\"1\" class=\"dataframe\">\n",
       "  <thead>\n",
       "    <tr style=\"text-align: right;\">\n",
       "      <th></th>\n",
       "      <th>directionRoleDescription</th>\n",
       "      <th>crashSeverity</th>\n",
       "    </tr>\n",
       "  </thead>\n",
       "  <tbody>\n",
       "  </tbody>\n",
       "</table>\n",
       "</div>"
      ],
      "text/plain": [
       "Empty DataFrame\n",
       "Columns: [directionRoleDescription, crashSeverity]\n",
       "Index: []"
      ]
     },
     "execution_count": 26,
     "metadata": {},
     "output_type": "execute_result"
    }
   ],
   "source": [
    "mask = crash_data[crash_data['directionRoleDescription'].isin([0, 'unknown'])]\n",
    "mask[['directionRoleDescription', 'crashSeverity']]"
   ]
  }
 ],
 "metadata": {
  "kernelspec": {
   "display_name": "Python [conda env:anaconda3]",
   "language": "python",
   "name": "conda-env-anaconda3-py"
  },
  "language_info": {
   "codemirror_mode": {
    "name": "ipython",
    "version": 3
   },
   "file_extension": ".py",
   "mimetype": "text/x-python",
   "name": "python",
   "nbconvert_exporter": "python",
   "pygments_lexer": "ipython3",
   "version": "3.6.5"
  }
 },
 "nbformat": 4,
 "nbformat_minor": 2
}
