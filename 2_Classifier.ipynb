{
 "cells": [
  {
   "cell_type": "markdown",
   "metadata": {},
   "source": [
    "# 1. Initialization"
   ]
  },
  {
   "cell_type": "code",
   "execution_count": 1,
   "metadata": {
    "ExecuteTime": {
     "end_time": "2018-09-20T01:39:18.891846Z",
     "start_time": "2018-09-20T01:39:17.045489Z"
    }
   },
   "outputs": [],
   "source": [
    "import numpy as np\n",
    "import pandas as pd\n",
    "import seaborn as sns\n",
    "from matplotlib import pyplot as plt\n",
    "\n",
    "from sklearn.model_selection import train_test_split\n",
    "\n",
    "plt.style.use('fivethirtyeight')\n",
    "%matplotlib inline"
   ]
  },
  {
   "cell_type": "code",
   "execution_count": 2,
   "metadata": {
    "ExecuteTime": {
     "end_time": "2018-09-20T01:39:22.460545Z",
     "start_time": "2018-09-20T01:39:18.893739Z"
    }
   },
   "outputs": [],
   "source": [
    "crash_data_clean = pd.read_csv('Crash_Analysis_System_CAS_data_clean.csv', keep_default_na=False)"
   ]
  },
  {
   "cell_type": "markdown",
   "metadata": {},
   "source": [
    "# 2. Preprocessing"
   ]
  },
  {
   "cell_type": "markdown",
   "metadata": {},
   "source": [
    "Talk about no need for feature scaling or transformation, nor normalizaton\n",
    "Why one hot encoding and not label encoding, why not ordinal labels and the need to have categorical features binarized\n",
    "\n",
    "Explore and choose the right metric"
   ]
  },
  {
   "cell_type": "code",
   "execution_count": 3,
   "metadata": {
    "ExecuteTime": {
     "end_time": "2018-09-20T01:39:22.483274Z",
     "start_time": "2018-09-20T01:39:22.462870Z"
    }
   },
   "outputs": [],
   "source": [
    "def parse_type(dtype):\n",
    "    if dtype == 'int':\n",
    "        return np.int8\n",
    "    elif dtype == 'float':\n",
    "        return np.float\n",
    "    else:\n",
    "        return dtype\n",
    "\n",
    "# Read features descriptions\n",
    "features_catalog = pd.read_table('features_description.tsv')\n",
    "# Make a dict to use as dtypes for panda's dataframe\n",
    "features_dtypes = features_catalog.set_index('feature_name')['pandas_dtype'].apply(parse_type).to_dict()\n",
    "# Keep only the columns that remain in the clean version of the dataframe\n",
    "features_dtypes = {k: v for k, v in features_dtypes.items() if k in crash_data_clean.columns}"
   ]
  },
  {
   "cell_type": "code",
   "execution_count": 4,
   "metadata": {
    "ExecuteTime": {
     "end_time": "2018-09-20T01:39:23.218479Z",
     "start_time": "2018-09-20T01:39:22.485377Z"
    }
   },
   "outputs": [],
   "source": [
    "crash_data_clean = crash_data_clean.astype(features_dtypes, copy=False)"
   ]
  },
  {
   "cell_type": "code",
   "execution_count": 5,
   "metadata": {
    "ExecuteTime": {
     "end_time": "2018-09-20T01:39:23.421874Z",
     "start_time": "2018-09-20T01:39:23.220075Z"
    }
   },
   "outputs": [],
   "source": [
    "crash_data_clean['speedLimit'] = crash_data_clean['speedLimit'].apply(lambda x: 999 if x == -1 else x)"
   ]
  },
  {
   "cell_type": "code",
   "execution_count": 6,
   "metadata": {
    "ExecuteTime": {
     "end_time": "2018-09-20T01:39:24.469192Z",
     "start_time": "2018-09-20T01:39:23.424414Z"
    }
   },
   "outputs": [],
   "source": [
    "categorical_features = list(features_catalog[features_catalog['feature_type'] == 'categorical']['feature_name'])\n",
    "categorical_features.remove('crashSeverity')\n",
    "crash_data_ohe = pd.get_dummies(crash_data_clean,columns=categorical_features)"
   ]
  },
  {
   "cell_type": "code",
   "execution_count": 7,
   "metadata": {
    "ExecuteTime": {
     "end_time": "2018-09-20T01:39:24.481969Z",
     "start_time": "2018-09-20T01:39:24.471277Z"
    }
   },
   "outputs": [],
   "source": [
    "from sklearn.naive_bayes import MultinomialNB\n",
    "from sklearn.model_selection import GridSearchCV\n",
    "from sklearn.metrics import accuracy_score, precision_score, recall_score, f1_score, fbeta_score, make_scorer\n",
    "\n",
    "def print_results(true, pred, betta=1):\n",
    "    print('Accuracy score: ', format(accuracy_score(true, pred)))\n",
    "    print('Precision score: ', format(precision_score(true, pred, average='weighted')))\n",
    "    print('Recall score: ', format(recall_score(true, pred, average='weighted')))\n",
    "    print('F1 score: ', format(f1_score(true, pred, average='weighted')))\n",
    "    print('F betta score with betta=%.2f: ' % betta, format(fbeta_score(true, pred, betta, average='weighted')))"
   ]
  },
  {
   "cell_type": "code",
   "execution_count": 8,
   "metadata": {
    "ExecuteTime": {
     "end_time": "2018-09-20T01:39:24.976041Z",
     "start_time": "2018-09-20T01:39:24.485020Z"
    }
   },
   "outputs": [],
   "source": [
    "y = crash_data_ohe['crashSeverity']\n",
    "X = crash_data_ohe.drop('crashSeverity', axis=1)"
   ]
  },
  {
   "cell_type": "code",
   "execution_count": 9,
   "metadata": {
    "ExecuteTime": {
     "end_time": "2018-09-20T01:39:28.930613Z",
     "start_time": "2018-09-20T01:39:28.200925Z"
    }
   },
   "outputs": [],
   "source": [
    "X_train, X_test, y_train, y_test = train_test_split(X, y, test_size=0.6, random_state=42)"
   ]
  },
  {
   "cell_type": "markdown",
   "metadata": {},
   "source": [
    "# 3. Benchmark"
   ]
  },
  {
   "cell_type": "markdown",
   "metadata": {},
   "source": [
    "<span style=\"color:red\">USE K-FOLD</span>\n",
    "\n",
    "also try:\n",
    "\n",
    "* Naive Bayes\n",
    "* sklearn.ensemble.GradientBoostingClassifier\n",
    "* XGBoost\n",
    "* LGBM\n",
    "* Random Forest"
   ]
  },
  {
   "cell_type": "code",
   "execution_count": 11,
   "metadata": {
    "ExecuteTime": {
     "end_time": "2018-09-20T01:40:00.705736Z",
     "start_time": "2018-09-20T01:39:54.815318Z"
    }
   },
   "outputs": [
    {
     "name": "stdout",
     "output_type": "stream",
     "text": [
      "Accuracy score:  0.8777929097331574\n",
      "Precision score:  0.9670136987250405\n",
      "Recall score:  0.8777929097331574\n",
      "F1 score:  0.9157455566035368\n",
      "F betta score with betta=0.50:  0.9455543788431858\n"
     ]
    }
   ],
   "source": [
    "clf_multi = MultinomialNB()\n",
    "\n",
    "clf_multi.fit(X_train, y_train)\n",
    "predictions = clf_multi.predict(X_test)\n",
    "print_results(y_test, predictions, betta=.5)"
   ]
  },
  {
   "cell_type": "markdown",
   "metadata": {
    "ExecuteTime": {
     "end_time": "2018-09-18T02:07:13.723383Z",
     "start_time": "2018-09-18T02:07:13.718403Z"
    }
   },
   "source": [
    "One of the major advantages that Naive Bayes has over other classification algorithms is its ability to handle an extremely large number of features. In our case, each word is treated as a feature and there are thousands of different words. Also, it performs well even with the presence of irrelevant features and is relatively unaffected by them. The other major advantage it has is its relative simplicity. Naive Bayes' works well right out of the box and tuning it's parameters is rarely ever necessary, except usually in cases where the distribution of the data is known. \n",
    "It rarely ever overfits the data. Another important advantage is that its model training and prediction times are very fast for the amount of data it can handle. All in all, Naive Bayes' really is a gem of an algorithm!\n",
    "\n",
    "Congratulations! You have successfully designed a model that can efficiently predict if an SMS message is spam or not!\n",
    "\n",
    "Thank you for learning with us!\n",
    "\n",
    "HOW TO DO ROC/AUC?\n",
    "HOW TO IMPROVE THESE METRICS?\n",
    "\n",
    "Feature selection is not a must-do task for RF algorithm"
   ]
  },
  {
   "cell_type": "code",
   "execution_count": 12,
   "metadata": {
    "ExecuteTime": {
     "end_time": "2018-09-20T01:40:18.518723Z",
     "start_time": "2018-09-20T01:40:18.458389Z"
    }
   },
   "outputs": [],
   "source": [
    "from sklearn.ensemble import RandomForestClassifier\n",
    "\n",
    "clf = RandomForestClassifier(random_state=42, n_jobs=-1)"
   ]
  },
  {
   "cell_type": "code",
   "execution_count": 13,
   "metadata": {
    "ExecuteTime": {
     "end_time": "2018-09-20T01:40:26.973465Z",
     "start_time": "2018-09-20T01:40:21.445007Z"
    },
    "scrolled": true
   },
   "outputs": [],
   "source": [
    "clf.fit(X_train, y_train)\n",
    "predictions = clf.predict(X_test)"
   ]
  },
  {
   "cell_type": "code",
   "execution_count": 14,
   "metadata": {
    "ExecuteTime": {
     "end_time": "2018-09-20T01:40:30.788465Z",
     "start_time": "2018-09-20T01:40:29.200542Z"
    },
    "scrolled": true
   },
   "outputs": [
    {
     "data": {
      "text/plain": [
       "0.99769917436268463"
      ]
     },
     "execution_count": 14,
     "metadata": {},
     "output_type": "execute_result"
    }
   ],
   "source": [
    "clf.score(X_test, y_test)"
   ]
  },
  {
   "cell_type": "code",
   "execution_count": 15,
   "metadata": {
    "ExecuteTime": {
     "end_time": "2018-09-20T01:40:45.709176Z",
     "start_time": "2018-09-20T01:40:39.839611Z"
    },
    "scrolled": true
   },
   "outputs": [
    {
     "name": "stdout",
     "output_type": "stream",
     "text": [
      "Accuracy score:  0.9976991743626846\n",
      "Precision score:  0.9976951594931124\n",
      "Recall score:  0.9976991743626846\n",
      "F1 score:  0.9976779446393178\n",
      "F betta score with betta=1.00:  0.9976779446393178\n"
     ]
    }
   ],
   "source": [
    "print_results(y_test, predictions)"
   ]
  },
  {
   "cell_type": "code",
   "execution_count": null,
   "metadata": {
    "ExecuteTime": {
     "end_time": "2018-09-19T05:07:36.886949Z",
     "start_time": "2018-09-19T04:53:24.305209Z"
    },
    "scrolled": true
   },
   "outputs": [],
   "source": [
    "parameters = {\n",
    "    'n_estimators': [10, 50, 100, 200],\n",
    "    'criterion': ['gini'],\n",
    "    'max_depth': [3, 4, 5, 6],\n",
    "    'min_samples_split': [1000, 5000, 10000]\n",
    "}\n",
    "\n",
    "# Prioritize Precision over Recall\n",
    "scorer = make_scorer(fbeta_score, beta=.5, average='weighted')\n",
    "grid_obj = GridSearchCV(clf, parameters, scorer, verbose=2)\n",
    "grid_fit = grid_obj.fit(X_train, y_train)"
   ]
  },
  {
   "cell_type": "code",
   "execution_count": null,
   "metadata": {
    "ExecuteTime": {
     "end_time": "2018-09-19T05:09:01.582362Z",
     "start_time": "2018-09-19T05:08:50.932410Z"
    },
    "scrolled": true
   },
   "outputs": [],
   "source": [
    "best_clf = grid_fit.best_estimator_\n",
    "\n",
    "# Make predictions using the unoptimized and model\n",
    "predictions = (clf.fit(X_train, y_train)).predict(X_test)\n",
    "best_predictions = best_clf.predict(X_test)\n",
    "\n",
    "# Report the before-and-afterscores\n",
    "print(\"Unoptimized model\\n------\")\n",
    "print(\"Accuracy score on testing data: {:.4f}\".format(accuracy_score(y_test, predictions)))\n",
    "print(\"F-score on testing data: {:.4f}\".format(fbeta_score(y_test, predictions, beta = 0.5, average='weighted')))\n",
    "print(\"\\nOptimized Model\\n------\")\n",
    "print(\"Final accuracy score on the testing data: {:.4f}\".format(accuracy_score(y_test, best_predictions)))\n",
    "print(\"Final F-score on the testing data: {:.4f}\".format(fbeta_score(y_test, best_predictions, beta = 0.5, average='weighted')))"
   ]
  },
  {
   "cell_type": "code",
   "execution_count": null,
   "metadata": {
    "ExecuteTime": {
     "end_time": "2018-09-19T05:29:42.870292Z",
     "start_time": "2018-09-19T05:29:42.754202Z"
    },
    "scrolled": true
   },
   "outputs": [],
   "source": [
    "best_clf.feature_importances_"
   ]
  },
  {
   "cell_type": "code",
   "execution_count": null,
   "metadata": {
    "ExecuteTime": {
     "end_time": "2018-09-19T05:29:45.815832Z",
     "start_time": "2018-09-19T05:29:45.699836Z"
    },
    "scrolled": true
   },
   "outputs": [],
   "source": [
    "clf.feature_importances_"
   ]
  }
 ],
 "metadata": {
  "kernelspec": {
   "display_name": "Python [conda env:anaconda3]",
   "language": "python",
   "name": "conda-env-anaconda3-py"
  },
  "language_info": {
   "codemirror_mode": {
    "name": "ipython",
    "version": 3
   },
   "file_extension": ".py",
   "mimetype": "text/x-python",
   "name": "python",
   "nbconvert_exporter": "python",
   "pygments_lexer": "ipython3",
   "version": "3.6.5"
  }
 },
 "nbformat": 4,
 "nbformat_minor": 2
}
