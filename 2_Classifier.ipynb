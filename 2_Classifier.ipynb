{
 "cells": [
  {
   "cell_type": "markdown",
   "metadata": {},
   "source": [
    "# 1. Initialization"
   ]
  },
  {
   "cell_type": "code",
   "execution_count": 17,
   "metadata": {
    "ExecuteTime": {
     "end_time": "2018-09-16T19:05:18.468525Z",
     "start_time": "2018-09-16T19:05:18.381767Z"
    }
   },
   "outputs": [],
   "source": [
    "import numpy as np\n",
    "import pandas as pd\n",
    "import seaborn as sns\n",
    "from matplotlib import pyplot as plt\n",
    "\n",
    "from sklearn.model_selection import train_test_split\n",
    "\n",
    "plt.style.use('fivethirtyeight')\n",
    "%matplotlib inline"
   ]
  },
  {
   "cell_type": "code",
   "execution_count": 2,
   "metadata": {
    "ExecuteTime": {
     "end_time": "2018-09-16T18:55:45.324446Z",
     "start_time": "2018-09-16T18:55:41.384541Z"
    }
   },
   "outputs": [],
   "source": [
    "crash_data_clean = pd.read_csv('Crash_Analysis_System_CAS_data_clean.csv', keep_default_na=False)"
   ]
  },
  {
   "cell_type": "markdown",
   "metadata": {},
   "source": [
    "# 2. Preprocessing"
   ]
  },
  {
   "cell_type": "code",
   "execution_count": 4,
   "metadata": {
    "ExecuteTime": {
     "end_time": "2018-09-16T18:56:30.283895Z",
     "start_time": "2018-09-16T18:56:30.275138Z"
    }
   },
   "outputs": [],
   "source": [
    "def parse_type(dtype):\n",
    "    if dtype == 'int':\n",
    "        return np.int8\n",
    "    elif dtype == 'float':\n",
    "        return np.float\n",
    "    else:\n",
    "        return dtype\n",
    "\n",
    "# Read features descriptions\n",
    "features_catalog = pd.read_table('features_description.tsv')\n",
    "# Make a dict to use as dtypes for panda's dataframe\n",
    "features_dtypes = features_catalog.set_index('feature_name')['pandas_dtype'].apply(parse_type).to_dict()\n",
    "# Keep only the columns that remain in the clean version of the dataframe\n",
    "features_dtypes = {k: v for k, v in features_dtypes.items() if k in crash_data_clean.columns}"
   ]
  },
  {
   "cell_type": "code",
   "execution_count": 12,
   "metadata": {
    "ExecuteTime": {
     "end_time": "2018-09-16T18:59:05.283881Z",
     "start_time": "2018-09-16T18:59:05.238450Z"
    }
   },
   "outputs": [],
   "source": [
    "crash_data_clean = crash_data_clean.astype(features_dtypes, copy=False)"
   ]
  },
  {
   "cell_type": "code",
   "execution_count": 14,
   "metadata": {
    "ExecuteTime": {
     "end_time": "2018-09-16T19:02:23.560481Z",
     "start_time": "2018-09-16T19:02:22.503340Z"
    }
   },
   "outputs": [],
   "source": [
    "categorical_features = list(features_catalog[features_catalog['feature_type'] == 'categorical']['feature_name'])\n",
    "categorical_features.remove('crashSeverity')\n",
    "crash_data_ohe = pd.get_dummies(crash_data_clean,columns=categorical_features)"
   ]
  },
  {
   "cell_type": "code",
   "execution_count": 15,
   "metadata": {
    "ExecuteTime": {
     "end_time": "2018-09-16T19:04:36.980913Z",
     "start_time": "2018-09-16T19:04:36.499298Z"
    }
   },
   "outputs": [],
   "source": [
    "y = crash_data_ohe['crashSeverity']\n",
    "X = crash_data_ohe.drop('crashSeverity', axis=1)"
   ]
  },
  {
   "cell_type": "code",
   "execution_count": 18,
   "metadata": {
    "ExecuteTime": {
     "end_time": "2018-09-16T19:06:02.004240Z",
     "start_time": "2018-09-16T19:06:01.173610Z"
    }
   },
   "outputs": [],
   "source": [
    "X_train, X_test, y_train, y_test = train_test_split(X, y, test_size=0.33, random_state=42)"
   ]
  },
  {
   "cell_type": "markdown",
   "metadata": {},
   "source": [
    "<span style=\"color:red\">USE K-FOLD</span>\n",
    "\n",
    "also try:\n",
    "\n",
    "* Naive Bayes\n",
    "* sklearn.ensemble.GradientBoostingClassifier\n",
    "* XGBoost\n",
    "* LGBM\n",
    "* Bagging\n",
    "* Random Forest"
   ]
  }
 ],
 "metadata": {
  "kernelspec": {
   "display_name": "Python [conda env:anaconda3]",
   "language": "python",
   "name": "conda-env-anaconda3-py"
  },
  "language_info": {
   "codemirror_mode": {
    "name": "ipython",
    "version": 3
   },
   "file_extension": ".py",
   "mimetype": "text/x-python",
   "name": "python",
   "nbconvert_exporter": "python",
   "pygments_lexer": "ipython3",
   "version": "3.6.5"
  }
 },
 "nbformat": 4,
 "nbformat_minor": 2
}
